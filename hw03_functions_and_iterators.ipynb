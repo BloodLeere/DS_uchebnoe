{
 "cells": [
  {
   "cell_type": "markdown",
   "id": "U5A_2YaklLKP",
   "metadata": {
    "id": "U5A_2YaklLKP"
   },
   "source": [
    "# Домашнее задание 3"
   ]
  },
  {
   "cell_type": "markdown",
   "id": "90059577-47c3-4f33-b53f-23329e51382b",
   "metadata": {
    "id": "90059577-47c3-4f33-b53f-23329e51382b"
   },
   "source": [
    "## Информация перед выполнением"
   ]
  },
  {
   "cell_type": "markdown",
   "id": "fd1d3fa9-4ca1-4df6-8540-3f13174673ec",
   "metadata": {
    "id": "fd1d3fa9-4ca1-4df6-8540-3f13174673ec"
   },
   "source": [
    "**Указания:**\n",
    "\n",
    "1. Отвечать на вопросы в чате надо описанием идеи или ссылкой на источники - не лишайте других радости от **самостоятельно** найденного решения!\n",
    "2. Перед отправкой на проверку перезапустите ядро и запустите подряд все ячейки. Это можно сделать руками, а можно через Kernel --> Restart Kernel and Run All Cells, но второй вариант сработает только если ячейки запускаются без ошибок). Если есть ошибки, которые вы хотите показать проверяющему, то продолжите выполнять ячейки руками.\n",
    "3. Если какую-то задачу сделать не получилось, то виде **комментария к ячейке** с кодом этой задачи опишите свой ход мыслей или вопрос. **Комментарий к ячейке** вы можете оставить **только** в колабе: ПКМ по ячейке --> \"оставить комментарий\". Так проверяющий сможет вам помочь.\n",
    "4. Нерешенные задачи без вашего **комментария к ячейке** считаются нетронутыми, даже если в них есть код.\n",
    "5. Максимум за задание 10.5 первичных баллов\n",
    "6. Итоговая оценка ставится по формуле: `сумма_баллов // 2`"
   ]
  },
  {
   "cell_type": "markdown",
   "id": "3de8bb5e-33e0-4408-bc6c-53af9db00d7a",
   "metadata": {
    "id": "3de8bb5e-33e0-4408-bc6c-53af9db00d7a"
   },
   "source": [
    "**Примечания и советы:**\n",
    "\n",
    "- Называйте переменные осмысленно\n",
    "- Сначала решите все задачи, которые сразу понимаете как решать\n",
    "- Если застряли на какой-то задаче, то попробуйте переключиться на другую\n",
    "- Стиль оформления кода должен соответствовать PEP8; строго это не отслеживается, но в случае злоупотреблений вас попросят переписать\n",
    "- Проверяйте работоспособность вашего кода на ячейках с тестами\n",
    "- Тесты не являются гарантией, что все хорошо\n",
    "- В тестах можно подсмотреть, как функция будет использоваться\n",
    "- Не запрещено создавать дополнительные функции в той же ячейке с кодом, если это вам поможет, например, логически структурировать код\n",
    "- Проверьте, что все ячейки выполняются без ошибок\n",
    "- В отправляемом на проверку ноутбуке не должно быть черновых ячеек - за них будут сниматься баллы\n",
    "- Проверяющий запускает код только при необходимости для проверки на собственных тестах"
   ]
  },
  {
   "cell_type": "markdown",
   "id": "fd3a8e51-0a6a-488d-b1a5-c628af451ac0",
   "metadata": {
    "id": "fd3a8e51-0a6a-488d-b1a5-c628af451ac0"
   },
   "source": [
    "**Для статистики:**\n",
    "\n",
    "- Просьба указывать используемые источники (в виде текстовой ячейки после кода), если вы нашли решение/идею/подсказку/etc в интернете/чате/etc.\n",
    "- Если таких источников несколько - просьба указать хотя бы 2-3 основных.\n",
    "- Если вы взяли чужое решение задачи, об этом также нужно указать."
   ]
  },
  {
   "cell_type": "markdown",
   "id": "9b05018f-338f-489b-af5a-90248d6bc29e",
   "metadata": {
    "id": "9b05018f-338f-489b-af5a-90248d6bc29e"
   },
   "source": [
    "Если вы прочитали все пункты, поменяйте значение переменной `i_have_read_all_the_information` в коде ниже на `True` и запустите ячейку. Она должна отработать без ошибок:"
   ]
  },
  {
   "cell_type": "code",
   "execution_count": 1,
   "id": "843b90ba-d4aa-4c2a-910f-f40d767d2da9",
   "metadata": {
    "id": "843b90ba-d4aa-4c2a-910f-f40d767d2da9"
   },
   "outputs": [],
   "source": [
    "i_have_read_all_the_information = False\n",
    "i_have_read_all_the_information = True\n",
    "assert i_have_read_all_the_information"
   ]
  },
  {
   "cell_type": "markdown",
   "id": "0KRsHwATlHQU",
   "metadata": {
    "id": "0KRsHwATlHQU"
   },
   "source": [
    "# Часть 1. Функции и алгоритмы (6 баллов)"
   ]
  },
  {
   "cell_type": "markdown",
   "id": "934dda1a",
   "metadata": {
    "id": "934dda1a"
   },
   "source": [
    "## Задача 1 (0.5)"
   ]
  },
  {
   "cell_type": "markdown",
   "id": "oYQTNvd3t6-v",
   "metadata": {
    "id": "oYQTNvd3t6-v"
   },
   "source": [
    "Реализуйте функцию `is_prime`, проверяющую целое число n на простоту. Число является простым, если у него всего два различных делителя. Гарантируется, что числа будут целыми.\n",
    "\n",
    "Напишите вашу функцию так, чтобы аргументом мог быть не только `int` (посмотрите тесты ниже)."
   ]
  },
  {
   "cell_type": "code",
   "execution_count": 24,
   "id": "03a316f8",
   "metadata": {
    "id": "03a316f8"
   },
   "outputs": [],
   "source": [
    "def is_prime(n):\n",
    "    \"\"\"Check if the number n is prime or not.\"\"\"\n",
    "    try:\n",
    "        n = int(n)\n",
    "    except (ValueError, TypeError):\n",
    "        return False\n",
    "\n",
    "    if n <= 1:\n",
    "        return False\n",
    "    if n == 2:\n",
    "        return True\n",
    "    if n % 2 == 0:\n",
    "        return False\n",
    "    \n",
    "    a = 3\n",
    "    while a * a <= n:\n",
    "        if n % a == 0:\n",
    "            return False\n",
    "        a += 2\n",
    "    return True\n",
    "pass"
   ]
  },
  {
   "cell_type": "code",
   "execution_count": 25,
   "id": "3e6174db",
   "metadata": {
    "id": "3e6174db"
   },
   "outputs": [],
   "source": [
    "# tests\n",
    "assert not is_prime(1), 'test 1'\n",
    "assert is_prime(2.0), 'test 2'\n",
    "assert is_prime(3), 'test 3'\n",
    "assert not is_prime(4), 'test 4'\n",
    "assert is_prime('2017'), 'test 5'\n",
    "assert not is_prime('12709189.00'), 'test 6'\n",
    "assert is_prime(18375703.0), 'test 7'  # возможно этот тест будет проверяться долго - зависит от вашего алгоритма :)"
   ]
  },
  {
   "cell_type": "markdown",
   "id": "HUFvR1e7wrcw",
   "metadata": {
    "id": "HUFvR1e7wrcw"
   },
   "source": [
    "## Задача 2 (0.5)"
   ]
  },
  {
   "cell_type": "markdown",
   "id": "rtpfvp4Shz3Q",
   "metadata": {
    "id": "rtpfvp4Shz3Q"
   },
   "source": [
    "Напишите функцию `rle`, имплементирующую алгоритм rle: https://en.wikipedia.org/wiki/Run-length_encoding\n",
    "\n",
    "**Указания:**\n",
    "- на вход приходит строка\n",
    "- алгоритм должен работать за один проход по строке, т.е. работать за $O(n)$"
   ]
  },
  {
   "cell_type": "code",
   "execution_count": 26,
   "id": "LwsWf-qblYJo",
   "metadata": {
    "id": "LwsWf-qblYJo"
   },
   "outputs": [],
   "source": [
    "def rle(s):\n",
    "    \"\"\"Run-length encoding\"\"\"\n",
    "    if not s:\n",
    "        return \"\"\n",
    "    \n",
    "    encoding = \"\"\n",
    "    count = 1\n",
    "    prev_char = s[0]\n",
    "\n",
    "    for char in s[1:]:\n",
    "        if char == prev_char:\n",
    "            count += 1\n",
    "        else:\n",
    "            encoding += str(count) + prev_char\n",
    "            count = 1\n",
    "            prev_char = char\n",
    "\n",
    "    encoding += str(count) + prev_char\n",
    "    return encoding\n"
   ]
  },
  {
   "cell_type": "code",
   "execution_count": 27,
   "id": "N8uuk0HPiYuq",
   "metadata": {
    "id": "N8uuk0HPiYuq"
   },
   "outputs": [
    {
     "name": "stdout",
     "output_type": "stream",
     "text": [
      "Gotovo\n"
     ]
    }
   ],
   "source": [
    "# test\n",
    "\n",
    "assert rle('wwwwwwbwwwwwwbbbwwwwwwwwwwb') == '6w1b6w3b10w1b'\n",
    "print('Gotovo')"
   ]
  },
  {
   "cell_type": "markdown",
   "id": "1DrqecXKzfLZ",
   "metadata": {
    "id": "1DrqecXKzfLZ"
   },
   "source": [
    "## Задача 3 (0.5 + 0.5)"
   ]
  },
  {
   "cell_type": "markdown",
   "id": "30c8e41b-562c-48b4-87af-7ffe6513b216",
   "metadata": {
    "id": "30c8e41b-562c-48b4-87af-7ffe6513b216"
   },
   "source": [
    "### Задача 3.1"
   ]
  },
  {
   "cell_type": "markdown",
   "id": "c33449a2-f2ae-4ac4-92a3-3d560637439d",
   "metadata": {
    "id": "c33449a2-f2ae-4ac4-92a3-3d560637439d"
   },
   "source": [
    "$$f(x, y, z) = \\dfrac{3x^2 - 4\\exp(xy) + \\sqrt{3}\\ln z\\cdot xy^4}{\\left(\\sin y\\right)^{\\pi \\cdot \\log_{10}z}}$$\n",
    "\n",
    "Реализуйте функцию `f`, используя `math`."
   ]
  },
  {
   "cell_type": "code",
   "execution_count": 28,
   "id": "609a7353-6821-4a57-b95b-5cfb57b75b1d",
   "metadata": {
    "id": "609a7353-6821-4a57-b95b-5cfb57b75b1d",
    "tags": []
   },
   "outputs": [
    {
     "name": "stdin",
     "output_type": "stream",
     "text": [
      " 2\n",
      " 3\n",
      " 1\n"
     ]
    },
    {
     "name": "stdout",
     "output_type": "stream",
     "text": [
      "-1601.7151739709404\n"
     ]
    }
   ],
   "source": [
    "import math\n",
    "\n",
    "def f(x, y, z):\n",
    "    chislitel = (3 * (x ** 2)) - 4 * math.exp(x * y) + math.sqrt(3) * math.log(z) * x * (y ** 4)\n",
    "    znamenatel = (math.sin(y)) ** (math.pi * math.log10(z))\n",
    "    result = chislitel / znamenatel\n",
    "    print(result)\n",
    "    \n",
    "x = int(input())\n",
    "y = int(input())\n",
    "z = int(input())\n",
    "\n",
    "f(x, y, z)"
   ]
  },
  {
   "cell_type": "markdown",
   "id": "bdfbb65f-cd08-4d4f-be2b-0a1431009cd2",
   "metadata": {
    "id": "bdfbb65f-cd08-4d4f-be2b-0a1431009cd2"
   },
   "source": [
    "### Задача 3.2"
   ]
  },
  {
   "cell_type": "markdown",
   "id": "9GYamw8_npBz",
   "metadata": {
    "id": "9GYamw8_npBz"
   },
   "source": [
    "Напишите функцию `vector_angle`, возвращающую угол в радианах между двумя векторами.\n",
    "\n",
    "**Указания:**\n",
    "- вектор задается списком\n",
    "- гарантируется, что вектор не нулевой\n",
    "- все что надо для функции уже импортировано в ее ячейке\n",
    "- отдельные объекты импортируются для тестов"
   ]
  },
  {
   "cell_type": "code",
   "execution_count": 29,
   "id": "tfDFZesWihIQ",
   "metadata": {
    "id": "tfDFZesWihIQ"
   },
   "outputs": [],
   "source": [
    "from math import sqrt, acos\n",
    "\n",
    "\n",
    "def vector_angle(left, right):\n",
    "    dot_product = sum(a * b for a, b in zip(left, right))\n",
    "    \n",
    "    norm_left = math.sqrt(sum(a * a for a in left))\n",
    "    norm_right = math.sqrt(sum(b * b for b in right))\n",
    "    \n",
    "    cos_theta = dot_product / (norm_left * norm_right)\n",
    "    \n",
    "    angle = math.acos(cos_theta)\n",
    "    \n",
    "    return angle\n",
    "    return angle\n",
    "    pass"
   ]
  },
  {
   "cell_type": "code",
   "execution_count": 30,
   "id": "d5XCXQn6qJY_",
   "metadata": {
    "id": "d5XCXQn6qJY_"
   },
   "outputs": [
    {
     "name": "stdout",
     "output_type": "stream",
     "text": [
      "Vse gotovo\n"
     ]
    }
   ],
   "source": [
    "# tests\n",
    "from math import pi, cos, sin\n",
    "from random import randint, uniform\n",
    "\n",
    "angle = uniform(0, pi / 2)\n",
    "left = [randint(0, 5), randint(0, 10)]\n",
    "right = [left[0] * cos(angle) - left[1] * sin(angle), left[0] * sin(angle) + left[1] * cos(angle)]\n",
    "\n",
    "assert vector_angle([1, 0], [1, 0]) == 0, 'test1'\n",
    "assert round(vector_angle([1, 0, 1], [0, 0, 1]), 2) == round(pi / 4, 2), 'test2'\n",
    "assert round(vector_angle(left, right), 2) == round(angle, 2), 'test3'\n",
    "\n",
    "print('Vse gotovo')"
   ]
  },
  {
   "cell_type": "markdown",
   "id": "O3x8MYoPzLHH",
   "metadata": {
    "id": "O3x8MYoPzLHH"
   },
   "source": [
    "## Задача 4 (0.5)"
   ]
  },
  {
   "cell_type": "markdown",
   "id": "8UJ6POZMzOBj",
   "metadata": {
    "id": "8UJ6POZMzOBj"
   },
   "source": [
    "Реализовать функции `dot` и `dot_one_line`, которые принимают на вход две матрицы и возвращают их произведение или выводят сообщение о некорректности входа.\n",
    "\n",
    "Напоминание про умножение матриц: $$A^{n, m} \\times B^{m, k} = C^{n, k}$$\n",
    "\n",
    "$$ c_{ij}= a_{i1} b_{1j} + a_{i2} b_{2j} +\\cdots+ a_{im} b_{mj} = \\sum_{k=1}^m a_{ik}b_{kj} $$\n",
    "\n",
    "**Указания:**\n",
    "- в `dot` напишите обычное решение с циклами\n",
    "- в `dot_one_line` напишите однострочное решение этой задачи\n",
    "- добавьте по одному тесту для каждой функции (используйте разные матрицы)\n",
    "- для проверки результата можно использовать онлайн калькуляторы ну или посчитать вручную :)"
   ]
  },
  {
   "cell_type": "code",
   "execution_count": 31,
   "id": "oR818rMaz7ae",
   "metadata": {
    "id": "oR818rMaz7ae"
   },
   "outputs": [],
   "source": [
    "def dot(A, B):\n",
    "    if len(A[0]) != len(B):\n",
    "        return \"Некорректный вход\"\n",
    "    \n",
    "    result = [[0] * len(B[0]) for _ in range(len(A))]\n",
    "    \n",
    "    for i in range(len(A)):\n",
    "        for j in range(len(B[0])):\n",
    "            for k in range(len(B)):\n",
    "                result[i][j] += A[i][k] * B[k][j]\n",
    "    \n",
    "    return result\n",
    "\n",
    "def dot_one_line(A, B):\n",
    "    if len(A[0]) != len(B):\n",
    "        return \"Некорректный вход\"\n",
    "    \n",
    "    return [[sum(A[i][k] * B[k][j] for k in range(len(B))) for j in range(len(B[0]))] for i in range(len(A))]"
   ]
  },
  {
   "cell_type": "code",
   "execution_count": 32,
   "id": "Qwil9RU-0WTD",
   "metadata": {
    "id": "Qwil9RU-0WTD"
   },
   "outputs": [],
   "source": [
    "# easy test\n",
    "\n",
    "A = [[1, 2, 3],\n",
    "     [4, 5, 6]]\n",
    "\n",
    "B = [[1, 4, 7, 1],\n",
    "     [2, 5, 8, 1],\n",
    "     [3, 6, 9, 1]]\n",
    "\n",
    "assert dot(A, B) == dot_one_line(A, B)"
   ]
  },
  {
   "cell_type": "markdown",
   "id": "9hZVNXca5tgr",
   "metadata": {
    "id": "9hZVNXca5tgr"
   },
   "source": [
    "## Задача 5 (1)"
   ]
  },
  {
   "cell_type": "markdown",
   "id": "E8ElJjfy5yTR",
   "metadata": {
    "id": "E8ElJjfy5yTR"
   },
   "source": [
    "На вход функции `matrix` подаётся число N. Функция возвращает матрицу-спираль, закрученную против часовой стрелки, размера NxN.\n",
    "\n",
    "Пример для 2x2:\n",
    "```\n",
    "1 4\n",
    "2 3\n",
    "```\n",
    "Пример для 3х3:\n",
    "```\n",
    "1 8 7\n",
    "2 9 6\n",
    "3 4 5\n",
    "```"
   ]
  },
  {
   "cell_type": "code",
   "execution_count": 33,
   "id": "mlVjyJz05xlH",
   "metadata": {
    "id": "mlVjyJz05xlH"
   },
   "outputs": [],
   "source": [
    "def matrix(N):\n",
    "    mat = [[0] * N for _ in range(N)]\n",
    "    num = 1\n",
    "    \n",
    "    left, right, top, bottom = 0, N-1, 0, N-1\n",
    "    \n",
    "    while left <= right and top <= bottom:\n",
    "        for i in range(top, bottom + 1):\n",
    "            mat[i][left] = num\n",
    "            num += 1\n",
    "        left += 1\n",
    "        \n",
    "        for i in range(left, right + 1):\n",
    "            mat[bottom][i] = num\n",
    "            num += 1\n",
    "        bottom -= 1\n",
    "        \n",
    "        for i in range(bottom, top - 1, -1):\n",
    "            mat[i][right] = num\n",
    "            num += 1\n",
    "        right -= 1\n",
    "        \n",
    "        for i in range(right, left - 1, -1):\n",
    "            mat[top][i] = num\n",
    "            num += 1\n",
    "        top += 1\n",
    "\n",
    "    result = \"\\n\".join(\" \".join(f\"{num:2}\" for num in row) for row in mat)\n",
    "    return result\n",
    "    \n",
    "    pass\n"
   ]
  },
  {
   "cell_type": "code",
   "execution_count": 34,
   "id": "E-HCOVt38qAw",
   "metadata": {
    "id": "E-HCOVt38qAw"
   },
   "outputs": [
    {
     "name": "stdout",
     "output_type": "stream",
     "text": [
      " 1 24 23 22 21 20 19\n",
      " 2 25 40 39 38 37 18\n",
      " 3 26 41 48 47 36 17\n",
      " 4 27 42 49 46 35 16\n",
      " 5 28 43 44 45 34 15\n",
      " 6 29 30 31 32 33 14\n",
      " 7  8  9 10 11 12 13\n"
     ]
    }
   ],
   "source": [
    "# test\n",
    "\n",
    "print(matrix(7))"
   ]
  },
  {
   "cell_type": "markdown",
   "id": "YbuADF3GPKQ2",
   "metadata": {
    "id": "YbuADF3GPKQ2"
   },
   "source": [
    "## Задача 6 (0.5)"
   ]
  },
  {
   "cell_type": "markdown",
   "id": "ydnLtvs4PN0K",
   "metadata": {
    "id": "ydnLtvs4PN0K"
   },
   "source": [
    "Напишите функцию [Аккермана](https://ru.wikipedia.org/wiki/Функция_Аккермана), которая дополнительно в атрибуте `calls` считает, сколько раз ее вызвали.\n",
    "\n",
    "**Указания:**\n",
    "- решайте задачу поэтапно\n",
    "- чтобы ячейка с тестами отрабатывала корректно, ее нужно запустить сразу после создания функции\n",
    "\n",
    "Подсказка: `hasattr`"
   ]
  },
  {
   "cell_type": "code",
   "execution_count": 35,
   "id": "Y_IF-S_-qXGg",
   "metadata": {
    "id": "Y_IF-S_-qXGg"
   },
   "outputs": [],
   "source": [
    "# упражнение\n",
    "def ackermann(n, m):\n",
    "    if not hasattr(ackermann, 'calls'):\n",
    "        ackermann.calls = 0\n",
    "\n",
    "    ackermann.calls += 1\n",
    "\n",
    "    if n == 0:\n",
    "        return m + 1\n",
    "    elif m == 0:\n",
    "        return ackermann(n - 1, 1)\n",
    "    else:\n",
    "        return ackermann(n - 1, ackermann(n, m - 1))\n",
    "\n",
    "\n",
    "    pass"
   ]
  },
  {
   "cell_type": "code",
   "execution_count": 36,
   "id": "-Mhz_W76RSz2",
   "metadata": {
    "id": "-Mhz_W76RSz2"
   },
   "outputs": [],
   "source": [
    "# tests\n",
    "\n",
    "assert ackermann(1, 3) == 5\n",
    "assert ackermann(2, 3) == 9\n",
    "assert ackermann(3, 4) == 125\n",
    "assert ackermann.calls == 10359"
   ]
  },
  {
   "cell_type": "markdown",
   "id": "ddbbbd69",
   "metadata": {
    "id": "ddbbbd69"
   },
   "source": [
    "## Задача 7 (0.5)"
   ]
  },
  {
   "cell_type": "markdown",
   "id": "S2nxjxf8uGTA",
   "metadata": {
    "id": "S2nxjxf8uGTA"
   },
   "source": [
    "Напишите функцию `inspect_function`, которая в качестве аргумента принимает другую функцию (но не built-in) и выводит информацию о ней: см пример ниже.\n",
    "\n",
    "**Указания:**\n",
    "- в этой задаче вам поможет встроенный модуль [inspect](https://docs.python.org/3/library/inspect.html).\n",
    "- если аргументов несколько - печатайте их через запятую: a, b, c\n",
    "- формат вывода в примере ниже"
   ]
  },
  {
   "cell_type": "markdown",
   "id": "6uCAhscbLREc",
   "metadata": {
    "id": "6uCAhscbLREc"
   },
   "source": [
    "**Пример использования:**\n",
    "\n",
    "```python\n",
    "inspect_function(is_prime)\n",
    "```\n",
    "\n",
    "**Вид вывода:**\n",
    "\n",
    "- Имя функции: is_prime\n",
    "- Документация: Check if the number n is prime or not.\n",
    "- Аргументы, принимаемые функцией: n\n",
    "- Строго позиционные:\n",
    "- Позиционные или именованные: n\n",
    "- Строго именованные:\n",
    "- Имя для args:\n",
    "- Имя для kwargs:\n",
    "- Дефолтные значения:\n",
    "- Дефолтные значения именованных:"
   ]
  },
  {
   "cell_type": "code",
   "execution_count": 37,
   "id": "d1d9bd0f",
   "metadata": {
    "id": "d1d9bd0f"
   },
   "outputs": [],
   "source": [
    "import inspect\n",
    "\n",
    "def inspect_function(func):\n",
    "    \"\"\"\n",
    "    Takes another function as an argument (but not built-in)\n",
    "    and print information about it.\n",
    "    \"\"\"\n",
    "    func_name = func.__name__\n",
    "    func_doc = inspect.getdoc(func)\n",
    "    func_signature = inspect.signature(func)\n",
    "    parameters = func_signature.parameters\n",
    "\n",
    "    args = []\n",
    "    varargs = None\n",
    "    varkw = None\n",
    "    defaults = []\n",
    "    kwonlyargs = []\n",
    "    kwonlydefaults = {}\n",
    "    \n",
    "    for name, param in parameters.items():\n",
    "        if param.kind == param.POSITIONAL_ONLY:\n",
    "            args.append(name)\n",
    "        elif param.kind == param.POSITIONAL_OR_KEYWORD:\n",
    "            args.append(name)\n",
    "            if param.default != param.empty:\n",
    "                defaults.append((name, param.default))\n",
    "        elif param.kind == param.VAR_POSITIONAL:\n",
    "            varargs = name\n",
    "        elif param.kind == param.KEYWORD_ONLY:\n",
    "            kwonlyargs.append(name)\n",
    "            if param.default != param.empty:\n",
    "                kwonlydefaults[name] = param.default\n",
    "        elif param.kind == param.VAR_KEYWORD:\n",
    "            varkw = name\n",
    "\n",
    "    print(f\"Имя функции: {func_name}\")\n",
    "    print(f\"Документация: {func_doc}\")\n",
    "    print(f\"Аргументы, принимаемые функцией: {', '.join(parameters.keys())}\")\n",
    "    print(f\"Строго позиционные: {', '.join(args)}\")\n",
    "    print(f\"Позиционные или именованные: {', '.join(args)}\")\n",
    "    print(f\"Строго именованные: {', '.join(kwonlyargs)}\")\n",
    "    print(f\"Имя для args: {varargs if varargs else ''}\")\n",
    "    print(f\"Имя для kwargs: {varkw if varkw else ''}\")\n",
    "    print(f\"Дефолтные значения: {', '.join(f'{name}={value}' for name, value in defaults)}\")\n",
    "    print(f\"Дефолтные значения именованных: {', '.join(f'{name}={value}' for name, value in kwonlydefaults.items())}\")\n",
    "    pass"
   ]
  },
  {
   "cell_type": "markdown",
   "id": "oEdAFdkIadEQ",
   "metadata": {
    "id": "oEdAFdkIadEQ"
   },
   "source": [
    "Напишите свою собственную функцию для теста:"
   ]
  },
  {
   "cell_type": "code",
   "execution_count": 38,
   "id": "iXzANtqSakaT",
   "metadata": {
    "id": "iXzANtqSakaT"
   },
   "outputs": [],
   "source": [
    "def is_prime(n: int) -> bool:\n",
    "    \"\"\"\n",
    "    Простое число или нет.\n",
    "    \"\"\"\n",
    "    if n <= 1:\n",
    "        return False\n",
    "    for i in range(2, int(n ** 0.5) + 1):\n",
    "        if n % i == 0:\n",
    "            return False\n",
    "    return True"
   ]
  },
  {
   "cell_type": "markdown",
   "id": "y1H3SveHalLP",
   "metadata": {
    "id": "y1H3SveHalLP"
   },
   "source": [
    "И протестируйтесь на этой:"
   ]
  },
  {
   "cell_type": "code",
   "execution_count": 39,
   "id": "RZIUn_HKgjUg",
   "metadata": {
    "id": "RZIUn_HKgjUg"
   },
   "outputs": [
    {
     "name": "stdout",
     "output_type": "stream",
     "text": [
      "Имя функции: foo\n",
      "Документация: This is a really nice looking docstring\n",
      "Аргументы, принимаемые функцией: a, args, b, c, d, keywordargs\n",
      "Строго позиционные: a, args, b\n",
      "Позиционные или именованные: a, args, b\n",
      "Строго именованные: c, d\n",
      "Имя для args: \n",
      "Имя для kwargs: keywordargs\n",
      "Дефолтные значения: b=!№?)*(\\/\n",
      "Дефолтные значения именованных: d=4*4\n"
     ]
    }
   ],
   "source": [
    "# tests for foo function\n",
    "\n",
    "def foo(a, args, /, b='!№?)*(\\/', *, c, d='4*4', **keywordargs):\n",
    "    \"\"\"This is a really nice looking docstring\"\"\"\n",
    "    pass\n",
    "\n",
    "inspect_function(foo)"
   ]
  },
  {
   "cell_type": "markdown",
   "id": "a5730e12",
   "metadata": {
    "id": "a5730e12"
   },
   "source": [
    "## Задача 8 (0.5 + 0.5 + 0.5)"
   ]
  },
  {
   "cell_type": "markdown",
   "id": "ff703047",
   "metadata": {
    "id": "ff703047"
   },
   "source": [
    "Реализуйте функцию сортировки [слиянием](https://neerc.ifmo.ru/wiki/index.php?title=%D0%A1%D0%BE%D1%80%D1%82%D0%B8%D1%80%D0%BE%D0%B2%D0%BA%D0%B0_%D1%81%D0%BB%D0%B8%D1%8F%D0%BD%D0%B8%D0%B5%D0%BC).\n",
    "\n",
    "**Указания:**\n",
    "\n",
    "- по ссылке можно найти описание всего самого нужного: принцип работы, процедура слияния, итеративный и рекурсивный варианты, все это с псевдокодом\n",
    "- Можно поискать другие источники (и реализации)\n",
    "- обратите внимание, что в псевдокоде сортируется сам массив, поступающий на вход. В нашем случае функция должна **возвращать** отсортированный список!\n",
    "- сначала реализуйте функцию `merge`, которая выполняет слияние двух уже отсортированных массивов (0.5)\n",
    "- после этого вам будет проще реализовать итеративный `merge_sort1` и рекурсивный `merge_sort2` варианты самой сортировки - каждый по 0.5"
   ]
  },
  {
   "cell_type": "code",
   "execution_count": 40,
   "id": "uvylZSxNx_MT",
   "metadata": {
    "id": "uvylZSxNx_MT"
   },
   "outputs": [],
   "source": [
    "# your code here\n",
    "def merge(left, right):\n",
    "    result = []\n",
    "    i = j = 0\n",
    "    \n",
    "    while i < len(left) and j < len(right):\n",
    "        if left[i] <= right[j]:\n",
    "            result.append(left[i])\n",
    "            i += 1\n",
    "        else:\n",
    "            result.append(right[j])\n",
    "            j += 1\n",
    "    \n",
    "    result.extend(left[i:])\n",
    "    result.extend(right[j:])\n",
    "    \n",
    "    return result\n",
    "    pass"
   ]
  },
  {
   "cell_type": "code",
   "execution_count": 41,
   "id": "28087cb6",
   "metadata": {
    "id": "28087cb6"
   },
   "outputs": [],
   "source": [
    "def merge_sort1(xs):\n",
    "    \"\"\"\n",
    "    Sorts list xs using iterative merge sort and return it\n",
    "    \"\"\"\n",
    "    width = 1\n",
    "    n = len(xs)\n",
    "    while width < n:\n",
    "        for i in range(0, n, 2 * width):\n",
    "            left = xs[i:i + width]\n",
    "            right = xs[i + width:i + 2 * width]\n",
    "            xs[i:i + 2 * width] = merge(left, right)\n",
    "        width *= 2\n",
    "    return xs\n",
    "    pass"
   ]
  },
  {
   "cell_type": "code",
   "execution_count": 42,
   "id": "rMXNTmY6hHQL",
   "metadata": {
    "id": "rMXNTmY6hHQL"
   },
   "outputs": [],
   "source": [
    "# tests\n",
    "assert merge_sort1([1, 2, 3, 4, 5, 6]) == [1, 2, 3, 4, 5, 6], \"test 1\"\n",
    "assert merge_sort1([6, 1, 2, 3, 4, 5, 6]) == [1, 2, 3, 4, 5, 6, 6], \"test 2\"\n",
    "assert merge_sort1([3,1,4,1,5,9,2,6,5,3,5]) == [1, 1, 2, 3, 3, 4, 5, 5, 5, 6, 9], \"test 3\""
   ]
  },
  {
   "cell_type": "code",
   "execution_count": 43,
   "id": "G-j5kSGua54P",
   "metadata": {
    "id": "G-j5kSGua54P"
   },
   "outputs": [],
   "source": [
    "def merge_sort2(xs):\n",
    "    \"\"\"\n",
    "    Sorts list xs using merge sort with recursion and return it\n",
    "    \"\"\"\n",
    "    if len(xs) <= 1:\n",
    "        return xs\n",
    "    mid = len(xs) // 2\n",
    "    left = merge_sort2(xs[:mid])\n",
    "    right = merge_sort2(xs[mid:])\n",
    "    return merge(left, right)\n",
    "    \n",
    "    pass"
   ]
  },
  {
   "cell_type": "code",
   "execution_count": 44,
   "id": "6711aef5",
   "metadata": {
    "id": "6711aef5"
   },
   "outputs": [],
   "source": [
    "# tests\n",
    "assert merge_sort2([1, 2, 3, 4, 5, 6]) == [1, 2, 3, 4, 5, 6], \"test 1\"\n",
    "assert merge_sort2([6, 1, 2, 3, 4, 5, 6]) == [1, 2, 3, 4, 5, 6, 6], \"test 2\"\n",
    "assert merge_sort2([3,1,4,1,5,9,2,6,5,3,5]) == [1, 1, 2, 3, 3, 4, 5, 5, 5, 6, 9], \"test 3\""
   ]
  },
  {
   "cell_type": "markdown",
   "id": "aWyjVTMtlUFY",
   "metadata": {
    "id": "aWyjVTMtlUFY"
   },
   "source": [
    "# Часть 2. Итераторы и генераторы. (4.5 балла)"
   ]
  },
  {
   "cell_type": "markdown",
   "id": "f3d1e448",
   "metadata": {
    "id": "f3d1e448"
   },
   "source": [
    "## Задача 9 (1)"
   ]
  },
  {
   "cell_type": "markdown",
   "id": "PLSBRMf0w9bb",
   "metadata": {
    "id": "PLSBRMf0w9bb"
   },
   "source": [
    "Реализуйте генератор, возвращающий **бесконечную** последовательность чисел из [треугольника Паскаля](https://ru.wikipedia.org/wiki/%D0%A2%D1%80%D0%B5%D1%83%D0%B3%D0%BE%D0%BB%D1%8C%D0%BD%D0%B8%D0%BA_%D0%9F%D0%B0%D1%81%D0%BA%D0%B0%D0%BB%D1%8F).\n",
    "\n",
    "Последовательность чисел, возвращаемая генератором, должна выглядеть так:\n",
    "`1`, `1`, `1`, `1`, `2`, `1`, `1`, `3`, `3`, `1`, `1`, `4`, `6`, `4`, `1`, `1`, `5`, `10`, `10`, `5`, `1`, `1`, `6`, `15`, `20`, `15`, `6`, `1`, `1`, `7`, `21`, `35`, `35`, `21`, `7`, `1`, `1`, `8`, `28`, `56`, `70`, `56`, `28`, `8`, `1`, `1`, `9`, `36`, `84`, `126`, `126`, `84`, `36`, `9`, `1` ...\n",
    "\n",
    "Генератор должен быть **экономным по памяти**, т.е. не хранить в себе все предыдущие вычисленные значения."
   ]
  },
  {
   "cell_type": "code",
   "execution_count": 45,
   "id": "25461272",
   "metadata": {
    "id": "25461272"
   },
   "outputs": [],
   "source": [
    "from math import factorial\n",
    "\n",
    "def pascal_triangle():\n",
    "    \"\"\"Return numbers from pascal triangle\"\"\"\n",
    "    row = [1]\n",
    "    yield 1\n",
    "    while True:\n",
    "        row = [x + y for x, y in zip([0]+row, row+[0])]\n",
    "        for num in row:\n",
    "            yield num\n",
    "    pass"
   ]
  },
  {
   "cell_type": "markdown",
   "id": "SukiU_7DzmqO",
   "metadata": {
    "id": "SukiU_7DzmqO"
   },
   "source": [
    "Проверить можете на ячейке ниже:"
   ]
  },
  {
   "cell_type": "code",
   "execution_count": 46,
   "id": "428552b1",
   "metadata": {
    "id": "428552b1"
   },
   "outputs": [],
   "source": [
    "# tests\n",
    "from collections.abc import Generator\n",
    "\n",
    "assert isinstance(pascal_triangle(), Generator), \"You have created not a generator\"\n",
    "\n",
    "pascal_string = \"1 1 1 1 2 1 1 3 3 1 1 4 6 4 1 1 5 10 10 5 1 1 6 15 20 15 6 1 1 7 21 35 35 21 7 1 1 8 28 56 70 56 28 8 1 1 9 36 84 126\"\n",
    "blez = pascal_triangle()\n",
    "\n",
    "assert [next(blez) for _ in range(50)] == list(map(int, pascal_string.split())), \"Wrong values!\""
   ]
  },
  {
   "cell_type": "markdown",
   "id": "5f7f5f09",
   "metadata": {
    "id": "5f7f5f09"
   },
   "source": [
    "## Задача 10 (1)"
   ]
  },
  {
   "cell_type": "markdown",
   "id": "O72nL1kt1CUH",
   "metadata": {
    "id": "O72nL1kt1CUH"
   },
   "source": [
    "Написать генератор `all_elements(xs)`, который возвращает все элементы списка `xs` любой вложенности (см. пример для конкретики).\n",
    "\n",
    "**Подсказки:**\n",
    "- `yield from`\n",
    "- рекурсия"
   ]
  },
  {
   "cell_type": "code",
   "execution_count": 47,
   "id": "29f9bb21",
   "metadata": {
    "id": "29f9bb21"
   },
   "outputs": [],
   "source": [
    "def all_elements(xs):\n",
    "    for element in xs:\n",
    "        if isinstance(element, list):\n",
    "            yield from all_elements(element)\n",
    "        else:\n",
    "            yield element\n",
    "    pass"
   ]
  },
  {
   "cell_type": "code",
   "execution_count": 48,
   "id": "8af89f17",
   "metadata": {
    "id": "8af89f17"
   },
   "outputs": [],
   "source": [
    "# test\n",
    "from collections.abc import Generator\n",
    "\n",
    "assert isinstance(all_elements([1, [2, 3], [4, [5, 6], [[[7]]]], 8]), Generator), \"You have created not a generator\"\n",
    "assert list(all_elements([1, [2, 3], [4, [5, 6], [[[7]]]], 8])) == [1, 2, 3, 4, 5, 6, 7, 8], \"Wrong values\""
   ]
  },
  {
   "cell_type": "markdown",
   "id": "9270dbe5",
   "metadata": {
    "id": "9270dbe5"
   },
   "source": [
    "## Задача 11 (1)"
   ]
  },
  {
   "cell_type": "markdown",
   "id": "or5RM1GF0mHQ",
   "metadata": {
    "id": "or5RM1GF0mHQ"
   },
   "source": [
    "Написать генератор `limit`, который возвращает не более `max_count` значений из другого генератора `input_generator`."
   ]
  },
  {
   "cell_type": "code",
   "execution_count": 49,
   "id": "0303a12f",
   "metadata": {
    "id": "0303a12f"
   },
   "outputs": [],
   "source": [
    "def limit(input_generator, max_count):\n",
    "    \"\"\"Returns not more than max_count\n",
    "    values of the input_generator.\n",
    "    \"\"\"\n",
    "    count = 0\n",
    "    for value in input_generator:\n",
    "        if count >= max_count:\n",
    "            break\n",
    "        yield value\n",
    "        count += 1\n",
    "\n",
    "    pass"
   ]
  },
  {
   "cell_type": "code",
   "execution_count": 11,
   "id": "f6511189",
   "metadata": {
    "id": "f6511189"
   },
   "outputs": [],
   "source": [
    "# если pascal_triangle из другой задачи не реализован, то\n",
    "# напишите несколько своих тестов в этой ячейке\n",
    "# your code here"
   ]
  },
  {
   "cell_type": "code",
   "execution_count": 50,
   "id": "dddc1199",
   "metadata": {
    "id": "dddc1199"
   },
   "outputs": [],
   "source": [
    "# tests\n",
    "\n",
    "from collections.abc import Generator\n",
    "\n",
    "blez = pascal_triangle()\n",
    "assert isinstance(limit(blez, 5), Generator), \"You have created not a generator\"\n",
    "\n",
    "assert list(limit(blez, 10)) == [1, 1, 1, 1, 2, 1, 1, 3, 3, 1], 'test 1'\n",
    "assert 499 < len(list(limit(blez, 500))) < 501, 'test 2'"
   ]
  },
  {
   "cell_type": "markdown",
   "id": "Y0rOmOS9wgKg",
   "metadata": {
    "id": "Y0rOmOS9wgKg"
   },
   "source": [
    "## Задача 12 (1.5)"
   ]
  },
  {
   "cell_type": "markdown",
   "id": "Qm2F3bhkvTH_",
   "metadata": {
    "id": "Qm2F3bhkvTH_"
   },
   "source": [
    "Напишите свою функцию `minimum`, которая будет аналогом встроенной функции `min`.\n",
    "\n",
    "**Указания**\n",
    "- `help(min)`\n",
    "- `default` можно не реализовывать\n",
    "- запрещено использовать встроенные `min`/`max`\n",
    "\n",
    "\n",
    "**Подсказки:**\n",
    "- `*args`\n",
    "- `iter()`"
   ]
  },
  {
   "cell_type": "code",
   "execution_count": 51,
   "id": "SkMCxyIWRfNo",
   "metadata": {
    "id": "SkMCxyIWRfNo"
   },
   "outputs": [
    {
     "name": "stdout",
     "output_type": "stream",
     "text": [
      "1\n",
      "?\n"
     ]
    }
   ],
   "source": [
    "# your code here\n",
    "def minimum(*args):\n",
    "    if len(args) == 1:\n",
    "        iterable = args[0]\n",
    "    else:\n",
    "        iterable = args\n",
    "    \n",
    "    iterator = iter(iterable)\n",
    "    try:\n",
    "        min_value = next(iterator)\n",
    "    except StopIteration:\n",
    "        raise ValueError(\"minimum() arg is an empty sequence\")\n",
    "    \n",
    "    for value in iterator:\n",
    "        if value < min_value:\n",
    "            min_value = value\n",
    "    \n",
    "    return min_value\n",
    "\n",
    "print(minimum(3, 1, 4, 1, 5, 9, 2, 6, 5, 3, 5))\n",
    "print(minimum('chto_ya_voobshe_tut_delau?'))"
   ]
  },
  {
   "cell_type": "code",
   "execution_count": null,
   "id": "913c69cb-5e38-4b0f-8b3c-03630ce725ae",
   "metadata": {},
   "outputs": [],
   "source": []
  }
 ],
 "metadata": {
  "colab": {
   "provenance": []
  },
  "kernelspec": {
   "display_name": "Python 3 (ipykernel)",
   "language": "python",
   "name": "python3"
  },
  "language_info": {
   "codemirror_mode": {
    "name": "ipython",
    "version": 3
   },
   "file_extension": ".py",
   "mimetype": "text/x-python",
   "name": "python",
   "nbconvert_exporter": "python",
   "pygments_lexer": "ipython3",
   "version": "3.11.7"
  }
 },
 "nbformat": 4,
 "nbformat_minor": 5
}
