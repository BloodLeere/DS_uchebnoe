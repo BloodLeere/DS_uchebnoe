{
 "cells": [
  {
   "cell_type": "markdown",
   "metadata": {
    "id": "EVbqAmZF1ckK"
   },
   "source": [
    "# Домашнее задание 1"
   ]
  },
  {
   "cell_type": "markdown",
   "metadata": {
    "id": "dHcSzLfA1Dy3"
   },
   "source": [
    "- максимум за задание 10.5 первичных баллов\n",
    "- итоговая оценка ставится по формуле: `сумма_баллов // 2`\n",
    "- Часть 1 является обязательной к выполнению полностью"
   ]
  },
  {
   "cell_type": "markdown",
   "metadata": {
    "id": "MFHyfLRLX_8_",
    "tags": []
   },
   "source": [
    "## Часть 1 (2 балла). Одна длинная последовательная задача"
   ]
  },
  {
   "cell_type": "markdown",
   "metadata": {
    "id": "ZH8HnT2tX_8_"
   },
   "source": [
    "**Примечание:**\n",
    "\n",
    "- на самом деле это много задач на простейшие манипуляции, чтобы проверить, что вы усвоили материалы занятий\n",
    "- выполняйте эту _длинную последовательную задачу_ строго по порядку, так как следующие ячейки часто основаны на результатах предыдущих!\n",
    "- вам не нужно создавать дополнительные ячейки, только редактировать уже имеющиеся\n",
    "- если есть пустая ячейка для кода, то обычно в нее нужно написать что-то на языке Python (в одной такой ячейке надо будет просто написать комментарии - это отдельно указано)\n",
    "- в текстовых ячейках надо что-то вписывать в поле **Ответ**, которое уже создано для вас"
   ]
  },
  {
   "cell_type": "markdown",
   "metadata": {
    "id": "9X9dkkkEX_9A"
   },
   "source": [
    "Составьте выражение для вычисления значения $$2024^{42}$$"
   ]
  },
  {
   "cell_type": "code",
   "execution_count": 1,
   "metadata": {
    "id": "gydfNkGLX_9A",
    "tags": []
   },
   "outputs": [
    {
     "data": {
      "text/plain": [
       "7258407440280244786655447961485456228673219097132963181680932504283108292152984806580886256281267069676680624384098679060769543187465240576"
      ]
     },
     "execution_count": 1,
     "metadata": {},
     "output_type": "execute_result"
    }
   ],
   "source": [
    "2024 ** 42"
   ]
  },
  {
   "cell_type": "markdown",
   "metadata": {
    "id": "csXMaEWhX_9A"
   },
   "source": [
    "Найдите встроенную функцию, которая выполняет ту же математическую операцию. Выведите ниже справку по этой функции:"
   ]
  },
  {
   "cell_type": "code",
   "execution_count": 6,
   "metadata": {
    "id": "RXs7VnATX_9A",
    "tags": []
   },
   "outputs": [
    {
     "name": "stdout",
     "output_type": "stream",
     "text": [
      "Help on built-in function pow in module builtins:\n",
      "\n",
      "pow(base, exp, mod=None)\n",
      "    Equivalent to base**exp with 2 arguments or base**exp % mod with 3 arguments\n",
      "    \n",
      "    Some types, such as ints, are able to use a more efficient algorithm when\n",
      "    invoked using the three argument form.\n",
      "\n"
     ]
    }
   ],
   "source": [
    "help(pow)"
   ]
  },
  {
   "cell_type": "markdown",
   "metadata": {
    "id": "6kxgTNyEX_9B"
   },
   "source": [
    "Видим, что параметры не описаны, поэтому в следующей ячейке **в виде комментариев в коде** по-своему опишите каждый параметр этой функции и что она делает:"
   ]
  },
  {
   "cell_type": "code",
   "execution_count": 9,
   "metadata": {
    "id": "agBfiIHtX_9B",
    "tags": []
   },
   "outputs": [],
   "source": [
    "# Взамен функции Pow можно использовать **.\n",
    "# pow записывается следующим образом: pow(a1, a2, a3), где a1 - основание степени, a2 - показатель степени и a3 - модуль степени (часто не пишется).\n",
    "# a1 - число которое нужно возвести в степень, a2 - степень в которую возводим число, a3 - получение остатка от деления возводимого в степень числа\n",
    "# от модуля a3\n",
    "# к примеру, при выполнении pow(2024, 42, 50) мы получим 7258407440280244786655... % 50\n",
    "# Собственно, если мы хотим просто возвести 2024 в степень 42, мы записываем следующим образом: pow(2024, 42) или проще 2024 перемножается на себя \n",
    "# 42 раза."
   ]
  },
  {
   "cell_type": "markdown",
   "metadata": {
    "id": "X3nzx_y5X_9B"
   },
   "source": [
    "Воспользуйтесь ею в ячейке ниже для подсчета $2024^{42}$, сохранив результат в переменную `answer`."
   ]
  },
  {
   "cell_type": "code",
   "execution_count": 12,
   "metadata": {
    "id": "6CZ2ZladX_9B"
   },
   "outputs": [],
   "source": [
    "answer = pow(2024, 42)"
   ]
  },
  {
   "cell_type": "markdown",
   "metadata": {
    "id": "AuZj_fDEX_9B"
   },
   "source": [
    "В двух разных ячейках выведите значение этой переменной с использованием функции `print` и без."
   ]
  },
  {
   "cell_type": "code",
   "execution_count": 13,
   "metadata": {
    "id": "fx984agwX_9C"
   },
   "outputs": [
    {
     "data": {
      "text/plain": [
       "7258407440280244786655447961485456228673219097132963181680932504283108292152984806580886256281267069676680624384098679060769543187465240576"
      ]
     },
     "execution_count": 13,
     "metadata": {},
     "output_type": "execute_result"
    }
   ],
   "source": [
    "answer"
   ]
  },
  {
   "cell_type": "code",
   "execution_count": 14,
   "metadata": {
    "id": "WEc-EZ8tX_9C"
   },
   "outputs": [
    {
     "name": "stdout",
     "output_type": "stream",
     "text": [
      "7258407440280244786655447961485456228673219097132963181680932504283108292152984806580886256281267069676680624384098679060769543187465240576\n"
     ]
    }
   ],
   "source": [
    "print(answer)"
   ]
  },
  {
   "cell_type": "markdown",
   "metadata": {
    "id": "6rTqUEd0X_9C"
   },
   "source": [
    "Опишите своими словами, почему вывод после двух предыдущих ячеек _выглядит_ по-разному.\n",
    "\n",
    "**Ответ:**  _Разница в том что при выводе переменной через print, данные переменной отправляются в stdout. Без принта же переменная просто остаются в памяти программы и не отправляется в stdout, поэтому на не отображается как результат в отдельной строке, а фактически находится в той же ячейке._ "
   ]
  },
  {
   "cell_type": "code",
   "execution_count": 2,
   "metadata": {},
   "outputs": [
    {
     "name": "stdout",
     "output_type": "stream",
     "text": [
      "None\n"
     ]
    }
   ],
   "source": [
    "a = None\n",
    "\n",
    "print(a)"
   ]
  },
  {
   "cell_type": "markdown",
   "metadata": {
    "id": "6WgOi2SXX_9C"
   },
   "source": [
    "В следующей ячейке снова напечатайте `answer` с помощью функции `print`, направив вывод в стандартный поток ошибок."
   ]
  },
  {
   "cell_type": "code",
   "execution_count": 15,
   "metadata": {
    "id": "LDg8tFdzX_9C"
   },
   "outputs": [
    {
     "name": "stderr",
     "output_type": "stream",
     "text": [
      "7258407440280244786655447961485456228673219097132963181680932504283108292152984806580886256281267069676680624384098679060769543187465240576\n"
     ]
    }
   ],
   "source": [
    "import sys\n",
    "print(answer, file=sys.stderr)"
   ]
  },
  {
   "cell_type": "markdown",
   "metadata": {
    "id": "a6Hk5atiX_9C"
   },
   "source": [
    "### Эйлер и пять фундаментальных констант математики (0.5)"
   ]
  },
  {
   "cell_type": "markdown",
   "metadata": {
    "id": "LYgXEgfNX_9C"
   },
   "source": [
    "Создайте две ненулевые целочисленные переменные `re` и `im`:"
   ]
  },
  {
   "cell_type": "code",
   "execution_count": 17,
   "metadata": {
    "id": "bIkx8HN7X_9C",
    "tags": []
   },
   "outputs": [],
   "source": [
    "re = 1\n",
    "im = 2"
   ]
  },
  {
   "cell_type": "markdown",
   "metadata": {
    "id": "1Enzkz-UX_9C"
   },
   "source": [
    "С помощью комбинации клавиш shift+tab получите справку функции `complex`:"
   ]
  },
  {
   "cell_type": "code",
   "execution_count": null,
   "metadata": {
    "id": "t3M_L496X_9C"
   },
   "outputs": [],
   "source": [
    "complex()"
   ]
  },
  {
   "cell_type": "markdown",
   "metadata": {
    "id": "phG40sXrX_9D",
    "tags": []
   },
   "source": [
    "Воспользуйтесь указанным там выражением, чтобы создать комплексное число с помощью созданных переменных:"
   ]
  },
  {
   "cell_type": "code",
   "execution_count": 18,
   "metadata": {
    "id": "ZdW5QjExX_9D",
    "tags": []
   },
   "outputs": [
    {
     "data": {
      "text/plain": [
       "(1+2j)"
      ]
     },
     "execution_count": 18,
     "metadata": {},
     "output_type": "execute_result"
    }
   ],
   "source": [
    "complex(re, im)"
   ]
  },
  {
   "cell_type": "markdown",
   "metadata": {
    "id": "xiVgj-xDX_9D"
   },
   "source": [
    "Просто выведите мнимую единицу:"
   ]
  },
  {
   "cell_type": "code",
   "execution_count": 19,
   "metadata": {
    "id": "fthpnGj0X_9D",
    "tags": []
   },
   "outputs": [
    {
     "name": "stdout",
     "output_type": "stream",
     "text": [
      "1j\n"
     ]
    }
   ],
   "source": [
    "print(1j)"
   ]
  },
  {
   "cell_type": "markdown",
   "metadata": {
    "id": "vPpheBeqX_9D"
   },
   "source": [
    "Тождество Эйлера, связывающее пять фундаментальных констант: $${\\displaystyle e^{i\\pi}+1=0}$$\n"
   ]
  },
  {
   "cell_type": "markdown",
   "metadata": {
    "id": "CdP97-L6X_9D"
   },
   "source": [
    "Попробуйте убедиться в правдивости этого тождества с помощью Python'а. Для этого запишите **это тождество** в виде выражения:"
   ]
  },
  {
   "cell_type": "code",
   "execution_count": 22,
   "metadata": {
    "id": "7RmmWllQX_9D",
    "tags": []
   },
   "outputs": [
    {
     "name": "stdout",
     "output_type": "stream",
     "text": [
      "False\n"
     ]
    }
   ],
   "source": [
    "import math\n",
    "e = math.e\n",
    "pi = math.pi\n",
    "\n",
    "print(pow(e, 1j * pi) + 1 == 0)"
   ]
  },
  {
   "cell_type": "markdown",
   "metadata": {
    "id": "McUkABNvX_9D"
   },
   "source": [
    "Из-за какой особенности чисел внутри компьютера не получается математически корректный ответ в предыдущей ячейке?\n",
    "\n",
    "**Ответ:** _связано это с особенностями типа float, из-за которых есть погрешности_"
   ]
  },
  {
   "cell_type": "markdown",
   "metadata": {
    "id": "-OuDzYc0X_9D"
   },
   "source": [
    "Попробуйте воспользоваться встроенной функцией для округления чисел над левой частью тождества. Прочитайте описание ошибки и попробуйте своими словами кратко описать, почему она произошла."
   ]
  },
  {
   "cell_type": "code",
   "execution_count": 24,
   "metadata": {
    "id": "rW2OAdUCX_9E",
    "tags": []
   },
   "outputs": [
    {
     "ename": "TypeError",
     "evalue": "type complex doesn't define __round__ method",
     "output_type": "error",
     "traceback": [
      "\u001b[1;31m---------------------------------------------------------------------------\u001b[0m",
      "\u001b[1;31mTypeError\u001b[0m                                 Traceback (most recent call last)",
      "Cell \u001b[1;32mIn[24], line 1\u001b[0m\n\u001b[1;32m----> 1\u001b[0m \u001b[38;5;28mround\u001b[39m(\u001b[38;5;28mpow\u001b[39m(e, \u001b[38;5;241m1\u001b[39mj \u001b[38;5;241m*\u001b[39m pi) \u001b[38;5;241m+\u001b[39m \u001b[38;5;241m1\u001b[39m, \u001b[38;5;241m3\u001b[39m)\n",
      "\u001b[1;31mTypeError\u001b[0m: type complex doesn't define __round__ method"
     ]
    }
   ],
   "source": [
    "round(pow(e, 1j * pi) + 1, 3)"
   ]
  },
  {
   "cell_type": "markdown",
   "metadata": {
    "id": "FsBUydRlX_9E"
   },
   "source": [
    "**Ответ:** _потому что нельзя проводить конкретное действие с конкретным типом объектов, а именно округлять комплексные числа_"
   ]
  },
  {
   "cell_type": "markdown",
   "metadata": {
    "id": "4Km6DVS8X_9E"
   },
   "source": [
    "### Число гугол (0.5)"
   ]
  },
  {
   "cell_type": "markdown",
   "metadata": {
    "id": "-8sF5a77X_9E"
   },
   "source": [
    "Выясните длину числа гугол с помощью кода (по аналогии с занятием):"
   ]
  },
  {
   "cell_type": "code",
   "execution_count": 25,
   "metadata": {
    "id": "yPGkZW7bX_9E"
   },
   "outputs": [
    {
     "data": {
      "text/plain": [
       "101"
      ]
     },
     "execution_count": 25,
     "metadata": {},
     "output_type": "execute_result"
    }
   ],
   "source": [
    "len(str(10**100))"
   ]
  },
  {
   "cell_type": "markdown",
   "metadata": {
    "id": "nlzP_dSSX_9E"
   },
   "source": [
    "Узнайте, между какими степенями двойки находится число гугол. Например, число `1000` находится между 9-ой и 10-ой степенями двойки. Ответ запишите в переменных с именами `min_` и `max_` и выведите их значения.\n",
    "\n",
    "**Подсказка:** здесь вам может помочь цикл `while`, но есть и однострочное решение без цикла - засчитывается любое."
   ]
  },
  {
   "cell_type": "code",
   "execution_count": 1,
   "metadata": {
    "id": "48K9dMimX_9E",
    "tags": []
   },
   "outputs": [
    {
     "name": "stdout",
     "output_type": "stream",
     "text": [
      "332 333\n"
     ]
    }
   ],
   "source": [
    "googol = 10**100\n",
    "\n",
    "stepen = 1\n",
    "min_ = 0\n",
    "\n",
    "while stepen <= googol:\n",
    "    stepen *= 2\n",
    "    min_ += 1\n",
    "\n",
    "max_ = min_\n",
    "\n",
    "print(min_ - 1, max_)\n"
   ]
  },
  {
   "cell_type": "markdown",
   "metadata": {
    "id": "GrDqMKzSX_9E"
   },
   "source": [
    "### Формула Эйлера * (1)"
   ]
  },
  {
   "cell_type": "markdown",
   "metadata": {
    "id": "u973BMILX_9I"
   },
   "source": [
    "\n",
    "$${\\displaystyle e^{ix}=\\cos x+i\\sin x}$$\n"
   ]
  },
  {
   "cell_type": "markdown",
   "metadata": {
    "id": "jIeymI7sX_9I"
   },
   "source": [
    "Запишите эту формулу с помощью Python'а, как и тождество Эйлера. Для `x` просто заведите свою переменную. Если вы все запишете правильно, то в выводе ячейки получите `True`."
   ]
  },
  {
   "cell_type": "code",
   "execution_count": 37,
   "metadata": {
    "id": "Ejo2pKOjX_9I",
    "tags": []
   },
   "outputs": [
    {
     "name": "stdout",
     "output_type": "stream",
     "text": [
      "True\n"
     ]
    }
   ],
   "source": [
    "import math\n",
    "e = math.e\n",
    "x = 1\n",
    "\n",
    "print(pow(e, 1j * x) == math.cos(x) + 1j * math.sin(x))"
   ]
  },
  {
   "cell_type": "markdown",
   "metadata": {
    "id": "tgxjawVmX_9I"
   },
   "source": [
    "Следующую задачу сначала можно пропустить, так как она достаточно объемная. Тем не менее все необходимое для ее решения мы проходили.\n",
    "\n",
    "Вам дан список `xs`, в котором находятся целые числа. Пройдитесь по нему с помощью цикла `for`, печатая в стандартный поток ошибок сообщение по шаблону `'cosx + i sinx = _'`, если индекс числа четный и само число нечетное. В противном случае печатайте число в стандартный поток вывода, переводя его перед этим в двоичную систему счисления для четных чисел и в восьмеричную для нечетных.\n",
    "\n",
    "**Указания:**\n",
    "\n",
    "- в шаблоне `'cosx + i sinx = _'` вместо `x` надо подставлять текущее число, а вместо нижнего подчеркивания - значение выражения\n",
    "- для вывода сообщения по шаблону воспользуйтесь механизмом f-strings\n",
    "- воспользуйтесь функцией `enumerate` для одновременного доступа к индексу и объекту\n",
    "- вы должны использовать соответствующие встроенные функции для перевода чисел в другие системы счисления (их нужно найти)\n",
    "\n"
   ]
  },
  {
   "cell_type": "code",
   "execution_count": 2,
   "metadata": {
    "id": "_DyHaINpX_9I",
    "tags": []
   },
   "outputs": [],
   "source": [
    "xs = [1, 10, 13, 42, 98, 99, 137, 512, 1001, 1024, 2048, 4096, 8192, 10001]"
   ]
  },
  {
   "cell_type": "code",
   "execution_count": 6,
   "metadata": {
    "id": "5fl2U-lDX_9I"
   },
   "outputs": [
    {
     "name": "stdout",
     "output_type": "stream",
     "text": [
      "10 в двоичной = 1010\n",
      "42 в двоичной = 101010\n",
      "98 в двоичной = 1100010\n",
      "99 в восьмеричной = 143\n",
      "512 в двоичной = 1000000000\n",
      "1024 в двоичной = 10000000000\n",
      "2048 в двоичной = 100000000000\n",
      "4096 в двоичной = 1000000000000\n",
      "8192 в двоичной = 10000000000000\n",
      "10001 в восьмеричной = 23421\n"
     ]
    },
    {
     "name": "stderr",
     "output_type": "stream",
     "text": [
      "cos1 + i sin1 = (0.5403023058681398+0.8414709848078965j)\n",
      "cos13 + i sin13 = (0.9074467814501962+0.4201670368266409j)\n",
      "cos137 + i sin137 = (0.33416538263076073-0.9425144545582509j)\n",
      "cos1001 + i sin1001 = (-0.3919404295971039+0.9199905975863218j)\n"
     ]
    }
   ],
   "source": [
    "import sys\n",
    "import math\n",
    "\n",
    "for i, x in enumerate(xs):\n",
    "    if i % 2 == 0 and x % 2 != 0:\n",
    "        virosenie_result = math.cos(x) + 1j * math.sin(x)\n",
    "        print(f'cos{x} + i sin{x} = {virosenie_result}', file=sys.stderr)\n",
    "    else:\n",
    "        if x % 2 == 0:\n",
    "            print(f'{x} в двоичной = {bin(x)[2:]}')\n",
    "        else:\n",
    "            print(f'{x} в восьмеричной = {oct(x)[2:]}')"
   ]
  },
  {
   "cell_type": "markdown",
   "metadata": {
    "id": "zMkuW190X_9I"
   },
   "source": [
    "## Часть 2 (8.5 баллов). Далее задачи можно выполнять в произвольном порядке."
   ]
  },
  {
   "cell_type": "markdown",
   "metadata": {
    "id": "klahQfnxX_9I"
   },
   "source": [
    "**Указания:**\n",
    "\n",
    "- **запрещено** пользоваться методами списков и строк, а также срезами строк\n",
    "- **все** задания решаются с помощью материала **первых двух лекций**\n",
    "- если отдельно указана дополнительная ячейка, то задачу можно решить в одну строку в ней, но гнаться за подобным не нужно - всему свое время!\n",
    "- можете указать два решения\n",
    "- отвечать на вопросы в чате надо описанием идеи или указанием на источники - не лишайте других радости от **самостоятельно** найденного решения!\n",
    "- если есть примеры ввода и вывода, то они могут помочь понять, в какую сторону двигаться\n",
    "- ваш код должен работать не только на указанных примерах!\n",
    "\n",
    "**Подсказки:**\n",
    "\n",
    "- вам часто понадобятся циклы (в основном `for`)\n",
    "- как добавить в конец или удалить с конца элемент списка, если нельзя пользоваться методами?\n",
    "    > `xs = xs + [d]`\n",
    "\n",
    "    > `xs = xs[:-1]`\n",
    "- `xs[i] == 'a'` - проверка, что i-ый элемент списка `xs` является символом `'a'`\n",
    "- `int('10')`, `str(10)`\n",
    "- `list('строка')`\n",
    "- `reversed`\n",
    "- не пренебрегайте встроенными функциями"
   ]
  },
  {
   "cell_type": "markdown",
   "metadata": {
    "id": "QMlUzOq0oAI5"
   },
   "source": [
    "### Задача 1 (0.5). Максимальный элемент.\n",
    "\n",
    "Вам даны два списка с числами. Нужно вывести тот, который содержит максимальное число. Если оно встречается в обоих списках - выведите любой."
   ]
  },
  {
   "cell_type": "markdown",
   "metadata": {
    "id": "LqTAjBrNzVw9"
   },
   "source": [
    "#### Пример\n",
    "\n",
    "**Ввод:**\n",
    "\n",
    "```\n",
    "xs1 = [0, 1, 2]\n",
    "xs2 = [98, 99]\n",
    "```\n",
    "\n",
    "**Вывод:**\n",
    "\n",
    "```\n",
    "[98, 99]\n",
    "```"
   ]
  },
  {
   "cell_type": "code",
   "execution_count": 38,
   "metadata": {
    "id": "s8S2idAn-C8R"
   },
   "outputs": [],
   "source": [
    "# задайте списки самостоятельно\n",
    "xs1 = [12314511, 3411231, 5425432573259]\n",
    "xs2 = [2132141245, 19248219427, 4231481294]"
   ]
  },
  {
   "cell_type": "code",
   "execution_count": 39,
   "metadata": {
    "id": "rwJIfKOdnfGW"
   },
   "outputs": [
    {
     "name": "stdout",
     "output_type": "stream",
     "text": [
      "[2132141245, 19248219427, 4231481294]\n"
     ]
    }
   ],
   "source": [
    "if xs1 > xs2:\n",
    "    print(xs1)\n",
    "else:\n",
    "    print(xs2)"
   ]
  },
  {
   "cell_type": "code",
   "execution_count": 40,
   "metadata": {
    "id": "00dRGuUAK1_T"
   },
   "outputs": [
    {
     "name": "stdout",
     "output_type": "stream",
     "text": [
      "[2132141245, 19248219427, 4231481294]\n"
     ]
    }
   ],
   "source": [
    "print(xs1) if xs1 > xs2 else print(xs2)"
   ]
  },
  {
   "cell_type": "markdown",
   "metadata": {
    "id": "0PxuwdtZoB9-"
   },
   "source": [
    "### Задача 2 (0.7). Встречающиеся символы\n",
    "\n",
    "Вы получаете на вход две строки. Нужно вывести все уникальные символы, которые встречаются хотя бы в одной из этих строк.\n",
    "\n",
    "**Примечание:** `set` использовать нельзя."
   ]
  },
  {
   "cell_type": "markdown",
   "metadata": {
    "id": "euYQ05rO0Be9"
   },
   "source": [
    "#### Пример\n",
    "\n",
    "**Ввод:**\n",
    "\n",
    "```\n",
    "aabccdee\n",
    "ddeffggaaz\n",
    "```\n",
    "\n",
    "**Вывод:**\n",
    "\n",
    "```\n",
    "abcdefgz\n",
    "```"
   ]
  },
  {
   "cell_type": "code",
   "execution_count": 2,
   "metadata": {},
   "outputs": [
    {
     "name": "stdin",
     "output_type": "stream",
     "text": [
      "Введите строку 1:  dqijwfpoqfjopsafjaofjafjeqoi\n",
      "Введите строку 2:  qjdfiowpfjsaijfaipjfsafopjqfosfaojp\n"
     ]
    }
   ],
   "source": [
    "a = input(\"Введите строку 1: \")\n",
    "b = input(\"Введите строку 2: \")"
   ]
  },
  {
   "cell_type": "code",
   "execution_count": 5,
   "metadata": {
    "id": "9T9ue6_h-RA0"
   },
   "outputs": [
    {
     "name": "stdout",
     "output_type": "stream",
     "text": [
      "dqijwfposae\n"
     ]
    }
   ],
   "source": [
    "all = a + b\n",
    "uniq = []\n",
    "for char in all:\n",
    "    found = False\n",
    "    for u in uniq:\n",
    "        if char == u:\n",
    "            found = True\n",
    "            break\n",
    "    if not found:\n",
    "            uniq += char\n",
    "\n",
    "result = ''\n",
    "for char in uniq:\n",
    "    result += char\n",
    "\n",
    "print(result)"
   ]
  },
  {
   "cell_type": "code",
   "execution_count": null,
   "metadata": {
    "id": "WL4coVGvLXnM"
   },
   "outputs": [],
   "source": [
    "# дополнительная ячейка для решения с set в одну строку"
   ]
  },
  {
   "cell_type": "markdown",
   "metadata": {
    "id": "D-7vU_xMoGXW"
   },
   "source": [
    "### Задача 3 (0.8). 100 раз подряд в квадрате\n",
    "\n",
    "Вы получаете на вход число `n`. Нужно записать его 100 раз подряд и напечатать, а затем напечатать квадрат этого нового числа.\n",
    "\n",
    "$$n\\to\\underbrace{nnn\\ldots n}_{100\\text{ раз}}\\to(\\underbrace{nnn\\ldots n}_{100\\text{ раз}})^2$$"
   ]
  },
  {
   "cell_type": "markdown",
   "metadata": {
    "id": "Po1h0VLB0LiQ"
   },
   "source": [
    "#### Пример\n",
    "\n",
    "**Ввод:**\n",
    "\n",
    "```\n",
    "42\n",
    "```\n",
    "\n",
    "**Вывод:**\n",
    "\n",
    "```\n",
    "42424242424242424242424242424242424242424242424242424242424242424242424242424242424242424242424242424242424242424242424242424242424242424242424242424242424242424242424242424242424242424242424242424242\n",
    "1799816345270890725436179981634527089072543617998163452708907254361799816345270890725436179981634527089072543617998163452708907254361799816345270890725436179981634527089072543617998163452708907254361763820018365472910927456382001836547291092745638200183654729109274563820018365472910927456382001836547291092745638200183654729109274563820018365472910927456382001836547291092745638200183654729109274564\n",
    "```"
   ]
  },
  {
   "cell_type": "code",
   "execution_count": 14,
   "metadata": {
    "id": "VDcFSgAtS_kD"
   },
   "outputs": [
    {
     "name": "stdin",
     "output_type": "stream",
     "text": [
      "Введите число n:  5\n"
     ]
    }
   ],
   "source": [
    "n = int(input('Введите число n: '))"
   ]
  },
  {
   "cell_type": "code",
   "execution_count": 15,
   "metadata": {
    "id": "ORxlMF5XoHaf"
   },
   "outputs": [
    {
     "name": "stdout",
     "output_type": "stream",
     "text": [
      "5555555555555555555555555555555555555555555555555555555555555555555555555555555555555555555555555555\n",
      "30864197530864197530864197530864197530864197530864197530864197530864197530864197530864197530864197524691358024691358024691358024691358024691358024691358024691358024691358024691358024691358024691358025\n"
     ]
    }
   ],
   "source": [
    "a = str(n) * 100\n",
    "print(a)\n",
    "print(pow(int(a), 2))"
   ]
  },
  {
   "cell_type": "markdown",
   "metadata": {
    "id": "LZFh27IYoH-M"
   },
   "source": [
    "### Задача 4 (1). Проверка палиндрома\n",
    "\n",
    "Напишите проверку, является ли строка палиндромом. Палиндром — это слово или фраза, которые одинаково читаются слева направо и справа налево."
   ]
  },
  {
   "cell_type": "markdown",
   "metadata": {
    "id": "kZiGtagN0rn1"
   },
   "source": [
    "#### Пример\n",
    "\n",
    "**Ввод:**\n",
    "\n",
    "```\n",
    "saippuakivikauppias\n",
    "```\n",
    "\n",
    "**Вывод:**\n",
    "\n",
    "```\n",
    "True\n",
    "```"
   ]
  },
  {
   "cell_type": "code",
   "execution_count": 14,
   "metadata": {
    "id": "dbmC6TJNTERJ"
   },
   "outputs": [
    {
     "name": "stdin",
     "output_type": "stream",
     "text": [
      "Введите строку для проверки:  weryiookjgfdsasxcvbn\n"
     ]
    }
   ],
   "source": [
    "text = input('Введите строку для проверки: ')"
   ]
  },
  {
   "cell_type": "code",
   "execution_count": 9,
   "metadata": {
    "id": "g7lxAS0KoJEj"
   },
   "outputs": [
    {
     "name": "stdout",
     "output_type": "stream",
     "text": [
      "False\n"
     ]
    }
   ],
   "source": [
    "is_palindrome = True\n",
    "dlina = len(text)\n",
    "\n",
    "# Сравниваем символы с начала и конца строки\n",
    "for i in range(dlina // 2):\n",
    "    if text[i] != text[dlina - 1 - i]:\n",
    "        is_palindrome = False\n",
    "        break\n",
    "\n",
    "print(is_palindrome)\n"
   ]
  },
  {
   "cell_type": "code",
   "execution_count": 15,
   "metadata": {
    "id": "HuF1LjypSTn9"
   },
   "outputs": [
    {
     "name": "stdout",
     "output_type": "stream",
     "text": [
      "False\n"
     ]
    }
   ],
   "source": [
    "print('True' if text == text[::-1] else 'False')"
   ]
  },
  {
   "cell_type": "markdown",
   "metadata": {
    "id": "0dG5QsDnoJw4"
   },
   "source": [
    "### Задача 5 (0.5). Преобразования времени\n",
    "\n",
    "Преобразуйте количество секунд в формат `дни:часы:минуты:секунды` (без использования `datetime`)."
   ]
  },
  {
   "cell_type": "markdown",
   "metadata": {
    "id": "oFDgkaCb1gjT"
   },
   "source": [
    "#### Пример\n",
    "\n",
    "**Ввод:**\n",
    "\n",
    "```\n",
    "90061\n",
    "```\n",
    "\n",
    "**Вывод:**\n",
    "\n",
    "```\n",
    "1:1:1:1\n",
    "```"
   ]
  },
  {
   "cell_type": "code",
   "execution_count": 21,
   "metadata": {
    "id": "riZL3l86TJ2Z"
   },
   "outputs": [
    {
     "name": "stdin",
     "output_type": "stream",
     "text": [
      "Введите число секунд:  194981274124907321741\n"
     ]
    }
   ],
   "source": [
    "seconds = int(input(\"Введите число секунд: \"))"
   ]
  },
  {
   "cell_type": "code",
   "execution_count": 24,
   "metadata": {
    "id": "hZ9eY7HsoKyd"
   },
   "outputs": [
    {
     "name": "stdout",
     "output_type": "stream",
     "text": [
      "2256727709779019:22:15:41\n"
     ]
    }
   ],
   "source": [
    "days = seconds // (24 * 3600)\n",
    "seconds %= 24 * 3600\n",
    "\n",
    "hours = seconds // 3600\n",
    "seconds %= 3600\n",
    "\n",
    "minutes = seconds // 60\n",
    "\n",
    "seconds %= 60\n",
    "\n",
    "time = f\"{days}:{hours}:{minutes}:{seconds}\"\n",
    "\n",
    "# Выводим результат\n",
    "print(time)\n"
   ]
  },
  {
   "cell_type": "markdown",
   "metadata": {
    "id": "RONwF247oOGw"
   },
   "source": [
    "### Задача 6 (0.5). Расширение файла\n",
    "\n",
    "Вы получаете на вход имя файла. Необходимо вывести его расширение. Если расширения у файла нет, выводите `\"Нет расширения\"`.\n",
    "\n",
    "Под разрешением файла понимают определённую последовательность букв или цифр, отделенную от основного имени файла точкой.\n",
    "\n",
    "**Примечание:**\n",
    "- для файла `not_a_virus.jpg.exe` расширением является `.exe`, а не `.jpg.exe`."
   ]
  },
  {
   "cell_type": "markdown",
   "metadata": {
    "id": "LTt6E0kH1xRk"
   },
   "source": [
    "#### Пример\n",
    "\n",
    "**Ввод:**\n",
    "\n",
    "```\n",
    "absolutely_not_a_virus.exe\n",
    "```\n",
    "\n",
    "**Вывод:**\n",
    "\n",
    "```\n",
    ".exe\n",
    "```"
   ]
  },
  {
   "cell_type": "code",
   "execution_count": 1,
   "metadata": {
    "id": "vtdlFYq6Ei3o"
   },
   "outputs": [
    {
     "name": "stdin",
     "output_type": "stream",
     "text": [
      " ya_twoi_batya_Sanya.kek\n"
     ]
    }
   ],
   "source": [
    "filename = input(\"\")"
   ]
  },
  {
   "cell_type": "code",
   "execution_count": 2,
   "metadata": {
    "id": "GTrLU63FEu4F"
   },
   "outputs": [
    {
     "name": "stdout",
     "output_type": "stream",
     "text": [
      ".kek\n"
     ]
    }
   ],
   "source": [
    "tochka = -1\n",
    "x = len(filename)\n",
    "\n",
    "for i in range(x):\n",
    "    if filename[i] == '.':\n",
    "        tochka = i\n",
    "\n",
    "pisat = '.'\n",
    "for j in range(tochka + 1, len(filename)):\n",
    "    pisat += filename[j]\n",
    "    \n",
    "print(pisat)\n"
   ]
  },
  {
   "cell_type": "markdown",
   "metadata": {
    "id": "FF0C3-cTp0uy"
   },
   "source": [
    "### Задача 7 (0.2). Циклический сдвиг\n",
    "\n",
    "Вам даны четыре переменные `a`, `b`, `c`, `d` и четыре принта. Ваша задача вставить между принтами **одинаковую** строку кода, чтобы вывод после ячейки был как в примере."
   ]
  },
  {
   "cell_type": "markdown",
   "metadata": {
    "id": "VXdwo36R1929"
   },
   "source": [
    "#### Пример\n",
    "\n",
    "**Вывод:**\n",
    "\n",
    "```\n",
    "100 200 300 400\n",
    "400 100 200 300\n",
    "300 400 100 200\n",
    "200 300 400 100\n",
    "```"
   ]
  },
  {
   "cell_type": "code",
   "execution_count": 1,
   "metadata": {
    "id": "1AQTtLCN3IzB"
   },
   "outputs": [
    {
     "name": "stdout",
     "output_type": "stream",
     "text": [
      "100 200 300 400\n",
      "400 100 200 300\n",
      "300 400 100 200\n",
      "200 300 400 100\n"
     ]
    }
   ],
   "source": [
    "a, b, c, d = 100, 200, 300, 400\n",
    "\n",
    "print(a, b, c, d)\n",
    "a, b, c, d = 400, 100, 200, 300\n",
    "print(a, b, c, d)\n",
    "a, b, c, d = 300, 400, 100, 200\n",
    "print(a, b, c, d)\n",
    "a, b, c, d = 200, 300, 400, 100\n",
    "print(a, b, c, d)"
   ]
  },
  {
   "cell_type": "markdown",
   "metadata": {
    "id": "-Gnp9ECbX_9K"
   },
   "source": [
    "Напишите, как называются механизмы Python'а, которые позволяют так сделать.\n",
    "\n",
    "**Ответ: множественное присваивание**"
   ]
  },
  {
   "cell_type": "markdown",
   "metadata": {
    "id": "I2x5B2_Np9kO"
   },
   "source": [
    "### Задача 8 (0.3). Уникальное содержимое\n",
    "\n",
    "Вы получаете на вход строку. Нужно проверить, все ли символы в ней уникальны (встречаются в строке только один раз), и вывести `True`, если все символы уникальные, иначе `False`.\n",
    "\n",
    " **Примечание:** `set` использовать нельзя."
   ]
  },
  {
   "cell_type": "markdown",
   "metadata": {
    "id": "XELI_NG82FMH"
   },
   "source": [
    "#### Пример\n",
    "\n",
    "**Ввод:**\n",
    "\n",
    "```\n",
    "эй,жлоб!Гдетуз?Прячьюныхсъёмщицвшкаф.\n",
    "```\n",
    "\n",
    "**Вывод:**\n",
    "\n",
    "```\n",
    "True\n",
    "```"
   ]
  },
  {
   "cell_type": "code",
   "execution_count": 5,
   "metadata": {
    "id": "f9t98R-5EUU4"
   },
   "outputs": [
    {
     "name": "stdin",
     "output_type": "stream",
     "text": [
      "Введите строку:  qwertyui\n"
     ]
    }
   ],
   "source": [
    "string = input(\"Введите строку: \")"
   ]
  },
  {
   "cell_type": "code",
   "execution_count": 6,
   "metadata": {
    "id": "gsiB8H61p_Bb"
   },
   "outputs": [
    {
     "name": "stdout",
     "output_type": "stream",
     "text": [
      "True\n"
     ]
    }
   ],
   "source": [
    "text = ''\n",
    "povtorki = 0\n",
    "\n",
    "for char in string:\n",
    "    if char in text:\n",
    "        povtorki += 1\n",
    "        break\n",
    "    text += char\n",
    "\n",
    "if povtorki == 0:\n",
    "    print('True')\n",
    "else:\n",
    "    print('Fasle')"
   ]
  },
  {
   "cell_type": "code",
   "execution_count": null,
   "metadata": {
    "id": "2zGBuwwVS7NG"
   },
   "outputs": [],
   "source": [
    "# дополнительная ячейка для решения с set в одну строку"
   ]
  },
  {
   "cell_type": "markdown",
   "metadata": {
    "id": "Dj3SgDdLahaZ"
   },
   "source": [
    "### Задача 9 (3). Простой анализ Остапа Бендера\n",
    "\n",
    "Сначала прочитайте задачу целиком.\n",
    "\n",
    "От биржи вам приходят данные в виде потока сообщений со средней ценой за день торгов акциями компании \"Рога и копыта\" за все время:\n",
    "\n",
    "- В первой строке средняя цена акции в первый день торгов.\n",
    "- В следующих строках изменение относительно предыдущего дня в виде сообщений в следующем формате (числа могут отличаться, быть вещественными, но строго положительными):\n",
    "\n",
    "    - `МЕНЬШЕ100`, если цена понизилась на 100\n",
    "    - `БОЛЬШЕ200`, если цена увеличилась на 200\n",
    "    - `БЕЗ_ИЗМЕНЕНИЙ`, если цена не изменилась.\n",
    "\n",
    "- Известно, что иногда бывают ошибочные сообщения. Понять, что произошла ошибка довольно легко: в таких случаях цена будто достигла 0 или даже опустилась ниже. Тогда надо просто считать, что на самом деле она не менялась по сравнению с предыдущим днем.\n",
    "- В самом последнем сообщении приходит один символ `'#'`, что означает сегодняшний день, но так как он еще не закончился, то окончательное изменение относительно вчерашнего дня неизвестно.\n",
    "\n",
    "Пример: 1) 100 2) БОЛЬШЕ200 3) # - то есть начались торги позавчера и средняя цена за позавчера была 100, вчера средняя цена была 300, а сегодня торги еще идут.\n",
    "\n",
    "Ваш брокер Александр Иванович только что прислал вам следующее сообщение:\n",
    "\n",
    "> Сейчас цена равна 0.6 * \\<мин\\_за\\_весь\\_период> + 0.4 * \\<макс\\_за\\_весь_период>\n",
    "\n",
    "При этом ваш друг - трейдер Остап - сказал вам по телефону следующую стратегию торговли акциями компании \"Рога и копыта\" на сегодняшний день:\n",
    "\n",
    "> Если сейчас цена:\n",
    "- ниже средней за все предыдущие дни более чем в два раза, то надо срочно докупить 10 акций\n",
    "- ниже средней за все предыдущие дни более чем в полтора раза, то надо срочно докупить 7 акций\n",
    "- выше средней за все предыдущие дни более чем в полтора раза, то надо срочно продать 6 акции\n",
    "- выше средней за все предыдущие дни более чем на 20%, то надо срочно продать 3 акции\n",
    "\n",
    "Вы целиком и полностью доверяете Остапу, ведь раньше он вас не подводил и в целом создает впечатление глубоко разбирающегося человека.\n",
    "\n",
    "Так как компания \"Рога и копыта\" появилась очень давно и почти с первых дней существования торгуется на бирже - вручную проанализировать такой объем не получится, но вы как раз недавно начали изучать Python и полученных знаний уже достаточно, чтобы заставить интерпретатор сделать всю грязную работу за вас. \n",
    "\n",
    "Считайте, что вы не можете складывать сообщения биржи в список (или сохранять еще каким-нибудь способом), так как возможна ситуация, что **оперативной памяти не хватит**.\n",
    "\n",
    "**Ваша задача**:\n",
    "\n",
    "Отправить брокеру Александру Ивановичу, который слушает стандартный поток ошибок, распоряжение с одним словом КУПИТЬ, ПРОДАТЬ или ДЕРЖАТЬ, далее через нижнее подчеркивание соответствующее число акций (в последнем случае отправляется только слово).\n",
    "\n",
    "**Примечание:**\n",
    "\n",
    "- называйте переменные осмысленными именами\n",
    "- формат ввода и вывода описаны в тексте задачи\n",
    "- решайте задачу постепенно\n",
    "- проверяйте, что вы ничего не пропустили, перечитывая условие\n",
    "- у вас больше 6 акций компании \"Рога и копыта\"\n",
    "- в реальной жизни стратегиям Остапа лучше не доверять\n",
    "- возможно в таком странном формате работы биржи и ошибках в сообщениях виноват один из ее учредителей, который в документах указан как Б. Остап...\n",
    "\n",
    "**Подсказка:** сохранять цены за все дни нельзя, но может это и не нужно, ведь у нас есть формат последнего сообщения!"
   ]
  },
  {
   "cell_type": "code",
   "execution_count": 2,
   "metadata": {},
   "outputs": [
    {
     "name": "stdin",
     "output_type": "stream",
     "text": [
      " 100\n",
      " БОЛЬШЕ200\n",
      " #\n"
     ]
    },
    {
     "name": "stderr",
     "output_type": "stream",
     "text": [
      "ДЕРЖАТЬ\n"
     ]
    }
   ],
   "source": [
    "import sys\n",
    "import math\n",
    "\n",
    "first_day_price = float(input().strip())\n",
    "now_price = first_day_price\n",
    "max_price = first_day_price\n",
    "min_price = first_day_price\n",
    "total_price = first_day_price\n",
    "days = 1\n",
    "\n",
    "while True:\n",
    "    message = input().strip()\n",
    "    \n",
    "    if message == '#':\n",
    "        break\n",
    "        \n",
    "    change = 0\n",
    "    if message.startswith('МЕНЬШЕ'):\n",
    "        change = -float(message[6:])\n",
    "    elif message.startswith(\"БОЛЬШЕ\"):\n",
    "        change = float(message[6:])\n",
    "    elif message == \"БЕЗ_ИЗМЕНЕНИЙ\":\n",
    "        change = 0\n",
    "        \n",
    "    new_price = now_price + change\n",
    "    \n",
    "    if new_price <= 0:\n",
    "        new_price = now_price\n",
    "        \n",
    "    first_day_price = new_price\n",
    "    min_price = min(min_price, now_price)\n",
    "    max_price = max(max_price, now_price)\n",
    "    total_price += now_price\n",
    "    days += 1\n",
    "\n",
    "sredn_price = total_price / days\n",
    "calculated_price = 0.6 * min_price + 0.4 * max_price\n",
    "\n",
    "if calculated_price < sredn_price / 2:\n",
    "    vivod = \"КУПИТЬ_10\"\n",
    "elif calculated_price < sredn_price * 2 / 3:\n",
    "    vivod = \"КУПИТЬ_7\"\n",
    "elif calculated_price > sredn_price * 1.5:\n",
    "    vivod = \"ПРОДАТЬ_6\"\n",
    "elif calculated_price > sredn_price * 1.2:\n",
    "    vivod = \"ПРОДАТЬ_3\"\n",
    "else:\n",
    "    vivod = \"ДЕРЖАТЬ\"\n",
    "\n",
    "print(vivod, file=sys.stderr)"
   ]
  },
  {
   "cell_type": "markdown",
   "metadata": {
    "id": "rO-Amdrhbfc5"
   },
   "source": [
    "### Задача 10 (1). Частичный разворот\n",
    "\n",
    "Вы принимаете на вход строку. Необходимо:\n",
    "\n",
    "1. создать ее копию, в которой символы исходной с **нечетными индексами** переставлены в обратном порядке\n",
    "2. вывести получившуюся строку"
   ]
  },
  {
   "cell_type": "markdown",
   "metadata": {
    "id": "j7r_BtmI3SkH"
   },
   "source": [
    "#### Пример\n",
    "\n",
    "**Ввод:**\n",
    "\n",
    "```\n",
    "0123456789\n",
    "```\n",
    "\n",
    "**Вывод:**\n",
    "\n",
    "```\n",
    "0927456381\n",
    "```"
   ]
  },
  {
   "cell_type": "code",
   "execution_count": 24,
   "metadata": {
    "id": "R--qKZF5Jv29"
   },
   "outputs": [
    {
     "name": "stdin",
     "output_type": "stream",
     "text": [
      "Введите строку:  0123456789\n"
     ]
    }
   ],
   "source": [
    "x = input(\"Введите строку: \")"
   ]
  },
  {
   "cell_type": "code",
   "execution_count": 30,
   "metadata": {
    "id": "e3SdQqGLbnI9"
   },
   "outputs": [
    {
     "name": "stdout",
     "output_type": "stream",
     "text": [
      "0927456381\n"
     ]
    }
   ],
   "source": [
    "nechet = ''\n",
    "copy = list(x)\n",
    "\n",
    "for i in range(len(x)):\n",
    "    if i % 2 != 0:\n",
    "        nechet += copy[i]\n",
    "\n",
    "reversed_nechet = ''\n",
    "for i in range(len(nechet) - 1, - 1, - 1):\n",
    "    reversed_nechet += nechet[i]\n",
    "\n",
    "# Замена символов с нечетными индексами в копии\n",
    "j = 0\n",
    "for i in range(len(copy)):\n",
    "    if i % 2 != 0:\n",
    "        copy[i] = reversed_nechet[j]\n",
    "        j += 1\n",
    "        \n",
    "string = ''\n",
    "\n",
    "for k in copy:\n",
    "    string += k\n",
    "\n",
    "print(string)\n",
    "\n"
   ]
  },
  {
   "cell_type": "code",
   "execution_count": null,
   "metadata": {},
   "outputs": [],
   "source": []
  },
  {
   "cell_type": "markdown",
   "metadata": {
    "id": "2wZ1A0ApyQA3"
   },
   "source": [
    "На этом задачи в данном задании закончились."
   ]
  }
 ],
 "metadata": {
  "colab": {
   "provenance": [],
   "toc_visible": true
  },
  "kernelspec": {
   "display_name": "Python 3 (ipykernel)",
   "language": "python",
   "name": "python3"
  },
  "language_info": {
   "codemirror_mode": {
    "name": "ipython",
    "version": 3
   },
   "file_extension": ".py",
   "mimetype": "text/x-python",
   "name": "python",
   "nbconvert_exporter": "python",
   "pygments_lexer": "ipython3",
   "version": "3.11.7"
  }
 },
 "nbformat": 4,
 "nbformat_minor": 4
}
