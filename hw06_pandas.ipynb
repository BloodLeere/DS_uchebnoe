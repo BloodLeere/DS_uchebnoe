{
 "cells": [
  {
   "cell_type": "markdown",
   "metadata": {
    "id": "B7TpktH--KyR"
   },
   "source": [
    "# Домашнее задание 6. Pandas"
   ]
  },
  {
   "cell_type": "markdown",
   "metadata": {
    "id": "aG3qP-8iogxq"
   },
   "source": [
    "**Примечание:**\n",
    "\n",
    "В заданиях вам даны подсказки по выполнению, a также вывод работы кода авторского решения - вы можете смотреть на этот вывод и понимать, в правильном ли направлении вы движетесь при выполнении задания."
   ]
  },
  {
   "cell_type": "markdown",
   "metadata": {
    "id": "PuY91PfpeBw3"
   },
   "source": [
    "Скачиваем данные:"
   ]
  },
  {
   "cell_type": "code",
   "execution_count": 1,
   "metadata": {
    "colab": {
     "base_uri": "https://localhost:8080/"
    },
    "id": "iZWah5Etd_pT",
    "outputId": "1c9c03ee-7934-461c-ed7b-55f0d8e3c37d"
   },
   "outputs": [
    {
     "name": "stderr",
     "output_type": "stream",
     "text": [
      "curl: (3) URL rejected: Port number was not a decimal number between 0 and 65535\n",
      "\"export\" ­Ґ пў«пҐвбп ў­гваҐ­­Ґ© Ё«Ё ў­Ґи­Ґ©\n",
      "Є®¬ ­¤®©, ЁбЇ®«­пҐ¬®© Їа®Ја ¬¬®© Ё«Ё Ї ЄҐв­л¬ д ©«®¬.\n",
      "\"confirm\" ­Ґ пў«пҐвбп ў­гваҐ­­Ґ© Ё«Ё ў­Ґи­Ґ©\n",
      "Є®¬ ­¤®©, ЁбЇ®«­пҐ¬®© Їа®Ја ¬¬®© Ё«Ё Ї ЄҐв­л¬ д ©«®¬.\n"
     ]
    }
   ],
   "source": [
    "!curl -L -o 'articles.csv' 'https://drive.google.com/uc?id=1nht5Pd7kuqJSCz7B9jwU4qScnCO1ZPop&export=download&confirm=t'"
   ]
  },
  {
   "cell_type": "code",
   "execution_count": 2,
   "metadata": {
    "id": "BLeiyeHqkqJO"
   },
   "outputs": [],
   "source": [
    "import pandas as pd\n",
    "import numpy as np"
   ]
  },
  {
   "cell_type": "markdown",
   "metadata": {
    "id": "HM_Y_nCYkrTy"
   },
   "source": [
    "# Задача 0"
   ]
  },
  {
   "cell_type": "markdown",
   "metadata": {
    "id": "q6_oalbnogxr"
   },
   "source": [
    "Загрузите таблицу с данными из `articles.csv`:\n"
   ]
  },
  {
   "cell_type": "code",
   "execution_count": 3,
   "metadata": {
    "id": "OGGXSChjogxr"
   },
   "outputs": [],
   "source": [
    "articles = pd.read_csv('C:\\\\Users\\\\A\\\\articles.csv')"
   ]
  },
  {
   "cell_type": "markdown",
   "metadata": {
    "id": "nlzguGOQogxs"
   },
   "source": [
    "Посмотрите на первые 5 строк датафрейма (метод `head`):"
   ]
  },
  {
   "cell_type": "code",
   "execution_count": 4,
   "metadata": {
    "id": "bcsGuyObogxt"
   },
   "outputs": [
    {
     "data": {
      "text/html": [
       "<div>\n",
       "<style scoped>\n",
       "    .dataframe tbody tr th:only-of-type {\n",
       "        vertical-align: middle;\n",
       "    }\n",
       "\n",
       "    .dataframe tbody tr th {\n",
       "        vertical-align: top;\n",
       "    }\n",
       "\n",
       "    .dataframe thead th {\n",
       "        text-align: right;\n",
       "    }\n",
       "</style>\n",
       "<table border=\"1\" class=\"dataframe\">\n",
       "  <thead>\n",
       "    <tr style=\"text-align: right;\">\n",
       "      <th></th>\n",
       "      <th>id</th>\n",
       "      <th>title</th>\n",
       "      <th>publication</th>\n",
       "      <th>author</th>\n",
       "      <th>date</th>\n",
       "      <th>year</th>\n",
       "      <th>month</th>\n",
       "      <th>content</th>\n",
       "    </tr>\n",
       "  </thead>\n",
       "  <tbody>\n",
       "    <tr>\n",
       "      <th>0</th>\n",
       "      <td>17283</td>\n",
       "      <td>House Republicans Fret About Winning Their Hea...</td>\n",
       "      <td>New York Times</td>\n",
       "      <td>Carl Hulse</td>\n",
       "      <td>2016-12-31</td>\n",
       "      <td>2016</td>\n",
       "      <td>12</td>\n",
       "      <td>WASHINGTON  —   Congressional Republicans have...</td>\n",
       "    </tr>\n",
       "    <tr>\n",
       "      <th>1</th>\n",
       "      <td>17284</td>\n",
       "      <td>Rift Between Officers and Residents as Killing...</td>\n",
       "      <td>New York Times</td>\n",
       "      <td>Benjamin Mueller and Al Baker</td>\n",
       "      <td>2017-06-19</td>\n",
       "      <td>2017</td>\n",
       "      <td>6</td>\n",
       "      <td>After the bullet shells get counted, the blood...</td>\n",
       "    </tr>\n",
       "    <tr>\n",
       "      <th>2</th>\n",
       "      <td>17285</td>\n",
       "      <td>Tyrus Wong, ‘Bambi’ Artist Thwarted by Racial ...</td>\n",
       "      <td>New York Times</td>\n",
       "      <td>Margalit Fox</td>\n",
       "      <td>2017-01-06</td>\n",
       "      <td>2017</td>\n",
       "      <td>1</td>\n",
       "      <td>When Walt Disney’s “Bambi” opened in 1942, cri...</td>\n",
       "    </tr>\n",
       "    <tr>\n",
       "      <th>3</th>\n",
       "      <td>17286</td>\n",
       "      <td>Among Deaths in 2016, a Heavy Toll in Pop Musi...</td>\n",
       "      <td>New York Times</td>\n",
       "      <td>William McDonald</td>\n",
       "      <td>2017-04-10</td>\n",
       "      <td>2017</td>\n",
       "      <td>4</td>\n",
       "      <td>Death may be the great equalizer, but it isn’t...</td>\n",
       "    </tr>\n",
       "    <tr>\n",
       "      <th>4</th>\n",
       "      <td>17287</td>\n",
       "      <td>Kim Jong-un Says North Korea Is Preparing to T...</td>\n",
       "      <td>New York Times</td>\n",
       "      <td>Choe Sang-Hun</td>\n",
       "      <td>2017-01-02</td>\n",
       "      <td>2017</td>\n",
       "      <td>1</td>\n",
       "      <td>SEOUL, South Korea  —   North Korea’s leader, ...</td>\n",
       "    </tr>\n",
       "    <tr>\n",
       "      <th>5</th>\n",
       "      <td>17288</td>\n",
       "      <td>Sick With a Cold, Queen Elizabeth Misses New Y...</td>\n",
       "      <td>New York Times</td>\n",
       "      <td>Sewell Chan</td>\n",
       "      <td>2017-01-02</td>\n",
       "      <td>2017</td>\n",
       "      <td>1</td>\n",
       "      <td>LONDON  —   Queen Elizabeth II, who has been b...</td>\n",
       "    </tr>\n",
       "    <tr>\n",
       "      <th>6</th>\n",
       "      <td>17289</td>\n",
       "      <td>Taiwan’s President Accuses China of Renewed In...</td>\n",
       "      <td>New York Times</td>\n",
       "      <td>Javier C. Hernández</td>\n",
       "      <td>2017-01-02</td>\n",
       "      <td>2017</td>\n",
       "      <td>1</td>\n",
       "      <td>BEIJING  —   President Tsai   of Taiwan sharpl...</td>\n",
       "    </tr>\n",
       "    <tr>\n",
       "      <th>7</th>\n",
       "      <td>17290</td>\n",
       "      <td>After ‘The Biggest Loser,’ Their Bodies Fought...</td>\n",
       "      <td>New York Times</td>\n",
       "      <td>Gina Kolata</td>\n",
       "      <td>2017-02-08</td>\n",
       "      <td>2017</td>\n",
       "      <td>2</td>\n",
       "      <td>Danny Cahill stood, slightly dazed, in a blizz...</td>\n",
       "    </tr>\n",
       "    <tr>\n",
       "      <th>8</th>\n",
       "      <td>17291</td>\n",
       "      <td>First, a Mixtape. Then a Romance. - The New Yo...</td>\n",
       "      <td>New York Times</td>\n",
       "      <td>Katherine Rosman</td>\n",
       "      <td>2016-12-31</td>\n",
       "      <td>2016</td>\n",
       "      <td>12</td>\n",
       "      <td>Just how   is Hillary Kerr, the    founder of ...</td>\n",
       "    </tr>\n",
       "    <tr>\n",
       "      <th>9</th>\n",
       "      <td>17292</td>\n",
       "      <td>Calling on Angels While Enduring the Trials of...</td>\n",
       "      <td>New York Times</td>\n",
       "      <td>Andy Newman</td>\n",
       "      <td>2016-12-31</td>\n",
       "      <td>2016</td>\n",
       "      <td>12</td>\n",
       "      <td>Angels are everywhere in the Muñiz family’s ap...</td>\n",
       "    </tr>\n",
       "  </tbody>\n",
       "</table>\n",
       "</div>"
      ],
      "text/plain": [
       "      id                                              title     publication  \\\n",
       "0  17283  House Republicans Fret About Winning Their Hea...  New York Times   \n",
       "1  17284  Rift Between Officers and Residents as Killing...  New York Times   \n",
       "2  17285  Tyrus Wong, ‘Bambi’ Artist Thwarted by Racial ...  New York Times   \n",
       "3  17286  Among Deaths in 2016, a Heavy Toll in Pop Musi...  New York Times   \n",
       "4  17287  Kim Jong-un Says North Korea Is Preparing to T...  New York Times   \n",
       "5  17288  Sick With a Cold, Queen Elizabeth Misses New Y...  New York Times   \n",
       "6  17289  Taiwan’s President Accuses China of Renewed In...  New York Times   \n",
       "7  17290  After ‘The Biggest Loser,’ Their Bodies Fought...  New York Times   \n",
       "8  17291  First, a Mixtape. Then a Romance. - The New Yo...  New York Times   \n",
       "9  17292  Calling on Angels While Enduring the Trials of...  New York Times   \n",
       "\n",
       "                          author        date  year  month  \\\n",
       "0                     Carl Hulse  2016-12-31  2016     12   \n",
       "1  Benjamin Mueller and Al Baker  2017-06-19  2017      6   \n",
       "2                   Margalit Fox  2017-01-06  2017      1   \n",
       "3               William McDonald  2017-04-10  2017      4   \n",
       "4                  Choe Sang-Hun  2017-01-02  2017      1   \n",
       "5                    Sewell Chan  2017-01-02  2017      1   \n",
       "6            Javier C. Hernández  2017-01-02  2017      1   \n",
       "7                    Gina Kolata  2017-02-08  2017      2   \n",
       "8               Katherine Rosman  2016-12-31  2016     12   \n",
       "9                    Andy Newman  2016-12-31  2016     12   \n",
       "\n",
       "                                             content  \n",
       "0  WASHINGTON  —   Congressional Republicans have...  \n",
       "1  After the bullet shells get counted, the blood...  \n",
       "2  When Walt Disney’s “Bambi” opened in 1942, cri...  \n",
       "3  Death may be the great equalizer, but it isn’t...  \n",
       "4  SEOUL, South Korea  —   North Korea’s leader, ...  \n",
       "5  LONDON  —   Queen Elizabeth II, who has been b...  \n",
       "6  BEIJING  —   President Tsai   of Taiwan sharpl...  \n",
       "7  Danny Cahill stood, slightly dazed, in a blizz...  \n",
       "8  Just how   is Hillary Kerr, the    founder of ...  \n",
       "9  Angels are everywhere in the Muñiz family’s ap...  "
      ]
     },
     "execution_count": 4,
     "metadata": {},
     "output_type": "execute_result"
    }
   ],
   "source": [
    "articles.head(10)"
   ]
  },
  {
   "cell_type": "markdown",
   "metadata": {
    "id": "OQ4Ecb25kyIY"
   },
   "source": [
    "```\n",
    "\tid\ttitle\tpublication\tauthor\tdate\tyear\tmonth\tcontent\n",
    "0\t17283\tHouse Republicans Fret About Winning Their Hea...\tNew York Times\tCarl Hulse\t2016-12-31\t2016\t12\tWASHINGTON — Congressional Republicans have...\n",
    "1\t17284\tRift Between Officers and Residents as Killing...\tNew York Times\tBenjamin Mueller and Al Baker\t2017-06-19\t2017\t6\tAfter the bullet shells get counted, the blood...\n",
    "2\t17285\tTyrus Wong, ‘Bambi’ Artist Thwarted by Racial ...\tNew York Times\tMargalit Fox\t2017-01-06\t2017\t1\tWhen Walt Disney’s “Bambi” opened in 1942, cri...\n",
    "3\t17286\tAmong Deaths in 2016, a Heavy Toll in Pop Musi...\tNew York Times\tWilliam McDonald\t2017-04-10\t2017\t4\tDeath may be the great equalizer, but it isn’t...\n",
    "4\t17287\tKim Jong-un Says North Korea Is Preparing to T...\tNew York Times\tChoe Sang-Hun\t2017-01-02\t2017\t1\tSEOUL, South Korea — North Korea’s leader, ...\n",
    "```"
   ]
  },
  {
   "cell_type": "markdown",
   "metadata": {
    "id": "XwCF4v0Yogxu"
   },
   "source": [
    "Определите количество строк и столбцов в датафрейме (атрибут `shape`)"
   ]
  },
  {
   "cell_type": "code",
   "execution_count": 21,
   "metadata": {
    "id": "moLW_YZ_ogxv"
   },
   "outputs": [
    {
     "data": {
      "text/plain": [
       "(50000, 8)"
      ]
     },
     "execution_count": 21,
     "metadata": {},
     "output_type": "execute_result"
    }
   ],
   "source": [
    "articles.shape"
   ]
  },
  {
   "cell_type": "markdown",
   "metadata": {
    "id": "BndudeyMlAbh"
   },
   "source": [
    "`(50000, 8)`"
   ]
  },
  {
   "cell_type": "markdown",
   "metadata": {
    "id": "ceevlcngogxw"
   },
   "source": [
    "Посмотрите, в каких столбцах есть пропуски (используйте методы ```isnull``` и ```sum```)"
   ]
  },
  {
   "cell_type": "code",
   "execution_count": 37,
   "metadata": {
    "id": "63-WI3iFogxw"
   },
   "outputs": [
    {
     "data": {
      "text/plain": [
       "id                0\n",
       "title             0\n",
       "publication       0\n",
       "author         6306\n",
       "date              0\n",
       "year              0\n",
       "month             0\n",
       "content           0\n",
       "dtype: int64"
      ]
     },
     "execution_count": 37,
     "metadata": {},
     "output_type": "execute_result"
    }
   ],
   "source": [
    "pd.isnull(articles).sum()"
   ]
  },
  {
   "cell_type": "markdown",
   "metadata": {
    "id": "5D27ke8RlHTp"
   },
   "source": [
    "```\n",
    "id                0\n",
    "title             0\n",
    "publication       0\n",
    "author         6306\n",
    "date              0\n",
    "year              0\n",
    "month             0\n",
    "content           0\n",
    "dtype: int64\n",
    "```"
   ]
  },
  {
   "cell_type": "markdown",
   "metadata": {
    "id": "C_aRGGRLogxw"
   },
   "source": [
    "Видим, что в колонке ```author``` есть пропуски.\n",
    "\n",
    "Посчитайте, какая доля пропусков содержится в этой колонке (используйте методы ```isnull``` и ```mean```)"
   ]
  },
  {
   "cell_type": "code",
   "execution_count": 38,
   "metadata": {
    "id": "-Bzxinehogxx"
   },
   "outputs": [
    {
     "data": {
      "text/plain": [
       "0.12612"
      ]
     },
     "execution_count": 38,
     "metadata": {},
     "output_type": "execute_result"
    }
   ],
   "source": [
    "pd.isnull(articles).mean().author"
   ]
  },
  {
   "cell_type": "markdown",
   "metadata": {
    "id": "p2H-1Qu-lKwK"
   },
   "source": [
    "`0.12612`"
   ]
  },
  {
   "cell_type": "markdown",
   "metadata": {
    "id": "XvR8PawNogxx"
   },
   "source": [
    "Видим, что в колонке ```author``` 12% пропусков. Давайте удалим те строки, в которых пропущено значение в колонке ```author```"
   ]
  },
  {
   "cell_type": "markdown",
   "metadata": {
    "id": "UX8tzA7nogxy"
   },
   "source": [
    "Для этого используйте функцию ```dropna```, которой в качестве аргумента можно передать параметр ```axis```, чтобы удалить строки или столбцы с пропусками.\n",
    "\n",
    "Не забудьте, что чтобы сохранить результат удаления строк, нужно либо перезаписать датафрейм (```df = df.same_method()```), либо выставить в методе ```dropna``` параметр ```inplace=True```, который говорит о том, что операция будет производиться с самим датафреймом, а не с его копией\n"
   ]
  },
  {
   "cell_type": "code",
   "execution_count": 43,
   "metadata": {
    "id": "6Hj17DlSD57w"
   },
   "outputs": [],
   "source": [
    "articles.dropna(inplace=True)"
   ]
  },
  {
   "cell_type": "markdown",
   "metadata": {
    "id": "-ppAL-g3ogxy"
   },
   "source": [
    "Проверим размер датафрейма после удаления пропусков и убедимся, что в датафрейме теперь нет пропусков в данных"
   ]
  },
  {
   "cell_type": "code",
   "execution_count": 48,
   "metadata": {
    "id": "IKBwrzSRogxz"
   },
   "outputs": [
    {
     "data": {
      "text/plain": [
       "(43694, 8)"
      ]
     },
     "execution_count": 48,
     "metadata": {},
     "output_type": "execute_result"
    }
   ],
   "source": [
    "articles.shape"
   ]
  },
  {
   "cell_type": "markdown",
   "metadata": {
    "id": "P-DoLhgFlVBW"
   },
   "source": [
    "`(43694, 8)`"
   ]
  },
  {
   "cell_type": "code",
   "execution_count": 49,
   "metadata": {
    "id": "VZmd3_7vogxz"
   },
   "outputs": [
    {
     "data": {
      "text/plain": [
       "id             0\n",
       "title          0\n",
       "publication    0\n",
       "author         0\n",
       "date           0\n",
       "year           0\n",
       "month          0\n",
       "content        0\n",
       "dtype: int64"
      ]
     },
     "execution_count": 49,
     "metadata": {},
     "output_type": "execute_result"
    }
   ],
   "source": [
    "pd.isnull(articles).sum()"
   ]
  },
  {
   "cell_type": "markdown",
   "metadata": {
    "id": "d9W3MsTnlXPS"
   },
   "source": [
    "```\n",
    "id             0\n",
    "title          0\n",
    "publication    0\n",
    "author         0\n",
    "date           0\n",
    "year           0\n",
    "month          0\n",
    "content        0\n",
    "dtype: int64\n",
    "```"
   ]
  },
  {
   "cell_type": "markdown",
   "metadata": {
    "id": "CCet7g-Hogxz"
   },
   "source": [
    "Проделайте следующие базовые операции с датафреймами:"
   ]
  },
  {
   "cell_type": "markdown",
   "metadata": {
    "id": "28Q9sO6aogxz"
   },
   "source": [
    "# Задача 1\n"
   ]
  },
  {
   "cell_type": "markdown",
   "metadata": {
    "id": "OS--17Qulvma"
   },
   "source": [
    "Определите количество различных издательств в таблице и их имена (используйте для этого методы датафрейма ```unique``` или ```nunique```):"
   ]
  },
  {
   "cell_type": "code",
   "execution_count": 54,
   "metadata": {
    "id": "32nqwH0-ccnW"
   },
   "outputs": [
    {
     "data": {
      "text/plain": [
       "5"
      ]
     },
     "execution_count": 54,
     "metadata": {},
     "output_type": "execute_result"
    }
   ],
   "source": [
    "articles.publication.nunique()"
   ]
  },
  {
   "cell_type": "markdown",
   "metadata": {
    "id": "8tmACjP7dc-E"
   },
   "source": [
    "`5`"
   ]
  },
  {
   "cell_type": "code",
   "execution_count": 55,
   "metadata": {
    "id": "MZj6Oi8Qogx0"
   },
   "outputs": [
    {
     "data": {
      "text/plain": [
       "array(['New York Times', 'Breitbart', 'CNN', 'Business Insider',\n",
       "       'Atlantic'], dtype=object)"
      ]
     },
     "execution_count": 55,
     "metadata": {},
     "output_type": "execute_result"
    }
   ],
   "source": [
    "articles.publication.unique()"
   ]
  },
  {
   "cell_type": "markdown",
   "metadata": {
    "id": "6FLDGdwbdfmh"
   },
   "source": [
    "```\n",
    "array(['New York Times', 'Breitbart', 'CNN', 'Business Insider',\n",
    "       'Atlantic'], dtype=object)\n",
    "```"
   ]
  },
  {
   "cell_type": "markdown",
   "metadata": {
    "id": "0Jt6UCvfogx0"
   },
   "source": [
    "# Задача 2"
   ]
  },
  {
   "cell_type": "markdown",
   "metadata": {
    "id": "0ImARIkdl1kt"
   },
   "source": [
    "Найдите количество опубликованных статей в отрезке с ```2016-06-03``` по ```2016-12-07``` (включая эти дни)\n",
    "\n",
    "Для этого используйте фильтрацию по условию. С датами можно обращаться просто как со строками.\n",
    "\n",
    "При желании это все можно написать одной строкой."
   ]
  },
  {
   "cell_type": "markdown",
   "metadata": {
    "id": "oQynEOb-l4fb"
   },
   "source": [
    "**Подсказка:** найдите строки c датой публикации ```>=``` стартовой даты и получите булеву маску. Аналогично получите булеву маску для второй даты. Затем с помощью операции ```&``` над двумя булевыми масками получите новый булев массив, в котором ```True``` будет стоять только у тех строк, у которых дата публикации попадает в желаемый отрезок. А затем используйте эту булеву маску как индексы датафрейма."
   ]
  },
  {
   "cell_type": "code",
   "execution_count": 60,
   "metadata": {
    "id": "9Qdh-Gxvogx1"
   },
   "outputs": [
    {
     "data": {
      "text/plain": [
       "15079"
      ]
     },
     "execution_count": 60,
     "metadata": {},
     "output_type": "execute_result"
    }
   ],
   "source": [
    "articles[(articles.date >= '2016-06-03') & (articles.date <= '2016-12-07')].shape[0]"
   ]
  },
  {
   "cell_type": "markdown",
   "metadata": {
    "id": "Vr6v2VAQdwqi"
   },
   "source": [
    "`15079`"
   ]
  },
  {
   "cell_type": "markdown",
   "metadata": {
    "id": "XQQ3Qkovogx1"
   },
   "source": [
    "# Задача 3"
   ]
  },
  {
   "cell_type": "markdown",
   "metadata": {
    "id": "_2socamRl91B"
   },
   "source": [
    "Какое издание выпустило больше всего статей в 2016 году?"
   ]
  },
  {
   "cell_type": "code",
   "execution_count": 73,
   "metadata": {
    "id": "7iXJs__Y-Vqc"
   },
   "outputs": [
    {
     "data": {
      "text/plain": [
       "'Breitbart'"
      ]
     },
     "execution_count": 73,
     "metadata": {},
     "output_type": "execute_result"
    }
   ],
   "source": [
    "articles[articles['year'] == 2016]['publication'].value_counts().idxmax()"
   ]
  },
  {
   "cell_type": "markdown",
   "metadata": {
    "id": "glldF4jxd0_e"
   },
   "source": [
    "`'Breitbart'`"
   ]
  },
  {
   "cell_type": "markdown",
   "metadata": {
    "id": "JyygmXqdogx1"
   },
   "source": [
    "# Задача 4"
   ]
  },
  {
   "cell_type": "markdown",
   "metadata": {
    "id": "muPaLXTamApv"
   },
   "source": [
    "Посчитайте количество статей автора *Tom Ciccotta* в каждом году.\n",
    "\n",
    "Для этого сначала отберите строки, в которых автором является *Tom Ciccotta*, а затем создайте счетчик из столбца ```year``` (для этого просто позовите метод ```value_counts()``` от столбца ```year```)"
   ]
  },
  {
   "cell_type": "code",
   "execution_count": 5,
   "metadata": {
    "id": "pTvLIbutogx2"
   },
   "outputs": [
    {
     "data": {
      "text/plain": [
       "year\n",
       "2017    132\n",
       "2016    124\n",
       "Name: count, dtype: int64"
      ]
     },
     "execution_count": 5,
     "metadata": {},
     "output_type": "execute_result"
    }
   ],
   "source": [
    "articles[articles['author'] == 'Tom Ciccotta'].value_counts('year')"
   ]
  },
  {
   "cell_type": "markdown",
   "metadata": {
    "id": "fTazxCqNd3rT"
   },
   "source": [
    "```\n",
    "2017    132\n",
    "2016    124\n",
    "Name: year, dtype: int64\n",
    "```"
   ]
  },
  {
   "cell_type": "markdown",
   "metadata": {
    "id": "yySMXrd2ogx2"
   },
   "source": [
    "## Задача 5"
   ]
  },
  {
   "cell_type": "markdown",
   "metadata": {
    "id": "3qdDYYJqmGM4"
   },
   "source": [
    "Выпишите названия 3х первых статей автора *John Hayward* в 2016 году.\n",
    "\n",
    "**Подсказка 1:** после отбора статей по автору и году, не забудте отсортировать датафрейм по столбцу даты публикации.\n",
    "\n",
    "**Подсказка 2:** срезы по строкам датафреймов работают так же, как срезы по спискам."
   ]
  },
  {
   "cell_type": "code",
   "execution_count": 108,
   "metadata": {
    "id": "IZGcO-90ogx2"
   },
   "outputs": [
    {
     "data": {
      "text/plain": [
       "array(['Indonesian Couple Beaten with Canes for Violating Sharia Law',\n",
       "       'Islamic State Claims Credit For Gun Attack On Russian Tourists',\n",
       "       'Protests Across India Against Saudi Execution of Shiite Cleric'],\n",
       "      dtype=object)"
      ]
     },
     "execution_count": 108,
     "metadata": {},
     "output_type": "execute_result"
    }
   ],
   "source": [
    "articles[(articles['author'] == 'John Hayward') & (articles['year'] == 2016)].sort_values(by='date')['title'].head(3).values"
   ]
  },
  {
   "cell_type": "markdown",
   "metadata": {
    "id": "lSjYtvgad-fS"
   },
   "source": [
    "```\n",
    "array(['Indonesian Couple Beaten with Canes for Violating Sharia Law',\n",
    "       'Islamic State Claims Credit For Gun Attack On Russian Tourists',\n",
    "       'Protests Across India Against Saudi Execution of Shiite Cleric'],\n",
    "      dtype=object)\n",
    "```"
   ]
  },
  {
   "cell_type": "markdown",
   "metadata": {
    "id": "I3NGnVn1ogx2"
   },
   "source": [
    "# Задача 6"
   ]
  },
  {
   "cell_type": "markdown",
   "metadata": {
    "id": "Quq3tUknmOPh"
   },
   "source": [
    "Какой автор на сотом месте по количеству опубликованных статей? Сколько статей он опубликовал?\n",
    "\n",
    "**Подсказка:** для подсчета встречаемости значений используйте метод ```value_counts```. Для доступа к индексам полученного после ```value_counts``` ```pd.Series``` используйте атрибут ```index```"
   ]
  },
  {
   "cell_type": "code",
   "execution_count": 4,
   "metadata": {
    "id": "n-jKltL9dq19"
   },
   "outputs": [
    {
     "data": {
      "text/plain": [
       "'Milo'"
      ]
     },
     "execution_count": 4,
     "metadata": {},
     "output_type": "execute_result"
    }
   ],
   "source": [
    "articles['author'].value_counts().index[99]"
   ]
  },
  {
   "cell_type": "markdown",
   "metadata": {
    "id": "ltbFjaEBeNGh"
   },
   "source": [
    "`'Milo'`"
   ]
  },
  {
   "cell_type": "code",
   "execution_count": 3,
   "metadata": {
    "id": "AtCA-i2Kdq1_"
   },
   "outputs": [
    {
     "data": {
      "text/plain": [
       "86"
      ]
     },
     "execution_count": 3,
     "metadata": {},
     "output_type": "execute_result"
    }
   ],
   "source": [
    "articles[articles['author'] == 'Milo'].count()['title']"
   ]
  },
  {
   "cell_type": "markdown",
   "metadata": {
    "id": "yxSaaFGKeOW-"
   },
   "source": [
    "`86`"
   ]
  },
  {
   "cell_type": "markdown",
   "metadata": {
    "id": "Rpu5t2tWogx3"
   },
   "source": [
    "# Работа со строками в датафрейме"
   ]
  },
  {
   "cell_type": "markdown",
   "metadata": {
    "id": "f4h7ifAemrPq"
   },
   "source": [
    "Еще одной важной частью работы с данными является **нормализация данных**.\n",
    "\n",
    "Это особенно актуально при работе с данными в текством формате и при работе с данными из нескольких разнородных источников. Например, один и тот же номер телефона пользователя может записан в базах данных в разных форматах:\n",
    "\n",
    "- `+7(918)123-45-67`\n",
    "- `+7(918)1234567`\n",
    "- `+79181234567`\n",
    "- `+8(918)123-45-67`\n",
    "- `8(918)1234567`\n",
    "- `89181234567`\n",
    "\n",
    "Поэтому важно нормализовывать данные, чтобы иметь возможность объединить все данные, которые относятся к одному реальному объекту.\n",
    "\n",
    "Именно нормализации данных при работе со строками будем учиться в этой части домашней работы."
   ]
  },
  {
   "cell_type": "markdown",
   "metadata": {
    "id": "Xkln992Bogx4"
   },
   "source": [
    "Для датафреймов существуют методы работы со строковыми данными. Чтобы применить их, необходимо воспользоваться атрибутом ```str```, после чего вызвать нужные методы работы со строками. Например, вызов:\n",
    "\n",
    "```df['content'].str.len() ```\n",
    "\n",
    "подсчитает для каждой строчки в датафрейме количество символов в колонке content. Примеры кода по работе с текстовыми данными в pandas можно найти в гайде [working with text data](https://pandas.pydata.org/pandas-docs/stable/user_guide/text.html) документации, там же вы найдете список методов пандаса по работе с текстовыми данными.\n"
   ]
  },
  {
   "cell_type": "markdown",
   "metadata": {
    "id": "jxENWKcYogx4"
   },
   "source": [
    "# Задача 7"
   ]
  },
  {
   "cell_type": "markdown",
   "metadata": {
    "id": "x9P6zjNQmwrG"
   },
   "source": [
    "Найдите в датафрейме всех авторов, имя которых содержит ```Faith```. Выведите Series, состоящий из всех таких уникальных имен."
   ]
  },
  {
   "cell_type": "code",
   "execution_count": 62,
   "metadata": {
    "id": "5uP7vGeYj4lB"
   },
   "outputs": [
    {
     "data": {
      "text/plain": [
       "0     Faith Haleh Robinson\n",
       "1             Faith Karimi\n",
       "2     Faith Haleh Robinson\n",
       "3            Faith Karimi,\n",
       "4            Faith Karimi \n",
       "5           Faith Karimi, \n",
       "6             Faith Karimi\n",
       "7            Faith Karimi \n",
       "dtype: object"
      ]
     },
     "execution_count": 62,
     "metadata": {},
     "output_type": "execute_result"
    }
   ],
   "source": [
    "pd.Series(articles[articles['author'].str.contains('Faith', na=False)]['author'].unique())"
   ]
  },
  {
   "cell_type": "markdown",
   "metadata": {
    "id": "k4yoZNyzedCL"
   },
   "source": [
    "```\n",
    "0     Faith Haleh Robinson\n",
    "1             Faith Karimi\n",
    "2     Faith Haleh Robinson\n",
    "3            Faith Karimi,\n",
    "4            Faith Karimi\n",
    "5           Faith Karimi,\n",
    "6             Faith Karimi\n",
    "7            Faith Karimi\n",
    "dtype: object\n",
    "```"
   ]
  },
  {
   "cell_type": "markdown",
   "metadata": {
    "id": "ra73RA_Rogx4"
   },
   "source": [
    "Как можно заметить, в таблице существует множество различных написаний имени Faith Karimi. В основном эти написания различаются пунктуацией - лишние пробелы и запятые. Для правильного подсчета статистик для текстовых данных зачастую возникает необходимость в их предобработке.\n",
    "\n",
    "**Методы строк** можно вспомнить по этой ссылке: https://pythonworld.ru/tipy-dannyx-v-python/stroki-funkcii-i-metody-strok.html\n",
    "\n",
    "Проведите следующие преобразования для колонок ```author``` и ```content```:"
   ]
  },
  {
   "cell_type": "markdown",
   "metadata": {
    "id": "sg9RTogiogx5"
   },
   "source": [
    "# Задача 8"
   ]
  },
  {
   "cell_type": "markdown",
   "metadata": {
    "id": "Pk0XLWDrm5z9"
   },
   "source": [
    "Приведение текста к нижнему регистру:"
   ]
  },
  {
   "cell_type": "code",
   "execution_count": 71,
   "metadata": {},
   "outputs": [],
   "source": [
    "articles['author'] = articles['author'].str.lower()\n",
    "articles['content'] = articles['content'].str.lower()"
   ]
  },
  {
   "cell_type": "code",
   "execution_count": 72,
   "metadata": {},
   "outputs": [
    {
     "data": {
      "text/html": [
       "<div>\n",
       "<style scoped>\n",
       "    .dataframe tbody tr th:only-of-type {\n",
       "        vertical-align: middle;\n",
       "    }\n",
       "\n",
       "    .dataframe tbody tr th {\n",
       "        vertical-align: top;\n",
       "    }\n",
       "\n",
       "    .dataframe thead th {\n",
       "        text-align: right;\n",
       "    }\n",
       "</style>\n",
       "<table border=\"1\" class=\"dataframe\">\n",
       "  <thead>\n",
       "    <tr style=\"text-align: right;\">\n",
       "      <th></th>\n",
       "      <th>id</th>\n",
       "      <th>title</th>\n",
       "      <th>publication</th>\n",
       "      <th>author</th>\n",
       "      <th>date</th>\n",
       "      <th>year</th>\n",
       "      <th>month</th>\n",
       "      <th>content</th>\n",
       "    </tr>\n",
       "  </thead>\n",
       "  <tbody>\n",
       "    <tr>\n",
       "      <th>0</th>\n",
       "      <td>17283</td>\n",
       "      <td>House Republicans Fret About Winning Their Hea...</td>\n",
       "      <td>New York Times</td>\n",
       "      <td>carl hulse</td>\n",
       "      <td>2016-12-31</td>\n",
       "      <td>2016</td>\n",
       "      <td>12</td>\n",
       "      <td>washington  —   congressional republicans have...</td>\n",
       "    </tr>\n",
       "    <tr>\n",
       "      <th>1</th>\n",
       "      <td>17284</td>\n",
       "      <td>Rift Between Officers and Residents as Killing...</td>\n",
       "      <td>New York Times</td>\n",
       "      <td>benjamin mueller and al baker</td>\n",
       "      <td>2017-06-19</td>\n",
       "      <td>2017</td>\n",
       "      <td>6</td>\n",
       "      <td>after the bullet shells get counted, the blood...</td>\n",
       "    </tr>\n",
       "    <tr>\n",
       "      <th>2</th>\n",
       "      <td>17285</td>\n",
       "      <td>Tyrus Wong, ‘Bambi’ Artist Thwarted by Racial ...</td>\n",
       "      <td>New York Times</td>\n",
       "      <td>margalit fox</td>\n",
       "      <td>2017-01-06</td>\n",
       "      <td>2017</td>\n",
       "      <td>1</td>\n",
       "      <td>when walt disney’s “bambi” opened in 1942, cri...</td>\n",
       "    </tr>\n",
       "    <tr>\n",
       "      <th>3</th>\n",
       "      <td>17286</td>\n",
       "      <td>Among Deaths in 2016, a Heavy Toll in Pop Musi...</td>\n",
       "      <td>New York Times</td>\n",
       "      <td>william mcdonald</td>\n",
       "      <td>2017-04-10</td>\n",
       "      <td>2017</td>\n",
       "      <td>4</td>\n",
       "      <td>death may be the great equalizer, but it isn’t...</td>\n",
       "    </tr>\n",
       "    <tr>\n",
       "      <th>4</th>\n",
       "      <td>17287</td>\n",
       "      <td>Kim Jong-un Says North Korea Is Preparing to T...</td>\n",
       "      <td>New York Times</td>\n",
       "      <td>choe sang-hun</td>\n",
       "      <td>2017-01-02</td>\n",
       "      <td>2017</td>\n",
       "      <td>1</td>\n",
       "      <td>seoul, south korea  —   north korea’s leader, ...</td>\n",
       "    </tr>\n",
       "    <tr>\n",
       "      <th>...</th>\n",
       "      <td>...</td>\n",
       "      <td>...</td>\n",
       "      <td>...</td>\n",
       "      <td>...</td>\n",
       "      <td>...</td>\n",
       "      <td>...</td>\n",
       "      <td>...</td>\n",
       "      <td>...</td>\n",
       "    </tr>\n",
       "    <tr>\n",
       "      <th>49995</th>\n",
       "      <td>73465</td>\n",
       "      <td>Rex Tillerson Says Climate Change Is Real, but …</td>\n",
       "      <td>Atlantic</td>\n",
       "      <td>robinson meyer</td>\n",
       "      <td>2017-01-11</td>\n",
       "      <td>2017</td>\n",
       "      <td>1</td>\n",
       "      <td>as chairman and ceo of exxonmobil, rex tillers...</td>\n",
       "    </tr>\n",
       "    <tr>\n",
       "      <th>49996</th>\n",
       "      <td>73466</td>\n",
       "      <td>The Biggest Intelligence Questions Raised by t...</td>\n",
       "      <td>Atlantic</td>\n",
       "      <td>amy zegart</td>\n",
       "      <td>2017-01-11</td>\n",
       "      <td>2017</td>\n",
       "      <td>1</td>\n",
       "      <td>i’ve spent nearly 20 years looking at intellig...</td>\n",
       "    </tr>\n",
       "    <tr>\n",
       "      <th>49997</th>\n",
       "      <td>73467</td>\n",
       "      <td>Trump Announces Plan That Does Little to Resol...</td>\n",
       "      <td>Atlantic</td>\n",
       "      <td>jeremy venook</td>\n",
       "      <td>2017-01-11</td>\n",
       "      <td>2017</td>\n",
       "      <td>1</td>\n",
       "      <td>donald trump will not be taking necessary st...</td>\n",
       "    </tr>\n",
       "    <tr>\n",
       "      <th>49998</th>\n",
       "      <td>73468</td>\n",
       "      <td>Dozens of For-Profit Colleges Could Soon Close</td>\n",
       "      <td>Atlantic</td>\n",
       "      <td>emily deruy</td>\n",
       "      <td>2017-01-11</td>\n",
       "      <td>2017</td>\n",
       "      <td>1</td>\n",
       "      <td>dozens of   colleges could be forced to close ...</td>\n",
       "    </tr>\n",
       "    <tr>\n",
       "      <th>49999</th>\n",
       "      <td>73469</td>\n",
       "      <td>The Milky Way’s Stolen Stars</td>\n",
       "      <td>Atlantic</td>\n",
       "      <td>marina koren</td>\n",
       "      <td>2017-01-11</td>\n",
       "      <td>2017</td>\n",
       "      <td>1</td>\n",
       "      <td>the force of gravity can be described using a ...</td>\n",
       "    </tr>\n",
       "  </tbody>\n",
       "</table>\n",
       "<p>50000 rows × 8 columns</p>\n",
       "</div>"
      ],
      "text/plain": [
       "          id                                              title  \\\n",
       "0      17283  House Republicans Fret About Winning Their Hea...   \n",
       "1      17284  Rift Between Officers and Residents as Killing...   \n",
       "2      17285  Tyrus Wong, ‘Bambi’ Artist Thwarted by Racial ...   \n",
       "3      17286  Among Deaths in 2016, a Heavy Toll in Pop Musi...   \n",
       "4      17287  Kim Jong-un Says North Korea Is Preparing to T...   \n",
       "...      ...                                                ...   \n",
       "49995  73465   Rex Tillerson Says Climate Change Is Real, but …   \n",
       "49996  73466  The Biggest Intelligence Questions Raised by t...   \n",
       "49997  73467  Trump Announces Plan That Does Little to Resol...   \n",
       "49998  73468    Dozens of For-Profit Colleges Could Soon Close    \n",
       "49999  73469                       The Milky Way’s Stolen Stars   \n",
       "\n",
       "          publication                         author        date  year  month  \\\n",
       "0      New York Times                     carl hulse  2016-12-31  2016     12   \n",
       "1      New York Times  benjamin mueller and al baker  2017-06-19  2017      6   \n",
       "2      New York Times                   margalit fox  2017-01-06  2017      1   \n",
       "3      New York Times               william mcdonald  2017-04-10  2017      4   \n",
       "4      New York Times                  choe sang-hun  2017-01-02  2017      1   \n",
       "...               ...                            ...         ...   ...    ...   \n",
       "49995        Atlantic                 robinson meyer  2017-01-11  2017      1   \n",
       "49996        Atlantic                     amy zegart  2017-01-11  2017      1   \n",
       "49997        Atlantic                  jeremy venook  2017-01-11  2017      1   \n",
       "49998        Atlantic                    emily deruy  2017-01-11  2017      1   \n",
       "49999        Atlantic                   marina koren  2017-01-11  2017      1   \n",
       "\n",
       "                                                 content  \n",
       "0      washington  —   congressional republicans have...  \n",
       "1      after the bullet shells get counted, the blood...  \n",
       "2      when walt disney’s “bambi” opened in 1942, cri...  \n",
       "3      death may be the great equalizer, but it isn’t...  \n",
       "4      seoul, south korea  —   north korea’s leader, ...  \n",
       "...                                                  ...  \n",
       "49995  as chairman and ceo of exxonmobil, rex tillers...  \n",
       "49996  i’ve spent nearly 20 years looking at intellig...  \n",
       "49997    donald trump will not be taking necessary st...  \n",
       "49998  dozens of   colleges could be forced to close ...  \n",
       "49999  the force of gravity can be described using a ...  \n",
       "\n",
       "[50000 rows x 8 columns]"
      ]
     },
     "execution_count": 72,
     "metadata": {},
     "output_type": "execute_result"
    }
   ],
   "source": [
    "articles"
   ]
  },
  {
   "cell_type": "markdown",
   "metadata": {
    "id": "gcf2w2zTfOvN"
   },
   "source": [
    "```\n",
    "     id\ttitle\tpublication\tauthor\tdate\tyear\tmonth\tcontent\n",
    "0\t17283\tHouse Republicans Fret About Winning Their Hea...\tNew York Times\tcarl hulse\t2016-12-31\t2016\t12\twashington — congressional republicans have...\n",
    "1\t17284\tRift Between Officers and Residents as Killing...\tNew York Times\tbenjamin mueller and al baker\t2017-06-19\t2017\t6\tafter the bullet shells get counted, the blood...\n",
    "2\t17285\tTyrus Wong, ‘Bambi’ Artist Thwarted by Racial ...\tNew York Times\tmargalit fox\t2017-01-06\t2017\t1\twhen walt disney’s “bambi” opened in 1942, cri...\n",
    "3\t17286\tAmong Deaths in 2016, a Heavy Toll in Pop Musi...\tNew York Times\twilliam mcdonald\t2017-04-10\t2017\t4\tdeath may be the great equalizer, but it isn’t...\n",
    "4\t17287\tKim Jong-un Says North Korea Is Preparing to T...\tNew York Times\tchoe sang-hun\t2017-01-02\t2017\t1\tseoul, south korea — north korea’s leader, ...\n",
    "```"
   ]
  },
  {
   "cell_type": "markdown",
   "metadata": {
    "id": "X74CppvJogx5"
   },
   "source": [
    "# Задача 9"
   ]
  },
  {
   "cell_type": "markdown",
   "metadata": {
    "id": "Z8pwc3LUm9sW"
   },
   "source": [
    "Удаление всей пунктуации из текста.\n",
    "\n",
    "**Подсказка:** для вас уже создано начальное множество символов (достаточно ли его?). Символы надо исключить с помощью метода ```replace```."
   ]
  },
  {
   "cell_type": "markdown",
   "metadata": {
    "id": "Z5_hquhj70cO"
   },
   "source": [
    "Данного множества недостаточно, для примера, не хватает следующих символов: ’, ” и тд."
   ]
  },
  {
   "cell_type": "code",
   "execution_count": 77,
   "metadata": {
    "id": "7q3cAes_ogx5"
   },
   "outputs": [],
   "source": [
    "import string\n",
    "punctuation = set(string.punctuation)\n",
    "additional_punctuation = {\"’\", \"”\", \"“\", \"-\", \"—\"}\n",
    "punctuation.update(additional_punctuation)"
   ]
  },
  {
   "cell_type": "code",
   "execution_count": 78,
   "metadata": {
    "id": "Znv69fOuogx6"
   },
   "outputs": [],
   "source": [
    "# может работать несколько секунд\n",
    "def remove_punct(text):\n",
    "    for char in punctuation:\n",
    "        text = text.replace(char, \"\")\n",
    "    return text\n",
    "\n",
    "articles['content'] = articles['content'].apply(remove_punct)"
   ]
  },
  {
   "cell_type": "code",
   "execution_count": 79,
   "metadata": {
    "id": "67xpski1ogx6"
   },
   "outputs": [
    {
     "data": {
      "text/plain": [
       "'back in the late 90s getting a startup big enough to get onto the stock market was the thing to do  now a market crash a great recession and a possible   burst later     investors are  and the public stock market is increasingly volatile still going public is often viewed as the end goal for ambitious young tech companies  heres how and why startups wind up on the stock market     and why  back in the late 90s getting a startup big '"
      ]
     },
     "execution_count": 79,
     "metadata": {},
     "output_type": "execute_result"
    }
   ],
   "source": [
    "# пример того, что должно получиться после этого шага\n",
    "articles.content.loc[45926]"
   ]
  },
  {
   "cell_type": "markdown",
   "metadata": {
    "id": "gMQnnXElgR_e"
   },
   "source": [
    "```\n",
    "'back in the late 90s getting a startup big enough to get onto the stock market was the thing to do  now a market crash a great recession and a possible burst later  investors are and the public stock market is increasingly volatile still going public is often viewed as the end goal for ambitious young tech companies  heres how and why startups wind up on the stock market  and why  back in the late 90s getting a startup big '\n",
    "```"
   ]
  },
  {
   "cell_type": "markdown",
   "metadata": {
    "id": "bLCpap-nogx6"
   },
   "source": [
    "# Задача 10"
   ]
  },
  {
   "cell_type": "markdown",
   "metadata": {
    "id": "Of73mm9WnFHa"
   },
   "source": [
    "Удаление пробелов в начале и конце строки (воспользуйтесь готовым методом):"
   ]
  },
  {
   "cell_type": "code",
   "execution_count": 80,
   "metadata": {
    "id": "Hbg9z8BACi9_"
   },
   "outputs": [],
   "source": [
    "articles['content'] = articles['content'].str.strip()"
   ]
  },
  {
   "cell_type": "code",
   "execution_count": 81,
   "metadata": {
    "colab": {
     "base_uri": "https://localhost:8080/",
     "height": 70
    },
    "id": "6fEM9ws9ogx6",
    "outputId": "8dc89e90-b1df-4fd7-d907-e08efab0b3d8"
   },
   "outputs": [
    {
     "data": {
      "text/plain": [
       "'back in the late 90s getting a startup big enough to get onto the stock market was the thing to do  now a market crash a great recession and a possible   burst later     investors are  and the public stock market is increasingly volatile still going public is often viewed as the end goal for ambitious young tech companies  heres how and why startups wind up on the stock market     and why  back in the late 90s getting a startup big'"
      ]
     },
     "execution_count": 81,
     "metadata": {},
     "output_type": "execute_result"
    }
   ],
   "source": [
    "# check\n",
    "articles.content.loc[45926]"
   ]
  },
  {
   "cell_type": "markdown",
   "metadata": {
    "id": "7EyR7juAgYkz"
   },
   "source": [
    "```\n",
    "'back in the late 90s getting a startup big enough to get onto the stock market was the thing to do  now a market crash a great recession and a possible burst later  investors are and the public stock market is increasingly volatile still going public is often viewed as the end goal for ambitious young tech companies  heres how and why startups wind up on the stock market  and why  back in the late 90s getting a startup big'\n",
    "```"
   ]
  },
  {
   "cell_type": "markdown",
   "metadata": {
    "id": "j3rnMvbsogx6"
   },
   "source": [
    "# Задача 11"
   ]
  },
  {
   "cell_type": "markdown",
   "metadata": {
    "id": "wtINqVchnTXn"
   },
   "source": [
    "Замена подряд идущих пробелов одним пробелом:"
   ]
  },
  {
   "cell_type": "code",
   "execution_count": 83,
   "metadata": {
    "id": "sjmXPb4qHDTF"
   },
   "outputs": [],
   "source": [
    "articles['content'] = articles['content'].str.replace(r'\\s+', ' ', regex=True)"
   ]
  },
  {
   "cell_type": "code",
   "execution_count": 84,
   "metadata": {
    "id": "lbxJXv7xogx7"
   },
   "outputs": [
    {
     "data": {
      "text/plain": [
       "'back in the late 90s getting a startup big enough to get onto the stock market was the thing to do now a market crash a great recession and a possible burst later investors are and the public stock market is increasingly volatile still going public is often viewed as the end goal for ambitious young tech companies heres how and why startups wind up on the stock market and why back in the late 90s getting a startup big'"
      ]
     },
     "execution_count": 84,
     "metadata": {},
     "output_type": "execute_result"
    }
   ],
   "source": [
    "# check\n",
    "articles.content.loc[45926]"
   ]
  },
  {
   "cell_type": "markdown",
   "metadata": {
    "id": "L3sE4ksVgeim"
   },
   "source": [
    "```\n",
    "'back in the late 90s getting a startup big enough to get onto the stock market was the thing to do now a market crash a great recession and a possible burst later investors are and the public stock market is increasingly volatile still going public is often viewed as the end goal for ambitious young tech companies heres how and why startups wind up on the stock market and why back in the late 90s getting a startup big'\n",
    "```"
   ]
  },
  {
   "cell_type": "markdown",
   "metadata": {
    "id": "-qYZmgxcogx7"
   },
   "source": [
    "Если последовательно применить код из задач 8-11 к строке ```\"   It's 6 a.m. and I'm still doing this homework :((    \"```, то она преобразуется в строку  ```its 6 am and im still doing this homework```"
   ]
  },
  {
   "cell_type": "code",
   "execution_count": 89,
   "metadata": {
    "id": "IkdwmaFiPt11"
   },
   "outputs": [
    {
     "data": {
      "text/plain": [
       "'its 6 am and im still doing this homework'"
      ]
     },
     "execution_count": 89,
     "metadata": {},
     "output_type": "execute_result"
    }
   ],
   "source": [
    "text = pd.Series([\"   It's 6 a.m. and I'm still doing this homework :((    \"])\n",
    "\n",
    "text = text.str.lower()\n",
    "\n",
    "punctuation = set(string.punctuation)\n",
    "additional_punctuation = {\"’\", \"”\", \"“\", \"-\", \"—\"}\n",
    "punctuation.update(additional_punctuation)\n",
    "\n",
    "def remove_punct(text):\n",
    "    for char in punctuation:\n",
    "        text = text.replace(char, \"\")\n",
    "    return text\n",
    "\n",
    "text = text.apply(remove_punct)\n",
    "\n",
    "text = text.str.strip()\n",
    "\n",
    "text = text.str.replace(r'\\s+', ' ', regex=True)\n",
    "\n",
    "text.iloc[0]"
   ]
  },
  {
   "cell_type": "markdown",
   "metadata": {
    "id": "KLd2agwGogx7"
   },
   "source": [
    "\n",
    "Снова найдите в датафрейме всех авторов, имя которых содержит faith. Проверьте, что теперь различные способы написания «схлопываются» в один."
   ]
  },
  {
   "cell_type": "code",
   "execution_count": 102,
   "metadata": {
    "id": "1ocDvicfogx7"
   },
   "outputs": [],
   "source": [
    "authors_with_faith = articles[articles['author'].str.contains('faith', na=False)]['author']\n",
    "\n",
    "authors_cleaned = authors_with_faith.str.lower().apply(remove_punct).str.strip().str.replace(r'\\s+', ' ', regex=True)\n",
    "\n",
    "unique_authors = authors_cleaned.unique()"
   ]
  },
  {
   "cell_type": "code",
   "execution_count": 104,
   "metadata": {},
   "outputs": [
    {
     "data": {
      "text/plain": [
       "0    faith haleh robinson\n",
       "1            faith karimi\n",
       "dtype: object"
      ]
     },
     "execution_count": 104,
     "metadata": {},
     "output_type": "execute_result"
    }
   ],
   "source": [
    "pd.Series(unique_authors)"
   ]
  },
  {
   "cell_type": "markdown",
   "metadata": {
    "id": "wUCdNA7sgkIR"
   },
   "source": [
    "```\n",
    "0    faith haleh robinson\n",
    "1            faith karimi\n",
    "dtype: object\n",
    "```"
   ]
  },
  {
   "cell_type": "markdown",
   "metadata": {
    "id": "TktRnudg-G4R"
   },
   "source": [
    "Еще задачи:\n",
    "\n",
    "- https://www.machinelearningplus.com/python/101-pandas-exercises-python/\n",
    "- https://www.kaggle.com/code/tangchengshun/pandas-75-exercises-with-solutions\n",
    "- https://pandaspractice.com/\n",
    "- https://www.w3resource.com/python-exercises/pandas/index.php\n",
    "- https://grossmend.com/blog/post/pandas_120_part_2/"
   ]
  },
  {
   "cell_type": "code",
   "execution_count": null,
   "metadata": {
    "id": "a9SzwsX5_hFZ"
   },
   "outputs": [],
   "source": []
  }
 ],
 "metadata": {
  "colab": {
   "provenance": []
  },
  "kernelspec": {
   "display_name": "Python 3 (ipykernel)",
   "language": "python",
   "name": "python3"
  },
  "language_info": {
   "codemirror_mode": {
    "name": "ipython",
    "version": 3
   },
   "file_extension": ".py",
   "mimetype": "text/x-python",
   "name": "python",
   "nbconvert_exporter": "python",
   "pygments_lexer": "ipython3",
   "version": "3.11.7"
  }
 },
 "nbformat": 4,
 "nbformat_minor": 4
}
