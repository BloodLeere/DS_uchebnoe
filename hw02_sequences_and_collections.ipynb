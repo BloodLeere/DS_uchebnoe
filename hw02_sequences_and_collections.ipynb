{
 "cells": [
  {
   "cell_type": "markdown",
   "metadata": {
    "id": "csrK3FWeV9w2"
   },
   "source": [
    "# Домашнее задание 2"
   ]
  },
  {
   "cell_type": "markdown",
   "metadata": {
    "id": "ZtkRzv8RdQ1R"
   },
   "source": [
    "## Информация перед выполнением"
   ]
  },
  {
   "cell_type": "markdown",
   "metadata": {
    "id": "tEFHV_RPWBOM"
   },
   "source": [
    "**Указания:**\n",
    "\n",
    "1. Отвечать на вопросы в чате надо описанием идеи или ссылкой на источники - не лишайте других радости от **самостоятельно** найденного решения!\n",
    "2. Перед отправкой на проверку перезапустите ядро и запустите подряд все ячейки. Это можно сделать руками, а можно через Kernel --> Restart Kernel and Run All Cells, но второй вариант сработает только если ячейки запускаются без ошибок). Если есть ошибки, которые вы хотите показать проверяющему, то продолжите выполнять ячейки руками.\n",
    "3. Если какую-то задачу сделать не получилось, то виде **комментария к ячейке** с кодом этой задачи опишите свой ход мыслей или вопрос. **Комментарий к ячейке** вы можете оставить **только** в колабе: ПКМ по ячейке --> \"оставить комментарий\". Так проверяющий сможет вам помочь.\n",
    "4. Нерешенные задачи без вашего **комментария к ячейке** считаются нетронутыми, даже если в них есть код.\n",
    "5. Максимум за задание 15 первичных баллов\n",
    "6. Итоговая оценка ставится по формуле: `сумма_баллов // 3`"
   ]
  },
  {
   "cell_type": "markdown",
   "metadata": {
    "id": "-rkPxOr4cNBB"
   },
   "source": [
    "**Примечания и советы:**\n",
    "\n",
    "- Называйте переменные осмысленно\n",
    "- Сначала решите все задачи, которые сразу понимаете как решать\n",
    "- Если застряли на какой-то задаче, то попробуйте переключиться на другую\n",
    "- Стиль оформления кода должен соответствовать PEP8; строго это не отслеживается, но в случае злоупотреблений вас попросят переписать\n",
    "- Проверьте, что все ячейки выполняются без ошибок\n",
    "- В отправляемом на проверку ноутбуке не должно быть черновых ячеек - за них будут сниматься баллы\n",
    "- Проверяющий запускает код только при необходимости для проверки на собственных тестах"
   ]
  },
  {
   "cell_type": "markdown",
   "metadata": {
    "id": "OuBLI-hqdQ1T"
   },
   "source": [
    "**Для статистики:**\n",
    "\n",
    "- Просьба указывать используемые источники (в виде текстовой ячейки после кода), если вы нашли решение/идею/подсказку/etc в интернете/чате/etc.\n",
    "- Если таких источников несколько - просьба указать хотя бы 2-3 основных.\n",
    "- Если вы взяли чужое решение задачи, об этом также нужно указать."
   ]
  },
  {
   "cell_type": "markdown",
   "metadata": {
    "id": "TMYEVlUedQ1T"
   },
   "source": [
    "Если вы прочитали все пункты, поменяйте значение переменной `i_have_read_all_the_information` в коде ниже на `True` и запустите ячейку."
   ]
  },
  {
   "cell_type": "code",
   "execution_count": 20,
   "metadata": {
    "id": "SDIxV2V3dQ1T"
   },
   "outputs": [],
   "source": [
    "i_have_read_all_the_information = False\n",
    "i_have_read_all_the_information = True\n",
    "assert i_have_read_all_the_information"
   ]
  },
  {
   "cell_type": "markdown",
   "metadata": {
    "id": "4i8MlqSvYpar"
   },
   "source": [
    "# Часть 1. (8.5)"
   ]
  },
  {
   "cell_type": "markdown",
   "metadata": {
    "id": "IBgp0rEldQ1V"
   },
   "source": [
    "## Задача 1 (1)"
   ]
  },
  {
   "cell_type": "markdown",
   "metadata": {
    "id": "Q93AZNgUdQ1V"
   },
   "source": [
    "Напечатайте таблицу всех двоичных чисел длины `n` и соответствующие им числа в десятичной системе. Формат вывода как в примере."
   ]
  },
  {
   "cell_type": "markdown",
   "metadata": {
    "id": "VSgmvVFMdQ1V"
   },
   "source": [
    "**Пример для n = 2:**\n",
    "\n",
    "```\n",
    "00 - 0\n",
    "01 - 1\n",
    "10 - 2\n",
    "11 - 3\n",
    "```"
   ]
  },
  {
   "cell_type": "code",
   "execution_count": 30,
   "metadata": {
    "id": "jgiJEd78dQ1V"
   },
   "outputs": [
    {
     "name": "stdin",
     "output_type": "stream",
     "text": [
      " 5\n"
     ]
    },
    {
     "name": "stdout",
     "output_type": "stream",
     "text": [
      "00000 - 0\n",
      "00001 - 1\n",
      "00010 - 2\n",
      "00011 - 3\n",
      "00100 - 4\n",
      "00101 - 5\n",
      "00110 - 6\n",
      "00111 - 7\n",
      "01000 - 8\n",
      "01001 - 9\n",
      "01010 - 10\n",
      "01011 - 11\n",
      "01100 - 12\n",
      "01101 - 13\n",
      "01110 - 14\n",
      "01111 - 15\n",
      "10000 - 16\n",
      "10001 - 17\n",
      "10010 - 18\n",
      "10011 - 19\n",
      "10100 - 20\n",
      "10101 - 21\n",
      "10110 - 22\n",
      "10111 - 23\n",
      "11000 - 24\n",
      "11001 - 25\n",
      "11010 - 26\n",
      "11011 - 27\n",
      "11100 - 28\n",
      "11101 - 29\n",
      "11110 - 30\n",
      "11111 - 31\n"
     ]
    }
   ],
   "source": [
    "n = int(input())\n",
    "\n",
    "max_number = 2**n\n",
    "format_string = \"{:0\" + str(n) + \"b}\"\n",
    "\n",
    "for i in range(max_number):\n",
    "    binary = format_string.format(i)\n",
    "    decimal = i\n",
    "    print(f\"{binary} - {decimal}\")"
   ]
  },
  {
   "cell_type": "code",
   "execution_count": null,
   "metadata": {
    "id": "cME19c7adQ1V"
   },
   "outputs": [],
   "source": [
    "# ваш код в этой ячейке\n",
    "# можно придумать в одну строку"
   ]
  },
  {
   "cell_type": "markdown",
   "metadata": {
    "id": "j4X1L5S3dQ1V"
   },
   "source": [
    "## Задача 2 (0.3)"
   ]
  },
  {
   "cell_type": "markdown",
   "metadata": {
    "id": "ujm7moxFdQ1V"
   },
   "source": [
    "Создайте строку `\"\"\"'''\\/'''\"\"\"` (это надо сделать одним литералом) и положите ее в переменную `quotes`. В этой строке ровно 14 символов."
   ]
  },
  {
   "cell_type": "code",
   "execution_count": 50,
   "metadata": {
    "id": "URLrVFILdQ1V"
   },
   "outputs": [
    {
     "name": "stdout",
     "output_type": "stream",
     "text": [
      "\"\"\"'''\\/'''\"\"\"\n"
     ]
    }
   ],
   "source": [
    "quotes = '\"\"\"\\'\\'\\'\\\\/\\'\\'\\'\"\"\"'\n",
    "print(quotes)"
   ]
  },
  {
   "cell_type": "markdown",
   "metadata": {
    "id": "5Cbmm1qldQ1W"
   },
   "source": [
    "Если вы все сделали правильно, то после следующей ячейки вы увидите надпись \"тесты пройдены\":"
   ]
  },
  {
   "cell_type": "code",
   "execution_count": 49,
   "metadata": {
    "id": "C3Y1MW6_dQ1W"
   },
   "outputs": [
    {
     "name": "stdout",
     "output_type": "stream",
     "text": [
      "тесты пройдены\n"
     ]
    }
   ],
   "source": [
    "# tests\n",
    "\n",
    "assert len(quotes) == 14, 'в вашей строке не 14 символов'\n",
    "assert quotes[0] == quotes[1] == quotes[2] == quotes[11] == quotes[12] == quotes[13] == '\"'\n",
    "assert quotes[3] == quotes[4] == quotes[5] == quotes[8] == quotes[9] == quotes[10] == \"'\"\n",
    "assert quotes[6] == '\\\\'\n",
    "assert quotes[7] == '/'\n",
    "\n",
    "print('тесты пройдены')"
   ]
  },
  {
   "cell_type": "markdown",
   "metadata": {
    "id": "IGsG3l8YdQ1W"
   },
   "source": [
    "## Задача 3 (0.3)"
   ]
  },
  {
   "cell_type": "markdown",
   "metadata": {
    "id": "WJbmS5YtdQ1W"
   },
   "source": [
    "Очистите `text`:\n",
    "\n",
    "- замените несколько подряд идущих пробелов одним пробелом\n",
    "- удалите лишние пробелы в начале и конце строки\n",
    "- используйте строковые методы"
   ]
  },
  {
   "cell_type": "code",
   "execution_count": 53,
   "metadata": {
    "id": "i2IcYq9sdQ1W"
   },
   "outputs": [],
   "source": [
    "text = ' You will   probably  need          this     trick to   prepare data  for NLP tasks!  '"
   ]
  },
  {
   "cell_type": "code",
   "execution_count": 68,
   "metadata": {
    "id": "aKiaKzNldQ1W"
   },
   "outputs": [
    {
     "name": "stdout",
     "output_type": "stream",
     "text": [
      "You will probably need this trick to prepare data for NLP tasks!\n"
     ]
    }
   ],
   "source": [
    "print(' '.join(teext.split()))"
   ]
  },
  {
   "cell_type": "markdown",
   "metadata": {
    "id": "8-MFZQ3xLIlU"
   },
   "source": [
    "## Задача 4 (1)"
   ]
  },
  {
   "cell_type": "markdown",
   "metadata": {
    "id": "FbB15RNreEwU"
   },
   "source": [
    "Эта задача состоит из _последовательного_ выполнения нескольких пунктов.\n",
    "\n",
    "1. Прочитайте текст переменной `python_text`\n",
    "2. Создайте переменную `cleared_python_text`, _удалив_ (заменив на пустую строку) все небуквенные символы из строки `python_text` (оставьте **только** буквы, цифры и пробельные символы)\n",
    "3. Приведите строку `cleared_python_text` к нижнему регистру\n",
    "4. Создайте список `python_words`, состоящий из слов строки `cleared_python_text`.\n",
    "5. Выведите длину получившегося списка `python_words`.\n",
    "\n",
    "**Подсказки:**\n",
    "- в модуле `string` есть интересные константы с символами\n",
    "- используйте строковые методы\n",
    "- выполняйте задачу, представляя, будто вы не знаете, что надо выполнить в следующем пункте\n",
    "- про пункт 4 или что считается \"словом\" в последовательности символов: максимальная по включению непустая последовательность символов без пробельных. Пример (см середину текста ниже): `1991` словом является, а `199` или `991` - нет.\n"
   ]
  },
  {
   "cell_type": "code",
   "execution_count": 8,
   "metadata": {
    "id": "CF2q1lHnLIlU",
    "tags": []
   },
   "outputs": [],
   "source": [
    "python_text = \"\"\"\n",
    "Python is an interpreted high-level general-purpose programming language. Python's design\n",
    "philosophy emphasizes code readability with its notable use of significant indentation. Its\n",
    "language constructs as well as its object-oriented approach aim to help programmers write clear,\n",
    "logical code for small and large-scale projects. Python is dynamically-typed and\n",
    "garbage-collected. It supports multiple programming paradigms, including structured (particularly,\n",
    "procedural), object-oriented and functional programming. Python is often described as a \"batteries\n",
    "included\" language due to its comprehensive standard library. Guido van Rossum began working on\n",
    "Python in the late 1980s, as a successor to the ABC programming language, and first released it in\n",
    "1991 as Python 0.9.0. Python 2.0 was released in 2000 and introduced new features, such as list\n",
    "comprehensions and a garbage collection system using reference counting. Python 3.0 was released in\n",
    "2008 and was a major revision of the language that is not completely backward-compatible and much\n",
    "Python 2 code does not run unmodified on Python 3. Python 2 was discontinued with version 2.7.18 in\n",
    "2020. Python consistently ranks as one of the most popular programming\n",
    "languages.\n",
    "\"\"\"\n"
   ]
  },
  {
   "cell_type": "code",
   "execution_count": 9,
   "metadata": {
    "id": "9COzLZ5bchzp"
   },
   "outputs": [],
   "source": [
    "import string"
   ]
  },
  {
   "cell_type": "code",
   "execution_count": 10,
   "metadata": {
    "id": "ymxoyv2ZLIlV"
   },
   "outputs": [],
   "source": [
    "cleared_python_text = ''.join(char if char.isalnum() or char.isspace() else '' for char in python_text)"
   ]
  },
  {
   "cell_type": "code",
   "execution_count": 11,
   "metadata": {
    "id": "azESjnwRAlh2"
   },
   "outputs": [],
   "source": [
    "cleared_python_text = cleared_python_text.lower()"
   ]
  },
  {
   "cell_type": "code",
   "execution_count": 12,
   "metadata": {
    "id": "lIVKaG-RAl4T"
   },
   "outputs": [],
   "source": [
    "python_words = cleared_python_text.split()"
   ]
  },
  {
   "cell_type": "code",
   "execution_count": 13,
   "metadata": {
    "id": "N9p_vtMXAn5M"
   },
   "outputs": [
    {
     "name": "stdout",
     "output_type": "stream",
     "text": [
      "177\n"
     ]
    }
   ],
   "source": [
    "print(len(python_words))"
   ]
  },
  {
   "cell_type": "markdown",
   "metadata": {
    "id": "Pn0BHR1SLIlW"
   },
   "source": [
    "## Задача 5 (1)"
   ]
  },
  {
   "cell_type": "markdown",
   "metadata": {
    "id": "OgvEohbsd_kb"
   },
   "source": [
    "С помощью `list comprehension` создайте матрицу (список, состоящий из списков чисел) размера $N \\times N$, содержащую квадраты чисел по возрастанию, начиная с 0. Сначала заполняется первая колонка, затем вторая и т.д.\n",
    "\n",
    "**Подсказка:** сначала сделайте двойным циклом\n",
    "\n",
    "**Пример ввода:**\n",
    "```python\n",
    "3\n",
    "```\n",
    "\n",
    "**Пример вывода:**\n",
    "```python\n",
    "[[0, 9, 36]\n",
    "[1, 16, 49]\n",
    "[4, 25, 64]]\n",
    "```"
   ]
  },
  {
   "cell_type": "code",
   "execution_count": 1,
   "metadata": {
    "id": "l3V2rBUxLIlW"
   },
   "outputs": [
    {
     "name": "stdin",
     "output_type": "stream",
     "text": [
      " 5\n"
     ]
    },
    {
     "name": "stdout",
     "output_type": "stream",
     "text": [
      "[0, 25, 100, 225, 400]\n",
      "[1, 36, 121, 256, 441]\n",
      "[4, 49, 144, 289, 484]\n",
      "[9, 64, 169, 324, 529]\n",
      "[16, 81, 196, 361, 576]\n"
     ]
    }
   ],
   "source": [
    "n = int(input())\n",
    "\n",
    "squares = [i**2 for i in range(n * n)]\n",
    "\n",
    "matrix = [[squares[i * n + j] for j in range(n)] for i in range(n)]\n",
    "mat_tran = [[matrix[i][j] for i in range(len(matrix))] for j in range(len(matrix[0]))]\n",
    "\n",
    "for l in mat_tran:\n",
    "    print(l)"
   ]
  },
  {
   "cell_type": "markdown",
   "metadata": {
    "id": "wS1oIF_JLIlW"
   },
   "source": [
    "## Задача 6 (0.5)\n",
    "\n"
   ]
  },
  {
   "cell_type": "markdown",
   "metadata": {
    "id": "aO9gx1U3d8yJ"
   },
   "source": [
    "На вход подается список `input_list`, в котором не более одного уровня вложенности: он может содержать в себе как числа, так и другие списки, содержащие только числа. Необходимо \"вырОвнить\" список `input_list` (см. пример), поместить результат в список `output_list` и вывести его.\n",
    "\n",
    "**Пример `input_list`:**\n",
    "```python\n",
    "[0, [1, 2], 4, [1, 0, 3]]\n",
    "```\n",
    "\n",
    "**Пример вывода:**\n",
    "```python\n",
    "[0, 1, 2, 4, 1, 0, 3]\n",
    "```"
   ]
  },
  {
   "cell_type": "code",
   "execution_count": 100,
   "metadata": {
    "id": "zD9PrfOSdQ1Y",
    "tags": []
   },
   "outputs": [],
   "source": [
    "input_list = [0, [1, 2], 4, [1, 0, 3], 42, [42], [], [0, 0, 0]]"
   ]
  },
  {
   "cell_type": "code",
   "execution_count": 103,
   "metadata": {
    "id": "EIGg_nXqLIlW"
   },
   "outputs": [
    {
     "name": "stdout",
     "output_type": "stream",
     "text": [
      "[0, 1, 2, 4, 1, 0, 3, 42, 42, 0, 0, 0]\n"
     ]
    }
   ],
   "source": [
    "output_list = []\n",
    "\n",
    "for i in input_list:\n",
    "    if isinstance(i, int):\n",
    "        output_list.append(i)\n",
    "    if isinstance(i, list):\n",
    "        for item in i:\n",
    "            output_list.append(item)\n",
    "\n",
    "print(output_list)"
   ]
  },
  {
   "cell_type": "markdown",
   "metadata": {
    "id": "EAMK_9rYLIlX"
   },
   "source": [
    "## Задача 7 (0.5)"
   ]
  },
  {
   "cell_type": "markdown",
   "metadata": {
    "id": "jxfKuIlSdElx"
   },
   "source": [
    "На вход подается список кортежей `ts`. Для каждого кортежа посчитайте сумму и среднее его элементов. Верните список, состоящий из кортежей `(сумма, среднее)`.\n",
    "\n",
    "**Пример входа:**\n",
    "```python\n",
    "[(1,), (2, 3, -8)]\n",
    "```\n",
    "**Пример вывода:**\n",
    "```python\n",
    "[(1, 1), (-3, -1)]\n",
    "```"
   ]
  },
  {
   "cell_type": "code",
   "execution_count": 21,
   "metadata": {
    "id": "5iFmMzuELIlX"
   },
   "outputs": [],
   "source": [
    "ts = [(1,), (2, 3, -8), (3, 4), (2, 2, 2, 2), (0, 1, 2, 98, 99)]"
   ]
  },
  {
   "cell_type": "code",
   "execution_count": 22,
   "metadata": {
    "id": "7CX0DBebd4zh"
   },
   "outputs": [
    {
     "name": "stdout",
     "output_type": "stream",
     "text": [
      "[(1, 1), (-3, -1), (7, 3), (8, 2), (200, 40)]\n"
     ]
    }
   ],
   "source": [
    "result = [(sum(t), int(sum(t) / len(t))) for t in ts]\n",
    "\n",
    "print(result)"
   ]
  },
  {
   "cell_type": "markdown",
   "metadata": {
    "id": "ATgzZd6WLIlX"
   },
   "source": [
    "## Задача 8 (0.5)"
   ]
  },
  {
   "cell_type": "markdown",
   "metadata": {
    "id": "O1HK18-4fk1i"
   },
   "source": [
    "На вход подается список кортежей `ts`. У всех кортежей одинаковое количество элементов, элементами всех кортежей являются числа. Выведите два кортежа: с поэлементными суммами и с поэлементными средними.\n",
    "\n",
    "**Пример входа:**\n",
    "```python\n",
    "[(1, 5), (1, 7), (2, 8)]\n",
    "```\n",
    "**Пример вывода:**\n",
    "```python\n",
    "(4, 20)\n",
    "(1.3333333333333333, 6.666666666666667)\n",
    "```"
   ]
  },
  {
   "cell_type": "code",
   "execution_count": 28,
   "metadata": {
    "id": "Ef65-mPEdQ1i"
   },
   "outputs": [],
   "source": [
    "ts = [\n",
    "    (1, 2, 3, 4),\n",
    "    (11, 21, 31, 41),\n",
    "    (121, 231, 341, 451),\n",
    "    (1331, 2541, 3751, 4961),\n",
    "    (121, 231, 341, 451),\n",
    "    (11, 21, 31, 41),\n",
    "    (1, 2, 3, 4),\n",
    "]"
   ]
  },
  {
   "cell_type": "code",
   "execution_count": 29,
   "metadata": {
    "id": "-Tipld8kLIlX"
   },
   "outputs": [
    {
     "name": "stdout",
     "output_type": "stream",
     "text": [
      "(1597, 3049, 4501, 5953)\n",
      "(228.14285714285714, 435.57142857142856, 643.0, 850.4285714285714)\n"
     ]
    }
   ],
   "source": [
    "n = len(ts[0])\n",
    "\n",
    "sums = [0] * n\n",
    "averages = [0] * n\n",
    "\n",
    "for t in ts:\n",
    "    for i in range(n):\n",
    "        sums[i] += t[i]\n",
    "\n",
    "averages = [s / len(ts) for s in sums]\n",
    "\n",
    "sums_tuple = tuple(sums)\n",
    "averages_tuple = tuple(a for a in averages) \n",
    "\n",
    "print(sums_tuple)\n",
    "print(averages_tuple)"
   ]
  },
  {
   "cell_type": "markdown",
   "metadata": {
    "id": "6Au2odgSLIlX"
   },
   "source": [
    "## Задача 9 (1)"
   ]
  },
  {
   "cell_type": "markdown",
   "metadata": {
    "id": "6L2AWuBEeK5_"
   },
   "source": [
    "На вход подается список `xs` из строк формата `\"имя число\"`. В качестве ответа выведите список кортежей `(\"имя\", число)`, отсортированный по убыванию чисел. Кортежи с одинаковыми числами должны быть отсортированы лексикографически по имени.\n",
    "\n",
    "**Указание:**\n",
    "- параметр `key` встроенных функций использовать запрещено\n",
    "\n",
    "**Подсказка:**\n",
    "- сравнение кортежей (но можно и без него)\n",
    "\n",
    "**Пример входа:**\n",
    "```python\n",
    "[\"alice 10\", \"bob 20\", \"bertha 20\"]\n",
    "```\n",
    "\n",
    "**Пример вывода:**\n",
    "```python\n",
    "[(\"bertha\", 20), (\"bob\", 20), (\"alice\", 10)]\n",
    "```"
   ]
  },
  {
   "cell_type": "code",
   "execution_count": 1,
   "metadata": {
    "id": "_v4XnFM5dQ1i"
   },
   "outputs": [],
   "source": [
    "xs = ['bob2 20', 'bob3 20', \"alice 10\", \"bob1 20\",\n",
    "      \"bertha 20\", 'david 0', 'alic 10', \"chris 0\"]"
   ]
  },
  {
   "cell_type": "code",
   "execution_count": 2,
   "metadata": {
    "id": "GtBGv1BlLIlX"
   },
   "outputs": [
    {
     "name": "stdout",
     "output_type": "stream",
     "text": [
      "[('bertha', 20), ('bob1', 20), ('bob2', 20), ('bob3', 20), ('alic', 10), ('alice', 10), ('chris', 0), ('david', 0)]\n"
     ]
    }
   ],
   "source": [
    "tuples = [(x.split()[0], int(x.split()[1])) for x in xs]\n",
    "\n",
    "n = len(tuples)\n",
    "for i in range(n):\n",
    "    for j in range(0, n-i-1):\n",
    "        if tuples[j][1] < tuples[j+1][1] or (tuples[j][1] == tuples[j+1][1] and tuples[j][0] > tuples[j+1][0]):\n",
    "            tuples[j], tuples[j+1] = tuples[j+1], tuples[j]\n",
    "\n",
    "print(tuples)\n",
    "\n"
   ]
  },
  {
   "cell_type": "markdown",
   "metadata": {
    "id": "zZZSn9COdQ1i"
   },
   "source": [
    "## Задача 10 (0.5 + 0.5)\n",
    "\n",
    "Состоит из двух задач."
   ]
  },
  {
   "cell_type": "markdown",
   "metadata": {
    "id": "Cq5rrV2YdQ1i"
   },
   "source": [
    "**Указание:**\n",
    "\n",
    "```python\n",
    "for d in ds:\n",
    "    ...\n",
    "```"
   ]
  },
  {
   "cell_type": "markdown",
   "metadata": {
    "id": "coPqGYSBLIlX"
   },
   "source": [
    "### Задача 10.1"
   ]
  },
  {
   "cell_type": "markdown",
   "metadata": {
    "id": "ndKtQ0r0iImH"
   },
   "source": [
    "У вас есть очередь словарей, заданная списком `ds`. Вы поочередно обрабатываете их и объединяете в один. Ваша программа должна сразу обрабатывать пришедший словарь (см указание). Если ключ уже присутствует, то оставляйте **более позднее** значение.\n",
    "\n",
    "**Пример ввода:**\n",
    "```python\n",
    "[{'key1': 10, 'key2': 20}, {'key1': 50, 'key3': 30}]\n",
    "```\n",
    "**Пример вывода:**\n",
    "```python\n",
    "{'key1': 50, 'key2': 20, 'key3': 30}\n",
    "```"
   ]
  },
  {
   "cell_type": "code",
   "execution_count": 1,
   "metadata": {
    "id": "TjdC9ogtiaAg",
    "tags": []
   },
   "outputs": [],
   "source": [
    "ds = [\n",
    "    {'key1': 10, 'key2': 20},\n",
    "    {'key3': 30, 'key4': 40},\n",
    "    {'key1': 50, 'key5': 60},\n",
    "    {'key1': 70, 'key2': 10},\n",
    "    {'key3': 90, 'key4': 70},\n",
    "    {'key6': 50, 'key5': 80},\n",
    "]"
   ]
  },
  {
   "cell_type": "code",
   "execution_count": 2,
   "metadata": {
    "id": "it_ThaYBLIlY"
   },
   "outputs": [
    {
     "name": "stdout",
     "output_type": "stream",
     "text": [
      "{'key1': 70, 'key2': 10, 'key3': 90, 'key4': 70, 'key5': 80, 'key6': 50}\n"
     ]
    }
   ],
   "source": [
    "result = {}\n",
    "\n",
    "for d in ds:\n",
    "    result.update(d)\n",
    "\n",
    "print(result)"
   ]
  },
  {
   "cell_type": "markdown",
   "metadata": {
    "id": "4K-2EegRLIlY"
   },
   "source": [
    "### Задача 10.2"
   ]
  },
  {
   "cell_type": "markdown",
   "metadata": {
    "id": "w0vnJmokik7O"
   },
   "source": [
    "У вас есть очередь словарей, заданная списком `ds`. Вы поочередно обрабатываете их и объединяете в один. Ваша программа должна сразу обрабатывать пришедший словарь (см указание). Если ключ уже присутствует, то оставляйте **более раннее** значение.\n",
    "\n",
    "**Подсказка:** методы словарей\n",
    "\n",
    "**Пример ввода:**\n",
    "```python\n",
    "[{'key1': 10, 'key2': 20}, {'key1': 50, 'key3': 30}]\n",
    "```\n",
    "**Пример вывода:**\n",
    "```python\n",
    "{'key1': 10, 'key2': 20, 'key3': 30}\n",
    "```"
   ]
  },
  {
   "cell_type": "code",
   "execution_count": 5,
   "metadata": {
    "id": "_6cGXbmuit__",
    "tags": []
   },
   "outputs": [],
   "source": [
    "ds = [\n",
    "    {'key1': 10, 'key2': 20},\n",
    "    {'key3': 30, 'key4': 40},\n",
    "    {'key1': 50, 'key5': 60},\n",
    "    {'key1': 70, 'key2': 10},\n",
    "    {'key3': 90, 'key4': 70},\n",
    "    {'key6': 50, 'key5': 80},\n",
    "]"
   ]
  },
  {
   "cell_type": "code",
   "execution_count": 6,
   "metadata": {
    "id": "euYkiGj8LIlY"
   },
   "outputs": [
    {
     "name": "stdout",
     "output_type": "stream",
     "text": [
      "{'key1': 10, 'key2': 20, 'key3': 30, 'key4': 40, 'key5': 60, 'key6': 50}\n"
     ]
    }
   ],
   "source": [
    "result = {}\n",
    "\n",
    "for d in ds:\n",
    "    for key, value in d.items():\n",
    "        if key not in result:\n",
    "            result[key] = value\n",
    "\n",
    "print(result)"
   ]
  },
  {
   "cell_type": "markdown",
   "metadata": {
    "id": "t2pv7UVeLIlY"
   },
   "source": [
    "## Задача 11 (0.5)"
   ]
  },
  {
   "cell_type": "markdown",
   "metadata": {
    "id": "dIhiZLmhjBML"
   },
   "source": [
    "Сделайте частотный анализ слов в **уже очищенном** тексте из Задачи 4 и выведите 10 самых часто встречаемых слов в порядке возрастания частоты, каждое с новой строки, через пробел его частоту.\n",
    "\n",
    "Пример вывода: `python 123`\n",
    "\n",
    "**Указание:** сначала решите без использования модуля `collections`, а затем с ним."
   ]
  },
  {
   "cell_type": "code",
   "execution_count": 14,
   "metadata": {
    "id": "1tuOlPH7LIlY"
   },
   "outputs": [
    {
     "name": "stdout",
     "output_type": "stream",
     "text": [
      "an 1\n",
      "interpreted 1\n",
      "highlevel 1\n",
      "generalpurpose 1\n",
      "pythons 1\n",
      "design 1\n",
      "philosophy 1\n",
      "emphasizes 1\n",
      "readability 1\n",
      "notable 1\n"
     ]
    }
   ],
   "source": [
    "import string\n",
    "\n",
    "cleared_python_text = ''.join(char if char.isalnum() or char.isspace() else '' for char in python_text)\n",
    "\n",
    "cleared_python_text = cleared_python_text.lower()\n",
    "\n",
    "python_words = cleared_python_text.split()\n",
    "\n",
    "word_count = {}\n",
    "\n",
    "for word in python_words:\n",
    "    if word in word_count:\n",
    "        word_count[word] += 1\n",
    "    else:\n",
    "        word_count[word] = 1\n",
    "\n",
    "sorted_word_count = sorted(word_count.items(), key=lambda item: item[1])\n",
    "\n",
    "most_common_words = sorted_word_count[:10]\n",
    "\n",
    "for word, freq in most_common_words:\n",
    "    print(f\"{word} {freq}\")\n"
   ]
  },
  {
   "cell_type": "code",
   "execution_count": null,
   "metadata": {
    "id": "zzrqw_gAdQ1j"
   },
   "outputs": [],
   "source": [
    "# ячейка для кода с collections"
   ]
  },
  {
   "cell_type": "markdown",
   "metadata": {
    "id": "3a4LB09LLIlZ"
   },
   "source": [
    "## Задача 12 (5 х 0.1 + 0.4)"
   ]
  },
  {
   "cell_type": "markdown",
   "metadata": {
    "id": "wMsU0ma_kKmh"
   },
   "source": [
    "**Каждую** мини-задачу решать в одну строку в отдельной ячейке. Считать, что на входе каждой из них даны два списка `xs1` и `xs2`. Используйте методы `set`.\n",
    "\n",
    "Поочередно выведите списки со всеми элементами:\n",
    "\n",
    "1. которые есть в обоих списках\n",
    "2. которые есть только в одном из списков\n",
    "3. которые есть в `xs1`, но нет в `xs2`\n",
    "4. которые есть в `xs2`, но нет в `xs1`\n",
    "\n",
    "Затем:\n",
    "\n",
    "5. проверьте, что в `xs1` все элементы уникальны (выведите `True` или `False`)\n",
    "6. выведите модуль разности между минимальным значением среди элементов, которые встречаются только в одном из списков и максимальным значением среди общих элементов списков\n",
    "\n",
    "**Пример ввода:**\n",
    "```python\n",
    "[1, 1, 2, 3, 5, 8, 13, 21, 34, 55, 89]\n",
    "[1, 2, 3, 4, 5, 6, 7, 8, 9, 10, 11, 12, 13]\n",
    "```\n",
    "**Пример вывода:**\n",
    "```python\n",
    "[1, 2, 3, 5, 8, 13]\n",
    "```"
   ]
  },
  {
   "cell_type": "code",
   "execution_count": 2,
   "metadata": {
    "id": "MKIYeIhdxll8"
   },
   "outputs": [],
   "source": [
    "xs1 = [1, 1, 2, 3, 5, 8, 13, 21, 34, 55]\n",
    "xs2 = [1, 2, 3, 4, 5, 6, 7, 8, 9, 10, 11, 12, 13]"
   ]
  },
  {
   "cell_type": "code",
   "execution_count": 3,
   "metadata": {
    "id": "isKHuX_Kv3IW"
   },
   "outputs": [
    {
     "name": "stdout",
     "output_type": "stream",
     "text": [
      "[1, 2, 3, 5, 8, 13]\n"
     ]
    }
   ],
   "source": [
    "set1 = set(xs1)\n",
    "set2 = set(xs2)\n",
    "\n",
    "result = list(set1 & set2)\n",
    "\n",
    "print(result)"
   ]
  },
  {
   "cell_type": "code",
   "execution_count": 4,
   "metadata": {
    "id": "yp8Zl6-fdQ1k"
   },
   "outputs": [
    {
     "name": "stdout",
     "output_type": "stream",
     "text": [
      "[34, 4, 6, 7, 9, 10, 11, 12, 21, 55]\n"
     ]
    }
   ],
   "source": [
    "set1 = set(xs1)\n",
    "set2 = set(xs2)\n",
    "\n",
    "result = list(set1 ^ set2)\n",
    "\n",
    "print(result)"
   ]
  },
  {
   "cell_type": "code",
   "execution_count": 5,
   "metadata": {
    "id": "smoTsgQudQ1k"
   },
   "outputs": [
    {
     "name": "stdout",
     "output_type": "stream",
     "text": [
      "[34, 21, 55]\n"
     ]
    }
   ],
   "source": [
    "set1 = set(xs1)\n",
    "set2 = set(xs2)\n",
    "\n",
    "result = list(set1 - set2)\n",
    "\n",
    "print(result)"
   ]
  },
  {
   "cell_type": "code",
   "execution_count": 6,
   "metadata": {
    "id": "_YldSvT8dQ1k"
   },
   "outputs": [
    {
     "name": "stdout",
     "output_type": "stream",
     "text": [
      "[4, 6, 7, 9, 10, 11, 12]\n"
     ]
    }
   ],
   "source": [
    "set1 = set(xs1)\n",
    "set2 = set(xs2)\n",
    "\n",
    "result = list(set2 - set1)\n",
    "\n",
    "print(result)"
   ]
  },
  {
   "cell_type": "code",
   "execution_count": 7,
   "metadata": {
    "id": "NSP0DRmCdQ1k"
   },
   "outputs": [
    {
     "name": "stdout",
     "output_type": "stream",
     "text": [
      "False\n"
     ]
    }
   ],
   "source": [
    "are_unique = len(xs1) == len(set(xs1))\n",
    "\n",
    "print(are_unique)"
   ]
  },
  {
   "cell_type": "code",
   "execution_count": 8,
   "metadata": {
    "id": "wJYW7m9wdQ1k",
    "tags": []
   },
   "outputs": [
    {
     "name": "stdout",
     "output_type": "stream",
     "text": [
      "9\n"
     ]
    }
   ],
   "source": [
    "set1 = set(xs1)\n",
    "set2 = set(xs2)\n",
    "\n",
    "unique_elements = set1 ^ set2\n",
    "common_elements = set1 & set2\n",
    "\n",
    "min_unique = min(unique_elements) if unique_elements else None\n",
    "\n",
    "max_common = max(common_elements) if common_elements else None\n",
    "\n",
    "if min_unique is not None and max_common is not None:\n",
    "    result = abs(min_unique - max_common)\n",
    "else:\n",
    "    result = None \n",
    "\n",
    "print(result)"
   ]
  },
  {
   "cell_type": "markdown",
   "metadata": {
    "id": "w4WUA2FUdQ1k"
   },
   "source": [
    "# Часть 2 (6.5)"
   ]
  },
  {
   "cell_type": "markdown",
   "metadata": {
    "id": "xZg10LUVdQ1k"
   },
   "source": [
    "## Задача лингвиста (1.5)"
   ]
  },
  {
   "cell_type": "markdown",
   "metadata": {
    "id": "YFyVEkAadQ1k"
   },
   "source": [
    "Вы лингвист, изучающий новые языки. У вас имеется много текстов, написанных на этих языках.\n",
    "\n",
    "Ваша первоочередная задача для каждого набора литературы определить:\n",
    "\n",
    "- алфавит языка - набор различных символов\n",
    "- мощность алфавита - их количество\n",
    "\n",
    "Для каждого языка с новой строки выведите лексикографически отсортированный алфавит, а через двоеточие - его мощность. Перед печатью алфавита выводите символ `#` (визуальный разделитель). Например, для двоичного алфавита ответ выглядел бы так: `#01: 2`, для троичного так: `#012: 3`\n",
    "\n",
    "- незнакомые определения можно посмотреть тут: https://resh.edu.ru/subject/lesson/7319/conspect/250679/"
   ]
  },
  {
   "cell_type": "code",
   "execution_count": 10,
   "metadata": {
    "id": "J23-BdvudQ1l"
   },
   "outputs": [],
   "source": [
    "literature01 = [\n",
    "    'פייתון מוקלד באופן דינמי ואוסף אשפה!',\n",
    "    'הוא תומך בפרדיגמות תכנות מרובות, כולל תכנות מובנה (פרוצדורלי במיוחד), מונחה עצמים ופונקציונלי.',\n",
    "    'זה מתואר לעתים קרובות כשפה\" סוללות כלולות \" בשל הספרייה הסטנדרטית המקיפה שלה?',\n",
    "]\n",
    "\n",
    "literature02 = [\n",
    "    'پایتون به صورت پویا تایپ شده و زباله جمع شده است!',\n",
    "    'این پشتیبانی از پارادایم های برنامه نویسی متعدد, از جمله ساختار (به خصوص رویه), برنامه نویسی شی گرا و کاربردی.',\n",
    "    'این است که اغلب به عنوان یک \"باتری شامل\" زبان با توجه به کتابخانه استاندارد جامع خود توصیف?',\n",
    "]\n",
    "\n",
    "literature03 = [\n",
    "    'uqydfqixa;sd jsdviwwbdhu qwertyuiop',\n",
    "    'asdfgh DDFGHJ ghjl',\n",
    "    'zxc cvb vbn cvb bn n,',\n",
    "    'n,.n l;l QWESs WERTYU123'\n",
    "]"
   ]
  },
  {
   "cell_type": "code",
   "execution_count": 11,
   "metadata": {
    "id": "TgDB2q_HLIla"
   },
   "outputs": [
    {
     "name": "stdout",
     "output_type": "stream",
     "text": [
      "# !\"(),.?אבגדהוזחטיךכלםמןנסעףפצקרשת: 34\n",
      "# !\"(),.?ابتجخدرزسشصعغفلمنهوپکگی: 31\n",
      "# ,.123;DEFGHJQRSTUWYabcdefghijlnopqrstuvwxyz: 44\n"
     ]
    }
   ],
   "source": [
    "#Первый текст\n",
    "combined_text = ''.join(literature01)\n",
    "unique_characters = set(combined_text)\n",
    "sorted_characters = sorted(unique_characters)\n",
    "alphabet_size = len(sorted_characters)\n",
    "result = f\"#{''.join(sorted_characters)}: {alphabet_size}\"\n",
    "print(result)\n",
    "\n",
    "#Второй текст\n",
    "combined_text = ''.join(literature02)\n",
    "unique_characters = set(combined_text)\n",
    "sorted_characters = sorted(unique_characters)\n",
    "alphabet_size = len(sorted_characters)\n",
    "result = f\"#{''.join(sorted_characters)}: {alphabet_size}\"\n",
    "print(result)\n",
    "\n",
    "#Третий текст\n",
    "combined_text = ''.join(literature03)\n",
    "unique_characters = set(combined_text)\n",
    "sorted_characters = sorted(unique_characters)\n",
    "alphabet_size = len(sorted_characters)\n",
    "result = f\"#{''.join(sorted_characters)}: {alphabet_size}\"\n",
    "print(result)"
   ]
  },
  {
   "cell_type": "markdown",
   "metadata": {
    "id": "79-KQTeBLIlV"
   },
   "source": [
    "## Задача nucleotides (2)\n"
   ]
  },
  {
   "cell_type": "markdown",
   "metadata": {
    "id": "pixVnOqNeB7T"
   },
   "source": [
    "Напечатайте все подпоследовательности данной последовательности `nucleotides`, заданной в виде списка.\n",
    "\n",
    "**Указания:**\n",
    "\n",
    "- считайте, что все элементы входящей последовательности уникальны\n",
    "- пустая последовательность является подпоследовательностью любой другой последовательности\n",
    "- рекомендуется сначала понять финальный вид ответа и количество подпоследовательностей\n",
    "- пример: `[a, c, e]` является подпоследовательностью для `[a, b, c, d, e]`\n",
    "- еще можно посмотреть [на википедии](https://en.wikipedia.org/wiki/Subsequence): в математике подпоследовательность заданной последовательности - это последовательность, которая может быть получена из данной последовательности путем удаления некоторых элементов или отсутствия таковых без изменения порядка остальных элементов. Пример оттуда же, но без условия на уникальность элементов: The list of all subsequences for the word \"apple\" would be: \"a\", \"ap\", \"al\", \"ae\", \"app\", \"apl\", \"ape\", \"ale\", \"appl\", \"appe\", \"aple\", \"apple\", \"p\", \"pp\", \"pl\", \"pe\", \"ppl\", \"ppe\", \"ple\", \"pple\", \"l\", \"le\", \"e\", \"\" (empty string).\n",
    "\n",
    "**Подсказка:** задача 1\n",
    "\n",
    "**Пример ввода:** (значение списка `nucleotides`)\n",
    "```python\n",
    "[0, 1]\n",
    "```\n",
    "\n",
    "**Пример вывода:** (то, что должен вывести ваш код)\n",
    "```python\n",
    "[]\n",
    "[0]\n",
    "[1]\n",
    "[0, 1]\n",
    "```"
   ]
  },
  {
   "cell_type": "code",
   "execution_count": 12,
   "metadata": {
    "id": "ucN2IaC0LIlV"
   },
   "outputs": [],
   "source": [
    "nucleotides = ['A', 'T', 'G', 'C']"
   ]
  },
  {
   "cell_type": "code",
   "execution_count": 13,
   "metadata": {
    "id": "fap86Et1ecei"
   },
   "outputs": [
    {
     "name": "stdout",
     "output_type": "stream",
     "text": [
      "[]\n",
      "['A']\n",
      "['T']\n",
      "['G']\n",
      "['C']\n",
      "['A', 'T']\n",
      "['A', 'G']\n",
      "['A', 'C']\n",
      "['T', 'G']\n",
      "['T', 'C']\n",
      "['G', 'C']\n",
      "['A', 'T', 'G']\n",
      "['A', 'T', 'C']\n",
      "['A', 'G', 'C']\n",
      "['T', 'G', 'C']\n",
      "['A', 'T', 'G', 'C']\n"
     ]
    }
   ],
   "source": [
    "import itertools\n",
    "\n",
    "nucleotides = ['A', 'T', 'G', 'C']\n",
    "\n",
    "subsequences = []\n",
    "for i in range(len(nucleotides) + 1):\n",
    "    for subseq in itertools.combinations(nucleotides, i):\n",
    "        subsequences.append(list(subseq))\n",
    "\n",
    "for subsequence in subsequences:\n",
    "    print(subsequence)"
   ]
  },
  {
   "cell_type": "code",
   "execution_count": null,
   "metadata": {
    "id": "4Idmfd_lLIlV"
   },
   "outputs": [],
   "source": [
    "# можно исхитриться в одну строку, даже не очень длинную :) и без itertools"
   ]
  },
  {
   "cell_type": "markdown",
   "metadata": {
    "id": "4FTZxx_idQ1l"
   },
   "source": [
    "## Задача Остапа (3)"
   ]
  },
  {
   "cell_type": "markdown",
   "metadata": {
    "id": "eGEKbe-odQ1l"
   },
   "source": [
    "Ваш друг Остап основал геймдев компанию *Unusual Games*, которая недавно зарелизила бета-версии двух игр под названиями `gocs2` и `tado2`. Чтобы лучше настроить рекомендации для продажи цифровых предметов, он хочет понять, сколько людей играет в обе игры, предполагая, что человек использует одинаковый ник в обеих играх. Для этого он позвал вас.\n",
    "\n",
    "Остап предоставил вам два списка геймеров в соответствующих играх (так как это бета-версии, то разработчики еще не успели сделать базу данных и хранят информацию об игроках в виде списков).\n",
    "\n",
    "Каждый игрок представлен списком, в котором по порядку перечислены:\n",
    "\n",
    "- никнейм (строка),\n",
    "- возраст (целое число),\n",
    "- рейтинг (дробное число),\n",
    "- настоящее имя (строка).\n",
    "\n",
    "При этом информация о рейтинге и имени может быть пропущена, так как игрок только начал играть и не получил рейтинг или не указал имя при регистрации (поле возраст разработчики догадались сразу сделать обязательным)\n",
    "\n",
    "В первую очередь для работы с данными вы решили привести их к более удобному виду. Остапу и его команде эта идея понравилась, и они попросили вас представить каждого игрока в виде именованного кортежа с полями: `nickname`, `age`, `rating`, `real_name`.\n",
    "\n",
    "Причем через неделю в обеих играх планируется обновление, в котором новым игрокам будет присваиваться стартовый рейтинг: в `gocs2` - 0.5, а в `tado2` - 4.2. Остап также добавил, что если игроки не укажут при регистрации настоящее имя, то в `gocs2` автоматически выставится `newbee`, а в `tado2` - `player`. Поэтому он попросил вас сразу учесть все это при создании кортежей.\n",
    "\n",
    "В ячейках ниже:\n",
    "\n",
    "1. создайте соответствующие именованные кортежи с именами `GOCS2Player` и `taDo2Player`\n",
    "2. трансформируйте данные об игроках и сложите в новые списки с именами `new_tado2` и `new_gocs2`\n",
    "3. сделайте задачу, ради которой вас изначально звал Остап, используя новые списки; в качестве ответа выведите целое число\n",
    "\n",
    "**Подсказки:**\n",
    "\n",
    "- документация `namedtuple`, параметр `default`\n",
    "- вам указаны типы данных"
   ]
  },
  {
   "cell_type": "code",
   "execution_count": 14,
   "metadata": {
    "id": "ELJIgzJ7dQ1l"
   },
   "outputs": [],
   "source": [
    "# списки геймеров\n",
    "gocs2 = [\n",
    "    ['A', 18, 1.0, 'Alex'],\n",
    "    ['B', 18, 0.8, 'May be Alex'],\n",
    "    ['D', 18, 0.4, 'John'],\n",
    "    ['E', 18, 1.0, 'Defenitely not Alex'],\n",
    "]\n",
    "\n",
    "tado2 = [\n",
    "    ['B', 18, 0.0, 'Not Alex'],\n",
    "    ['C', 18, 0.5, 'Also Alex'],\n",
    "    ['D', 28, 0.9, 'Who is Alex?'],\n",
    "    ['F', 18, 0.1, 'Alexey'],\n",
    "]"
   ]
  },
  {
   "cell_type": "code",
   "execution_count": 15,
   "metadata": {
    "id": "eINE3IFxdQ1m",
    "tags": []
   },
   "outputs": [],
   "source": [
    "from collections import namedtuple"
   ]
  },
  {
   "cell_type": "code",
   "execution_count": 22,
   "metadata": {
    "id": "nOqciGm-dQ1m",
    "tags": []
   },
   "outputs": [],
   "source": [
    "GOCS2Player = namedtuple('GOCS2Player', ['nickname', 'age', 'rating', 'real_name'], defaults=[None, None, 0.5, 'newbee'])\n",
    "taDo2Player = namedtuple('taDo2Player', ['nickname', 'age', 'rating', 'real_name'], defaults=[None, None, 4.2, 'player'])"
   ]
  },
  {
   "cell_type": "code",
   "execution_count": 23,
   "metadata": {
    "id": "Ngan7jgqdQ1m"
   },
   "outputs": [
    {
     "name": "stdout",
     "output_type": "stream",
     "text": [
      "GOCS2 Players:\n",
      "GOCS2Player(nickname='A', age=18, rating=1.0, real_name='Alex')\n",
      "GOCS2Player(nickname='B', age=18, rating=0.8, real_name='May be Alex')\n",
      "GOCS2Player(nickname='D', age=18, rating=0.4, real_name='John')\n",
      "GOCS2Player(nickname='E', age=18, rating=1.0, real_name='Defenitely not Alex')\n",
      "\n",
      "TADO2 Players:\n",
      "taDo2Player(nickname='B', age=18, rating=0.0, real_name='Not Alex')\n",
      "taDo2Player(nickname='C', age=18, rating=0.5, real_name='Also Alex')\n",
      "taDo2Player(nickname='D', age=28, rating=0.9, real_name='Who is Alex?')\n",
      "taDo2Player(nickname='F', age=18, rating=0.1, real_name='Alexey')\n"
     ]
    }
   ],
   "source": [
    "new_gocs2 = [GOCS2Player(*player) for player in gocs2]\n",
    "new_tado2 = [taDo2Player(*player) for player in tado2]\n",
    "#Проверка\n",
    "print(\"GOCS2 Players:\")\n",
    "for player in new_gocs2:\n",
    "    print(player)\n",
    "\n",
    "print(\"\\nTADO2 Players:\")\n",
    "for player in new_tado2:\n",
    "    print(player)"
   ]
  },
  {
   "cell_type": "code",
   "execution_count": 24,
   "metadata": {
    "id": "Rc1-rrjcdQ1m"
   },
   "outputs": [],
   "source": [
    "gocs2_nicknames = {player.nickname for player in new_gocs2}\n",
    "tado2_nicknames = {player.nickname for player in new_tado2}\n",
    "common_players = gocs2_nicknames & tado2_nicknames"
   ]
  },
  {
   "cell_type": "code",
   "execution_count": 26,
   "metadata": {
    "id": "8jJ3p9LndQ1m"
   },
   "outputs": [
    {
     "name": "stdout",
     "output_type": "stream",
     "text": [
      "2\n"
     ]
    }
   ],
   "source": [
    "print(len(common_players))"
   ]
  }
 ],
 "metadata": {
  "colab": {
   "provenance": []
  },
  "kernelspec": {
   "display_name": "Python 3 (ipykernel)",
   "language": "python",
   "name": "python3"
  },
  "language_info": {
   "codemirror_mode": {
    "name": "ipython",
    "version": 3
   },
   "file_extension": ".py",
   "mimetype": "text/x-python",
   "name": "python",
   "nbconvert_exporter": "python",
   "pygments_lexer": "ipython3",
   "version": "3.11.7"
  }
 },
 "nbformat": 4,
 "nbformat_minor": 4
}
