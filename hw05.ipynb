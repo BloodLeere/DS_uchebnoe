{
 "cells": [
  {
   "cell_type": "markdown",
   "id": "8c9b9fdb-47c0-4b25-8b4b-cd38f8c16548",
   "metadata": {},
   "source": [
    "# Домашнее задание 5"
   ]
  },
  {
   "cell_type": "markdown",
   "id": "8490dbf2-8220-47f4-bc2d-ce230fa3f0a7",
   "metadata": {},
   "source": [
    "## Информация перед выполнением"
   ]
  },
  {
   "cell_type": "markdown",
   "id": "5bafafaa-888f-495c-b5d8-f284c81b3e34",
   "metadata": {},
   "source": [
    "**Указания:**\n",
    "\n",
    "1. Отвечать на вопросы в чате надо описанием идеи или ссылкой на источники - не лишайте других радости от **самостоятельно** найденного решения!\n",
    "2. Перед отправкой на проверку перезапустите ядро и запустите подряд все ячейки. Это можно сделать руками, а можно через Kernel --> Restart Kernel and Run All Cells, но второй вариант сработает только если ячейки запускаются без ошибок). Если есть ошибки, которые вы хотите показать проверяющему, то продолжите выполнять ячейки руками.\n",
    "3. Если какую-то задачу сделать не получилось, то в виде **комментария к ячейке** с кодом этой задачи опишите ход ваших мыслей или вопрос. **Комментарий к ячейке** вы можете оставить **только** в колабе: ПКМ по ячейке --> \"оставить комментарий\". Так проверяющий сможет вам помочь.\n",
    "4. Нерешенные задачи без вашего **комментария к ячейке** считаются нетронутыми, даже если в них есть код.\n",
    "5. Максимум за задание 10.5 первичных баллов\n",
    "6. Итоговая оценка ставится по формуле: `сумма_баллов // 2`"
   ]
  },
  {
   "cell_type": "markdown",
   "id": "a5e4fe6c-b3dc-4037-bb60-9f4ddd629bec",
   "metadata": {},
   "source": [
    "**Примечания и советы:**\n",
    "\n",
    "- Называйте переменные осмысленно\n",
    "- Сначала решите все задачи, которые сразу понимаете как решать\n",
    "- Если застряли на какой-то задаче, то попробуйте переключиться на другую\n",
    "- Стиль оформления кода должен соответствовать PEP8; строго это не отслеживается, но в случае злоупотреблений вас попросят переписать\n",
    "- Проверяйте работоспособность вашего кода на ячейках с тестами\n",
    "- Тесты не являются гарантией, что все хорошо\n",
    "- В тестах можно подсмотреть, как функция будет использоваться\n",
    "- Не запрещено создавать дополнительные функции в той же ячейке с кодом, если это вам поможет, например, логически структурировать код\n",
    "- Проверьте, что все ячейки выполняются без ошибок\n",
    "- В отправляемом на проверку ноутбуке не должно быть черновых ячеек - за них будут сниматься баллы\n",
    "- Проверяющий запускает код только при необходимости для проверки на собственных тестах"
   ]
  },
  {
   "cell_type": "markdown",
   "id": "d2edfdf8-f971-449c-a32a-0873ef9a61c0",
   "metadata": {},
   "source": [
    "**Для статистики:**\n",
    "\n",
    "- Просьба указывать используемые источники (в виде текстовой ячейки после кода), если вы нашли решение/идею/подсказку/etc в интернете/чате/etc.\n",
    "- Если таких источников несколько - просьба указать хотя бы 2-3 основных.\n",
    "- Если вы взяли чужое решение задачи, об этом также нужно указать."
   ]
  },
  {
   "cell_type": "markdown",
   "id": "c9b6b7e9-b7ed-4758-86a2-f18c5b88b2bf",
   "metadata": {},
   "source": [
    "Если вы прочитали все пункты, поменяйте значение переменной `i_have_read_all_the_information` в коде ниже на `True` и запустите ячейку."
   ]
  },
  {
   "cell_type": "code",
   "execution_count": 6,
   "id": "895bbfed-7460-4052-af0e-1682515f67ab",
   "metadata": {},
   "outputs": [],
   "source": [
    "i_have_read_all_the_information = False\n",
    "i_have_read_all_the_information = True\n",
    "\n",
    "assert i_have_read_all_the_information"
   ]
  },
  {
   "cell_type": "markdown",
   "id": "9c1e4191-4a09-45af-bd86-76f5a631599c",
   "metadata": {},
   "source": [
    "# Часть 0. Простые функции Python. (1.5 балла)"
   ]
  },
  {
   "cell_type": "markdown",
   "id": "5d9d9eb9-6746-4c00-b5db-b8167bd1395e",
   "metadata": {},
   "source": [
    "Представьте тестирование, в котором экзаменуемому дают несколько последовательных вопросов, и на каждый из них он проставляет ответ `1` или `0`."
   ]
  },
  {
   "cell_type": "markdown",
   "id": "4b68ae37-5ed9-4d3a-821b-e2a93ca11eb1",
   "metadata": {},
   "source": [
    "- параметры `ans` и `gt` - строго позиционные\n",
    "- параметр `ndigits` - необязательный, строго именованный. Если он задан, то значение, возвращаемое функцией, округляется до `ndigits` знаков после запятой.\n",
    "\n",
    "**Примечание:** \n",
    "\n",
    "- ans - сокращение от answer - проставленные ответы, список из 0 и 1\n",
    "- gt - сокращение от ground truth - правильные ответы, список из 0 и 1\n",
    "- каждая задача этой части по 0.3 балла"
   ]
  },
  {
   "cell_type": "markdown",
   "id": "212e35e8-b251-4991-ad86-0a2c24302ccc",
   "metadata": {},
   "source": [
    "## Задача 1"
   ]
  },
  {
   "cell_type": "markdown",
   "id": "2793ca96-3f38-419f-ada1-6433c5054a13",
   "metadata": {},
   "source": [
    "Напишите функцию `accuracy(ans, gt, ndigits)`, считающую долю правильных ответов. "
   ]
  },
  {
   "cell_type": "code",
   "execution_count": 35,
   "id": "fc09d3ac-1384-4bbc-972c-82f6d7136855",
   "metadata": {},
   "outputs": [],
   "source": [
    "def accuracy(ans, gt, ndigits = None):\n",
    "    correct = sum(a == g for a, g in zip(ans, gt))\n",
    "    quest_total = len(gt)\n",
    "    acc = correct / quest_total\n",
    "    if ndigits is not None:\n",
    "        return round(acc, ndigits)\n",
    "    return acc"
   ]
  },
  {
   "cell_type": "markdown",
   "id": "e05e8c42-f3e4-4d90-81c9-a8fc0434ada7",
   "metadata": {},
   "source": [
    "## Задача 2"
   ]
  },
  {
   "cell_type": "markdown",
   "id": "421900df-3a5e-4e55-a9c8-4f391206a7f3",
   "metadata": {},
   "source": [
    "Напишите функцию `true_positive(ans, gt, ndigits)`, считающую долю правильно отмеченных единиц."
   ]
  },
  {
   "cell_type": "code",
   "execution_count": 8,
   "id": "a520b679-0501-4667-ac58-1a9af904eff4",
   "metadata": {
    "tags": []
   },
   "outputs": [],
   "source": [
    "def true_positive(ans, gt, ndigits = None):\n",
    "    correct_ones = sum(a == 1 and g == 1 for a, g in zip(ans, gt)) #правильных 1\n",
    "    all_ones = sum(g == 1 for g in gt) #всего 1\n",
    "    if all_ones == 0:\n",
    "        return 0.0\n",
    "    itog = correct_ones / all_ones #доля правильных от всех 1\n",
    "    if ndigits is not None:\n",
    "        return round(itog, ndigits)\n",
    "    return itog"
   ]
  },
  {
   "cell_type": "markdown",
   "id": "2153ccec-a478-45d9-9190-8b3314e2b0d5",
   "metadata": {},
   "source": [
    "## Задача 3"
   ]
  },
  {
   "cell_type": "markdown",
   "id": "e9672df2-e4d6-42df-bec9-84b0c58a9966",
   "metadata": {},
   "source": [
    "Напишите функцию `false_positive(ans, gt, ndigits)`, считающую долю неправильно отмеченных единиц."
   ]
  },
  {
   "cell_type": "code",
   "execution_count": 39,
   "id": "cd7be2e7-3ec1-48f0-b8f7-ff2ff37fe732",
   "metadata": {
    "tags": []
   },
   "outputs": [],
   "source": [
    "def false_positive(ans, gt, ndigits = None):\n",
    "    false_ones = sum(a == 1 and g == 0 for a, g in zip(ans, gt))\n",
    "    all_zeros = sum(g == 0 for g in gt)\n",
    "    if all_zeros == 0:\n",
    "        return 0.0\n",
    "    itog = false_ones / all_zeros #неправильные 1\n",
    "    if ndigits is not None:\n",
    "        return round(itog, ndigits)\n",
    "    return itog"
   ]
  },
  {
   "cell_type": "markdown",
   "id": "4bff332e-457d-4965-aac8-4b820a0e95c7",
   "metadata": {},
   "source": [
    "## Задача 4"
   ]
  },
  {
   "cell_type": "markdown",
   "id": "1402fda6-5db4-4be4-8ce3-9ef9b1aa6a6e",
   "metadata": {},
   "source": [
    "Напишите функцию `true_negative(ans, gt, ndigits)`, считающую долю правильно отмеченных нулей."
   ]
  },
  {
   "cell_type": "code",
   "execution_count": 42,
   "id": "12dd5cf7-9eae-4164-920b-221e2195ad31",
   "metadata": {
    "tags": []
   },
   "outputs": [],
   "source": [
    "def true_negative(ans, gt, ndigits = None):\n",
    "    true_zeros = sum(a == 0 and g == 0 for a, g in zip(ans, gt))\n",
    "    all_zeros = sum(g == 0 for g in gt)\n",
    "    if all_zeros == 0:\n",
    "        return 0.0\n",
    "    itog = true_zeros / all_zeros\n",
    "    if ndigits is not None:\n",
    "        return round(itog, ndigits)\n",
    "    return itog"
   ]
  },
  {
   "cell_type": "markdown",
   "id": "68ddb114-f2b0-4f47-8570-52c40b8fa156",
   "metadata": {},
   "source": [
    "## Задача 5"
   ]
  },
  {
   "cell_type": "markdown",
   "id": "f1e3bfea-2a14-4bbc-8c2e-9fa94b7ade96",
   "metadata": {},
   "source": [
    "Напишите функцию `false_negative(ans, gt, ndigits)`, считающую долю неправильно отмеченных нулей."
   ]
  },
  {
   "cell_type": "code",
   "execution_count": 44,
   "id": "436e42b6-4dc8-41e5-a17c-5ff3544621fb",
   "metadata": {
    "tags": []
   },
   "outputs": [],
   "source": [
    "def false_negative(ans, gt, ndigits = None):\n",
    "    false_zeros = sum(a == 0 and g == 1 for a, g in zip(ans, gt))\n",
    "    all_zeros = sum(g == 1 for g in gt)\n",
    "    if all_zeros == 0:\n",
    "        return 0,0\n",
    "    itog = false_zeros / all_zeros\n",
    "    if ndigits is not None:\n",
    "        return round(itog, ndigits)\n",
    "    return itog"
   ]
  },
  {
   "cell_type": "markdown",
   "id": "df0e67bb-5ca6-48fc-9b08-71c6dd458b28",
   "metadata": {},
   "source": [
    "# Часть 1. Декораторы. (4 балла)"
   ]
  },
  {
   "cell_type": "markdown",
   "id": "0519311a-29c0-4001-bea2-6265ec3af50d",
   "metadata": {
    "tags": []
   },
   "source": [
    "## Задача 6"
   ]
  },
  {
   "cell_type": "markdown",
   "id": "4cdc6a20-25c4-47df-aeda-7b6d641c8da5",
   "metadata": {},
   "source": [
    "Напишите декоратор `timing`, который будет считать время выполнения последнего вызова функции в секундах и сохранять его в атрибуте `last_time`. Для работы со временем используйте встроенный модуль."
   ]
  },
  {
   "cell_type": "code",
   "execution_count": 12,
   "id": "28edabdc-d235-4e9e-8728-1ddcdacaf843",
   "metadata": {},
   "outputs": [],
   "source": [
    "import time\n",
    "\n",
    "def timing(func):\n",
    "    def wrapper(*args, **kwargs):\n",
    "        start = time.perf_counter()\n",
    "        result = func(*args, **kwargs)\n",
    "        end = time.perf_counter()\n",
    "        wrapper.last_time = end - start\n",
    "        return result\n",
    "    return wrapper"
   ]
  },
  {
   "cell_type": "markdown",
   "id": "234bedd9-2b97-4a4d-954f-dc52ae1e5270",
   "metadata": {},
   "source": [
    "## Задача 7"
   ]
  },
  {
   "cell_type": "markdown",
   "id": "a7044815-5a35-41d4-88a9-aa8a0d5f2edc",
   "metadata": {},
   "source": [
    "Напишите декоратор `calls_counter`, который будет считать число рекурсивных вызовов функции во время ее последнего вызова и сохранять в атрибуте `calls`."
   ]
  },
  {
   "cell_type": "code",
   "execution_count": 80,
   "id": "cc187c28-af7c-49e5-9d88-2c034d66908c",
   "metadata": {
    "tags": []
   },
   "outputs": [],
   "source": [
    "import functools\n",
    "\n",
    "def calls_counter(func):\n",
    "    @functools.wraps(func)\n",
    "    def wrapper(*args, **kwargs):\n",
    "        wrapper.calls += 1\n",
    "        if wrapper.calls > wrapper.max_calls:\n",
    "            wrapper.max_calls = wrapper.calls\n",
    "        result = func(*args, **kwargs)\n",
    "        wrapper.calls -= 1\n",
    "        return result\n",
    "    \n",
    "    wrapper.calls = 0\n",
    "    wrapper.max_calls = 0\n",
    "    return wrapper"
   ]
  },
  {
   "cell_type": "markdown",
   "id": "78db9a32-895f-4ee5-84d6-dbab58024b16",
   "metadata": {},
   "source": [
    "## Задача 8"
   ]
  },
  {
   "cell_type": "markdown",
   "id": "01a6306d-df88-4bd9-9ece-8b38fb1c32d5",
   "metadata": {},
   "source": [
    "Придумайте функцию, подходящую для тестирования предыдущих декораторов и протестируйте их."
   ]
  },
  {
   "cell_type": "code",
   "execution_count": 81,
   "id": "1a9106ae-3302-46ce-8a10-361f43dd081a",
   "metadata": {},
   "outputs": [
    {
     "name": "stdout",
     "output_type": "stream",
     "text": [
      "hello world\n",
      "4.910002462565899e-05\n"
     ]
    }
   ],
   "source": [
    "@timing\n",
    "def function():\n",
    "    print('hello world')\n",
    "\n",
    "function()\n",
    "print(function.last_time)"
   ]
  },
  {
   "cell_type": "code",
   "execution_count": 90,
   "id": "8bdb67d7-4091-494b-ae9a-459f24ceeb74",
   "metadata": {},
   "outputs": [
    {
     "name": "stdout",
     "output_type": "stream",
     "text": [
      "Fibo: 5\n",
      "Rec vizovi: 5\n"
     ]
    }
   ],
   "source": [
    "@calls_counter\n",
    "def fibo(n):\n",
    "    if n <= 1:\n",
    "        return n\n",
    "    else:\n",
    "        return fibo(n - 1) + fibo(n - 2)\n",
    "\n",
    "result = fibo(5)\n",
    "print(f'Fibo: {result}')\n",
    "print(f'Rec vizovi: {fibo.max_calls}')"
   ]
  },
  {
   "cell_type": "markdown",
   "id": "96dda6d2-0b88-4b1a-a1ea-906ecba62628",
   "metadata": {},
   "source": [
    "## Задача 9"
   ]
  },
  {
   "cell_type": "markdown",
   "id": "6ce8d111-bf96-4f2d-8fe7-7298bc018615",
   "metadata": {},
   "source": [
    "Декорировать можно не только функции, но и классы. Напишите декоратор `single`, который будет превращать класс в синглтон: класс, обладающий только одним экземпляром.\n",
    "\n",
    "Подсказка: `__new__`"
   ]
  },
  {
   "cell_type": "code",
   "execution_count": 86,
   "id": "9883bd11-d6fb-465a-89d4-0e2f281a1262",
   "metadata": {
    "tags": []
   },
   "outputs": [],
   "source": [
    "def single(cls):\n",
    "    instances = {}\n",
    "\n",
    "    def get_instance(*args, **kwargs):\n",
    "        if cls not in instances:\n",
    "            instances[cls] = cls(*args, **kwargs)\n",
    "        return instances[cls]\n",
    "    return get_instance"
   ]
  },
  {
   "cell_type": "code",
   "execution_count": 89,
   "id": "dc802cc6-32f5-438e-aeeb-6c8f441f3c3b",
   "metadata": {},
   "outputs": [],
   "source": [
    "# tests\n",
    "\n",
    "@single\n",
    "class Test:\n",
    "    def __init__(self):\n",
    "        self.value = 86\n",
    "\n",
    "a = Test()\n",
    "b = Test()\n",
    "assert a is b"
   ]
  },
  {
   "cell_type": "markdown",
   "id": "cc3508b2-39b8-438e-aaed-cb58ebc0d6bb",
   "metadata": {},
   "source": [
    "# Часть 2. NumPy. (2 балла)"
   ]
  },
  {
   "cell_type": "markdown",
   "id": "ac48bc20-d410-4ad2-8e76-a7d6de707a38",
   "metadata": {},
   "source": [
    "**Примечание:** \n",
    "\n",
    "- использовать функции и методы `np`\n",
    "- циклы использовать нельзя\n",
    "- в большинстве задача требуется просто правильно вызвать 1-2 метода\n",
    "- все задачи с 10 по 26 стоят 0.1 балла, а 27 стоит 0.3 балла"
   ]
  },
  {
   "cell_type": "code",
   "execution_count": 16,
   "id": "6d9ee7a1-474c-403b-a121-76030058a972",
   "metadata": {
    "tags": []
   },
   "outputs": [],
   "source": [
    "import numpy as np"
   ]
  },
  {
   "cell_type": "markdown",
   "id": "600c289f-efc1-43ac-93ad-30ea36d17a7a",
   "metadata": {
    "id": "0cpznsR-5wpj"
   },
   "source": [
    "## Работа с одномерными массивами"
   ]
  },
  {
   "cell_type": "markdown",
   "id": "f3117122-e793-4654-ad57-b986adf6fc31",
   "metadata": {
    "id": "4pW30ELYXy3Z"
   },
   "source": [
    "### Задача 10"
   ]
  },
  {
   "cell_type": "markdown",
   "id": "d4121c76-bdd3-482a-9fc5-2dc460c7991e",
   "metadata": {
    "id": "k-_qotBq3vKs"
   },
   "source": [
    "Создайте функцию `create_array(n, m)`, которая может принимать на вход как один список чисел, так и сразу два целых числа `n` и `m`. В первом случае массив numpy создается из списка, а во втором - от `n` до `m` включительно с шагом 1."
   ]
  },
  {
   "cell_type": "code",
   "execution_count": 12,
   "id": "3a8f4214-8e4a-4a97-bb41-2a7ed904d533",
   "metadata": {},
   "outputs": [
    {
     "data": {
      "text/plain": [
       "array([ 1,  2,  3,  4,  5,  6,  7,  8,  9, 10, 11, 12, 13, 14, 15, 16, 17,\n",
       "       18, 19, 20, 21, 22, 23, 24, 25])"
      ]
     },
     "execution_count": 12,
     "metadata": {},
     "output_type": "execute_result"
    }
   ],
   "source": [
    "def create_array(n, m = None, step = 1):\n",
    "    if type(n) is list:\n",
    "        l = np.array(n)\n",
    "        return l\n",
    "    else:\n",
    "        k = np.arange(n, m + 1, 1)\n",
    "        return k\n",
    "\n",
    "\n",
    "create_array(1, 25)"
   ]
  },
  {
   "cell_type": "markdown",
   "id": "d2bdbeda-0910-4a6d-9b40-e9e0a89a3bcc",
   "metadata": {
    "id": "ns8SlkFyXy3a"
   },
   "source": [
    "### Задача 11"
   ]
  },
  {
   "cell_type": "markdown",
   "id": "38f47799-e214-428a-9f09-1852c297eef6",
   "metadata": {
    "id": "O_ktDJgS4G7J"
   },
   "source": [
    "Создайте массив numpy размером $a×b$ со всеми значениями, равными `True`. Cчитайте, что a и b вам уже заданы.\n",
    "\n",
    "Подсказка: создайте массив из единиц и воспользуйтесь приведением типа."
   ]
  },
  {
   "cell_type": "code",
   "execution_count": 15,
   "id": "d837fa0c-f511-44a4-b766-fd201b709ea7",
   "metadata": {},
   "outputs": [],
   "source": [
    "a = 3\n",
    "b = 4"
   ]
  },
  {
   "cell_type": "code",
   "execution_count": 26,
   "id": "17be776d-0a2f-4b65-a838-b3ba46597adb",
   "metadata": {},
   "outputs": [
    {
     "data": {
      "text/plain": [
       "array([[ True,  True,  True,  True],\n",
       "       [ True,  True,  True,  True],\n",
       "       [ True,  True,  True,  True]])"
      ]
     },
     "execution_count": 26,
     "metadata": {},
     "output_type": "execute_result"
    }
   ],
   "source": [
    "def create_lololol(a, b):\n",
    "    k = np.ones((a, b), dtype=bool)\n",
    "    return k\n",
    "\n",
    "create_lololol(a, b)"
   ]
  },
  {
   "cell_type": "markdown",
   "id": "d8b0313f-52f6-437e-b229-58272bb3949c",
   "metadata": {
    "id": "1d4vFBzRXy3b"
   },
   "source": [
    "### Задача 12"
   ]
  },
  {
   "cell_type": "markdown",
   "id": "83af211e-c24c-4754-8103-b99c1459a67c",
   "metadata": {
    "id": "RIiuxzem4PRy"
   },
   "source": [
    "Вам дан массив под названием `test_array`. Выведите положительные элементы этого массива."
   ]
  },
  {
   "cell_type": "code",
   "execution_count": 32,
   "id": "139e8f27-c9b9-4ad2-8994-5df2e6578694",
   "metadata": {
    "id": "VH61lY4jXy3b"
   },
   "outputs": [
    {
     "data": {
      "text/plain": [
       "array([5, 7, 6, 8])"
      ]
     },
     "execution_count": 32,
     "metadata": {},
     "output_type": "execute_result"
    }
   ],
   "source": [
    "test_array = np.array([ 0, -1,  5, -3,  7, -1,  6, -1,  8, -1])\n",
    "positive = test_array[test_array > 0]\n",
    "\n",
    "positive"
   ]
  },
  {
   "cell_type": "markdown",
   "id": "bedfed40-f324-463a-aef7-81546ae1684f",
   "metadata": {
    "id": "_sKqU7Kk3sXa"
   },
   "source": [
    "`array([5, 7, 6, 8])`"
   ]
  },
  {
   "cell_type": "markdown",
   "id": "67a59906-f0a0-4d6e-97c3-418b571b43c3",
   "metadata": {
    "id": "6mX1p74CXy3c"
   },
   "source": [
    "### Задача 13"
   ]
  },
  {
   "cell_type": "markdown",
   "id": "96d40035-5192-4775-ab54-0cd94fdc9052",
   "metadata": {
    "id": "1Vpnei8U4V_A"
   },
   "source": [
    "Замените отрицательные элементы из массива `test_array` на `0`.\n",
    "\n",
    "*Подсказка:* вам может пригодится функция `np.where`."
   ]
  },
  {
   "cell_type": "code",
   "execution_count": 39,
   "id": "3c922694-4b9e-4844-b59c-2297e5cfb49a",
   "metadata": {
    "id": "awP9wvhOXy3c"
   },
   "outputs": [
    {
     "data": {
      "text/plain": [
       "array([0, 0, 5, 0, 7, 0, 6, 0, 8, 0])"
      ]
     },
     "execution_count": 39,
     "metadata": {},
     "output_type": "execute_result"
    }
   ],
   "source": [
    "np.where(test_array < 0, 0, test_array)"
   ]
  },
  {
   "cell_type": "markdown",
   "id": "802b911c-0132-40c4-b56c-a1bae6bf1188",
   "metadata": {
    "id": "8O4wwV334tM3"
   },
   "source": [
    "`array([0, 0, 5, 0, 7, 0, 6, 0, 8, 0])`"
   ]
  },
  {
   "cell_type": "markdown",
   "id": "2fd713d1-4a0b-408d-a420-24b26ecc7c5b",
   "metadata": {
    "id": "MIqnug_bXy3c"
   },
   "source": [
    "### Задача 14"
   ]
  },
  {
   "cell_type": "markdown",
   "id": "aa40e22e-6441-4d56-965f-532ef5914245",
   "metadata": {
    "id": "i8ykO8C642bi"
   },
   "source": [
    "Вам дан массив из 10 чисел. Найдите позицию максимального элемента в заданном массиве."
   ]
  },
  {
   "cell_type": "code",
   "execution_count": 40,
   "id": "4a880be3-58af-45c6-af2e-6b2aa7c4adbc",
   "metadata": {
    "id": "sjQWGZ5tXy3d"
   },
   "outputs": [],
   "source": [
    "array = np.array([6, 8, 4, 2, 11, -3, 7, 22, -20, -30])"
   ]
  },
  {
   "cell_type": "code",
   "execution_count": 41,
   "id": "288fcdbe-5da5-493b-8049-1df9b4c47015",
   "metadata": {
    "id": "xD8erENBXy3d"
   },
   "outputs": [
    {
     "data": {
      "text/plain": [
       "7"
      ]
     },
     "execution_count": 41,
     "metadata": {},
     "output_type": "execute_result"
    }
   ],
   "source": [
    "array.argmax()"
   ]
  },
  {
   "cell_type": "markdown",
   "id": "42bf09ac-d6f1-4e96-93e2-d3fd68c96122",
   "metadata": {
    "id": "6pKF_L1R47Gt"
   },
   "source": [
    "`7`"
   ]
  },
  {
   "cell_type": "markdown",
   "id": "e7ef9320-4ae0-4470-b08d-bceb79904240",
   "metadata": {
    "id": "spWminyiXy3d"
   },
   "source": [
    "### Задача 15"
   ]
  },
  {
   "cell_type": "markdown",
   "id": "db60062e-cddd-45ae-be35-0a6fb02a167a",
   "metadata": {
    "id": "6Nb0fiNA5KEH"
   },
   "source": [
    "Вам дан словарь, в котором подсчитаны частоты женских имен в выборке из 26 новорожденных девочек."
   ]
  },
  {
   "cell_type": "code",
   "execution_count": 42,
   "id": "88bf1a97-6e48-4f6e-8a48-ea1914858609",
   "metadata": {
    "colab": {
     "base_uri": "https://localhost:8080/"
    },
    "executionInfo": {
     "elapsed": 342,
     "status": "ok",
     "timestamp": 1665647263459,
     "user": {
      "displayName": "Кирилл Архаров",
      "userId": "16244736257163698527"
     },
     "user_tz": -180
    },
    "id": "x1FcthKzXy3e",
    "outputId": "925bf048-1366-4d28-8a1c-b0af19477ab4"
   },
   "outputs": [
    {
     "data": {
      "text/plain": [
       "{'Катя': 8, 'Maша': 5, 'Вероника': 2, 'Ярослава': 1, 'Александра': 10}"
      ]
     },
     "execution_count": 42,
     "metadata": {},
     "output_type": "execute_result"
    }
   ],
   "source": [
    "names = dict()\n",
    "names['Катя'] = 8\n",
    "names[\"Maша\"] = 5\n",
    "names[\"Вероника\"] = 2\n",
    "names[\"Ярослава\"] = 1\n",
    "names[\"Александра\"] = 10\n",
    "\n",
    "names"
   ]
  },
  {
   "cell_type": "markdown",
   "id": "fdad376a-b4c9-4dfd-864e-868497f4b2fd",
   "metadata": {
    "id": "CXetA03XXy3e"
   },
   "source": [
    "Посчитайте процентные доли имен с помощью нормирования вектора значений.\n",
    "\n",
    "*Подсказка:* просто возьмите этот вектор значений и поделите его на сумму элементов в нем"
   ]
  },
  {
   "cell_type": "code",
   "execution_count": 44,
   "id": "d941923e-5263-461c-8af2-071827ca0c23",
   "metadata": {
    "id": "V_jE6SeaXy3f"
   },
   "outputs": [
    {
     "data": {
      "text/plain": [
       "array([0.30769231, 0.19230769, 0.07692308, 0.03846154, 0.38461538])"
      ]
     },
     "execution_count": 44,
     "metadata": {},
     "output_type": "execute_result"
    }
   ],
   "source": [
    "values = np.array(list(names.values()))\n",
    "\n",
    "total_sum = np.sum(values)\n",
    "\n",
    "norma = values / total_sum\n",
    "\n",
    "norma"
   ]
  },
  {
   "cell_type": "markdown",
   "id": "5c0f01f9-8d9f-4618-acef-27922577b9be",
   "metadata": {
    "id": "NO8WLL1S5OS3"
   },
   "source": [
    "`array([0.30769231, 0.19230769, 0.07692308, 0.03846154, 0.38461538])`"
   ]
  },
  {
   "cell_type": "markdown",
   "id": "cf4b6e41-89cf-4bf0-bfaa-374d13f123b2",
   "metadata": {
    "id": "q9xFaYhrXy3f"
   },
   "source": [
    "**Примечание:** мы только что произвели операцию **нормирования вектора** (теперь его элементы суммируются в 1), а получившиеся элементы можно интерпретировать как **вероятности** (в примере выше это вероятности того, что случайно взятая новорожденная девочка будет иметь какое-то конкретное имя)"
   ]
  },
  {
   "cell_type": "markdown",
   "id": "e6d52113-4843-4bf7-863f-ee68988e197a",
   "metadata": {
    "id": "zk2fbpIkXy3h"
   },
   "source": [
    "## Работа с двумерными массивами"
   ]
  },
  {
   "cell_type": "markdown",
   "id": "f325a395-9594-4722-855a-c3712c64be9e",
   "metadata": {
    "id": "fN5ZnOMjXy3h"
   },
   "source": [
    "### Задача 16"
   ]
  },
  {
   "cell_type": "markdown",
   "id": "8fe515cd-bb8b-4754-81ab-ee70877f2ad4",
   "metadata": {
    "id": "S1evhWE651KV"
   },
   "source": [
    "Создайте одномерный массив из 12 элементов от 0 до 11 и сделайте из него матрицу размером 3х4 (`np.reshape`)"
   ]
  },
  {
   "cell_type": "code",
   "execution_count": 45,
   "id": "d0ebf064-6d68-4f40-a2a0-747bfbc9c718",
   "metadata": {
    "id": "naHaxgwwXy3h"
   },
   "outputs": [
    {
     "data": {
      "text/plain": [
       "array([[ 0,  1,  2,  3],\n",
       "       [ 4,  5,  6,  7],\n",
       "       [ 8,  9, 10, 11]])"
      ]
     },
     "execution_count": 45,
     "metadata": {},
     "output_type": "execute_result"
    }
   ],
   "source": [
    "array = np.arange(12)\n",
    "matrix = array.reshape(3, 4)\n",
    "matrix"
   ]
  },
  {
   "cell_type": "markdown",
   "id": "676ba0a9-dce6-4160-9ca6-0fc873ca934a",
   "metadata": {
    "id": "eHGQXwef556I"
   },
   "source": [
    "```\n",
    "array([[ 0,  1,  2,  3],\n",
    "       [ 4,  5,  6,  7],\n",
    "       [ 8,  9, 10, 11]])\n",
    "```"
   ]
  },
  {
   "cell_type": "markdown",
   "id": "0709932c-e1f2-4e46-ba4b-76cdd6a02ae4",
   "metadata": {
    "id": "PmVPHNT9Xy3h"
   },
   "source": [
    "### Задача 17"
   ]
  },
  {
   "cell_type": "markdown",
   "id": "6e06683b-24e4-474d-a463-c36f97582c50",
   "metadata": {
    "id": "QGaBYbOI5-WP"
   },
   "source": [
    "Соедините вертикально две созданные матрицы `a` и `b`."
   ]
  },
  {
   "cell_type": "code",
   "execution_count": 47,
   "id": "ba502e04-b2e8-444f-98d4-a2867c8d7b6e",
   "metadata": {
    "id": "s6cvlL7GXy3i"
   },
   "outputs": [],
   "source": [
    "a = np.arange(8).reshape(2, 4)\n",
    "b = np.ones(8).reshape(2, 4)"
   ]
  },
  {
   "cell_type": "code",
   "execution_count": 48,
   "id": "d361adba-8fcc-43e2-80b1-86a75428fd60",
   "metadata": {
    "id": "18E0Vz6UXy3i"
   },
   "outputs": [
    {
     "data": {
      "text/plain": [
       "array([[0., 1., 2., 3.],\n",
       "       [4., 5., 6., 7.],\n",
       "       [1., 1., 1., 1.],\n",
       "       [1., 1., 1., 1.]])"
      ]
     },
     "execution_count": 48,
     "metadata": {},
     "output_type": "execute_result"
    }
   ],
   "source": [
    "result = np.vstack((a, b))\n",
    "result"
   ]
  },
  {
   "cell_type": "markdown",
   "id": "8318ebca-4dcc-4717-8999-7f7b6b3fcd0f",
   "metadata": {
    "id": "O_sD3isa6BJ9"
   },
   "source": [
    "```\n",
    "array([[0., 1., 2., 3.],\n",
    "       [4., 5., 6., 7.],\n",
    "       [1., 1., 1., 1.],\n",
    "       [1., 1., 1., 1.]])\n",
    "```"
   ]
  },
  {
   "cell_type": "markdown",
   "id": "01430a20-b2b4-46f2-9bf0-9bced41b9bd2",
   "metadata": {
    "id": "Hp3QgzqsXy3i"
   },
   "source": [
    "### Задача 18"
   ]
  },
  {
   "cell_type": "markdown",
   "id": "ed51da97-3652-41ff-a426-18e9757f854e",
   "metadata": {
    "id": "kS6BMuCE6Ej8"
   },
   "source": [
    "Теперь соедините эти же две матрицы горизонтально."
   ]
  },
  {
   "cell_type": "code",
   "execution_count": 50,
   "id": "1bd1215e-dc1f-427e-ac03-056eb9ff41dd",
   "metadata": {
    "id": "AW1ysttaXy3j"
   },
   "outputs": [
    {
     "data": {
      "text/plain": [
       "array([[0., 1., 2., 3., 1., 1., 1., 1.],\n",
       "       [4., 5., 6., 7., 1., 1., 1., 1.]])"
      ]
     },
     "execution_count": 50,
     "metadata": {},
     "output_type": "execute_result"
    }
   ],
   "source": [
    "result_horiz = np.hstack((a, b))\n",
    "result_horiz"
   ]
  },
  {
   "cell_type": "markdown",
   "id": "50273e64-27c3-4290-b415-b0633993cc0a",
   "metadata": {
    "id": "1FctFjGK6Gma"
   },
   "source": [
    "```\n",
    "array([[0., 1., 2., 3., 1., 1., 1., 1.],\n",
    "       [4., 5., 6., 7., 1., 1., 1., 1.]])\n",
    "```"
   ]
  },
  {
   "cell_type": "markdown",
   "id": "96d6531c-9751-492b-abbe-3019779e6ee6",
   "metadata": {
    "id": "cO0UywATXy3j"
   },
   "source": [
    "### Задача 19"
   ]
  },
  {
   "cell_type": "markdown",
   "id": "b716d3f3-6fa4-4762-b0c6-8e2c5d50bcdd",
   "metadata": {
    "id": "hR0sTWRt6PzD"
   },
   "source": [
    "Сохраните в отдельную переменную второй столбец (столбец с индексом 1) из данного вам двумерного массива.\n",
    "\n",
    "**Примечание:** при вырезании столбца из матрицы, у вас получится одномерный numpy-array, а не двумерная матрица с одним столбцом!"
   ]
  },
  {
   "cell_type": "code",
   "execution_count": 51,
   "id": "fd2db6e5-5431-4c6e-8447-04c339eaaf41",
   "metadata": {
    "colab": {
     "base_uri": "https://localhost:8080/"
    },
    "executionInfo": {
     "elapsed": 925,
     "status": "ok",
     "timestamp": 1665647298007,
     "user": {
      "displayName": "Кирилл Архаров",
      "userId": "16244736257163698527"
     },
     "user_tz": -180
    },
    "id": "OiF6PNLaXy3j",
    "outputId": "ccb4a795-8552-4dfc-efef-41a7f5047226"
   },
   "outputs": [
    {
     "data": {
      "text/plain": [
       "array([[ 0,  1,  2,  3],\n",
       "       [ 4,  5,  6,  7],\n",
       "       [ 8,  9, 10, 11]])"
      ]
     },
     "execution_count": 51,
     "metadata": {},
     "output_type": "execute_result"
    }
   ],
   "source": [
    "arr = np.arange(12).reshape(3, 4)\n",
    "arr"
   ]
  },
  {
   "cell_type": "code",
   "execution_count": 52,
   "id": "1f6ddf3a-12d3-43ff-81d3-e6bc727a8fad",
   "metadata": {
    "id": "p3kfwxOVXy3k"
   },
   "outputs": [
    {
     "data": {
      "text/plain": [
       "array([1, 5, 9])"
      ]
     },
     "execution_count": 52,
     "metadata": {},
     "output_type": "execute_result"
    }
   ],
   "source": [
    "sec = arr[:, 1]\n",
    "sec"
   ]
  },
  {
   "cell_type": "markdown",
   "id": "c0dc704c-25a3-4c0a-b8f9-c9ff94d35ba3",
   "metadata": {
    "id": "R5OYd2bM6WHV"
   },
   "source": [
    "```\n",
    "array([1, 5, 9])\n",
    "```"
   ]
  },
  {
   "cell_type": "markdown",
   "id": "f6530c9a-1edf-4f0f-b666-51818bf576d5",
   "metadata": {
    "id": "Kqx9ejwSXy3k"
   },
   "source": [
    "### Задача 20"
   ]
  },
  {
   "cell_type": "markdown",
   "id": "87f61a82-a3a4-4f05-a909-b892b53c2ce3",
   "metadata": {
    "id": "QV7bbrJq6gEe"
   },
   "source": [
    "Создайте массив из случайных чисел размера 3 на 4 (3 строки и 4 столбца) и сохраните его в переменную `random_array`. Найдите среднее, медиану, стандартное отклонение созданной матрицы `random_array` по строкам и по столбцам.\n",
    "\n",
    "**Вывод вашего кода** - по одной строке на среднее, медиану, и стандартное отклонение для операций по строкам и по столбцам (всего 6 строк кода)."
   ]
  },
  {
   "cell_type": "code",
   "execution_count": 53,
   "id": "759cca1f-d263-4ad7-a9bd-f4f3e095f069",
   "metadata": {
    "id": "NqnBKuG1Xy3l"
   },
   "outputs": [
    {
     "data": {
      "text/plain": [
       "(array([0.48998745, 0.34113639, 0.62322436]),\n",
       " array([0.49717952, 0.30067677, 0.70471205]),\n",
       " array([0.3273656 , 0.10026172, 0.29592473]),\n",
       " array([0.40405964, 0.66815946, 0.49670809, 0.37020375]),\n",
       " array([0.25414599, 0.78439013, 0.5401781 , 0.45418093]),\n",
       " array([0.3879613 , 0.2845148 , 0.12632101, 0.1591413 ]))"
      ]
     },
     "execution_count": 53,
     "metadata": {},
     "output_type": "execute_result"
    }
   ],
   "source": [
    "random_array = np.random.rand(3, 4)\n",
    "\n",
    "mean_rows = np.mean(random_array, axis=1)\n",
    "median_rows = np.median(random_array, axis=1)\n",
    "std_rows = np.std(random_array, axis=1)\n",
    "\n",
    "mean_cols = np.mean(random_array, axis=0)\n",
    "median_cols = np.median(random_array, axis=0)\n",
    "std_cols = np.std(random_array, axis=0)\n",
    "\n",
    "mean_rows, median_rows, std_rows, mean_cols, median_cols, std_cols"
   ]
  },
  {
   "cell_type": "markdown",
   "id": "5dbed1cb-617e-42ff-8c9a-4ec100a0027f",
   "metadata": {
    "id": "glQ2eltPXy3n"
   },
   "source": [
    "### Задача 21"
   ]
  },
  {
   "cell_type": "markdown",
   "id": "96f677e2-3814-44cc-8aa9-c6c03598d661",
   "metadata": {
    "id": "mtfTZjEh7bbA"
   },
   "source": [
    "Найдите средние значения по строкам у созданной в 21-ой задаче матрицы `random_array`. Вычтите полученные средние значения из соответствующих строк изначальной матрицы `random_array`. Проверьте, что после вычитания средних, среднее по каждой строке стало равно 0."
   ]
  },
  {
   "cell_type": "code",
   "execution_count": 54,
   "id": "fca5aef1-5892-4700-a893-842385c22ba0",
   "metadata": {
    "id": "NhGpsNl_Xy3n"
   },
   "outputs": [
    {
     "data": {
      "text/plain": [
       "(array([[0.26436894, 0.23658858, 0.69064225, 0.89198727],\n",
       "        [0.90329342, 0.36796649, 0.65662587, 0.87730069],\n",
       "        [0.38966238, 0.72306106, 0.52899024, 0.24952275]]),\n",
       " array([0.52089676, 0.70129662, 0.47280911]),\n",
       " array([[-0.25652782, -0.28430818,  0.16974549,  0.37109051],\n",
       "        [ 0.2019968 , -0.33333013, -0.04467075,  0.17600407],\n",
       "        [-0.08314673,  0.25025195,  0.05618113, -0.22328635]]),\n",
       " array([2.77555756e-17, 5.55111512e-17, 2.77555756e-17]))"
      ]
     },
     "execution_count": 54,
     "metadata": {},
     "output_type": "execute_result"
    }
   ],
   "source": [
    "random_array = np.random.rand(3, 4)\n",
    "\n",
    "mean_rows = np.mean(random_array, axis=1)\n",
    "\n",
    "normalized_array = random_array - mean_rows[:, np.newaxis]\n",
    "\n",
    "mean_normalized_rows = np.mean(normalized_array, axis=1)\n",
    "\n",
    "random_array, mean_rows, normalized_array, mean_normalized_rows"
   ]
  },
  {
   "cell_type": "markdown",
   "id": "72e09b44-8f1b-4efc-b866-c02aa548f9c1",
   "metadata": {
    "id": "GvOsRYmHXy3o"
   },
   "source": [
    "### Задача 22"
   ]
  },
  {
   "cell_type": "markdown",
   "id": "0de8b7d4-4277-43a2-994e-11efe2dd4b97",
   "metadata": {
    "id": "OklwSdgN7nHz"
   },
   "source": [
    "Запрограммируйте вычисление следующей формулы с помощью numpy:\n",
    "\n",
    "$$\n",
    "y = x + 2\\sqrt{x} + 8 \\cos (\\frac{x^2}{5})\n",
    "$$"
   ]
  },
  {
   "cell_type": "code",
   "execution_count": 55,
   "id": "3ad1b345-b47d-4c33-acc5-16db41722bda",
   "metadata": {
    "id": "ks2QiYbdXy3o"
   },
   "outputs": [],
   "source": [
    "x = np.linspace(0, 10, 100)\n",
    "y = x + 2 * np.sqrt(x) + 8 * np.cos(x**2 / 5)"
   ]
  },
  {
   "cell_type": "markdown",
   "id": "15744b0b-22d9-48d9-afe9-bf861c90a0e5",
   "metadata": {},
   "source": [
    "И постройте ее график (достаточно запустить ячейку с кодом ниже)"
   ]
  },
  {
   "cell_type": "code",
   "execution_count": 57,
   "id": "9d01c374-7e8d-47c9-b1c8-35b10bface4d",
   "metadata": {
    "colab": {
     "base_uri": "https://localhost:8080/",
     "height": 268
    },
    "executionInfo": {
     "elapsed": 543,
     "status": "ok",
     "timestamp": 1665647339224,
     "user": {
      "displayName": "Кирилл Архаров",
      "userId": "16244736257163698527"
     },
     "user_tz": -180
    },
    "id": "AwpXTRstXy3o",
    "outputId": "f373c9fe-e955-45dd-9cc0-844d04d23f8e"
   },
   "outputs": [
    {
     "data": {
      "image/png": "[encoded data removed]",
      "text/plain": [
       "<Figure size 640x480 with 1 Axes>"
      ]
     },
     "metadata": {},
     "output_type": "display_data"
    },
    {
     "data": {
      "image/png": "[encoded data removed]",
      "text/plain": [
       "<Figure size 640x480 with 1 Axes>"
      ]
     },
     "metadata": {},
     "output_type": "display_data"
    }
   ],
   "source": [
    "from matplotlib import pyplot as plt\n",
    "\n",
    "plt.plot(x, y)\n",
    "plt.show()\n",
    "plt.plot(x, y)\n",
    "plt.xlabel('x')\n",
    "plt.ylabel('y')\n",
    "plt.title('График функции y = x + 2sqrt(x) + 8cos(x^2 / 5)')\n",
    "plt.grid(True)\n",
    "plt.show()"
   ]
  },
  {
   "cell_type": "markdown",
   "id": "be3c82fc-3083-4b98-941a-fa9818fd065c",
   "metadata": {
    "id": "A48P3O7hdyS2"
   },
   "source": [
    "### Задача 23"
   ]
  },
  {
   "cell_type": "markdown",
   "id": "eb932771-d321-42b6-9876-8e2ab196420c",
   "metadata": {
    "id": "nbX3f0G-8Wt9"
   },
   "source": [
    "Создайте случайный вектор размера 10, и замените в нем максимальное значение на 0."
   ]
  },
  {
   "cell_type": "code",
   "execution_count": 58,
   "id": "39b1fa25-b0ab-4e88-bde3-f2f5bd98227a",
   "metadata": {},
   "outputs": [
    {
     "data": {
      "text/plain": [
       "array([0.        , 0.79118556, 0.6869322 , 0.90921364, 0.71204688,\n",
       "       0.26692377, 0.7424726 , 0.28644666, 0.27358695, 0.52592156])"
      ]
     },
     "execution_count": 58,
     "metadata": {},
     "output_type": "execute_result"
    }
   ],
   "source": [
    "vector = np.random.rand(10)\n",
    "\n",
    "vector[vector.argmax()] = 0\n",
    "\n",
    "vector"
   ]
  },
  {
   "cell_type": "markdown",
   "id": "a95cfbd0-1466-4786-91dd-74537d308810",
   "metadata": {
    "id": "oKNt01d0eGjv"
   },
   "source": [
    "### Задача 24"
   ]
  },
  {
   "cell_type": "markdown",
   "id": "9f0ffa75-e891-410e-9b93-f857563209da",
   "metadata": {
    "id": "0feXiyl18KCm"
   },
   "source": [
    "Найдите общие элементы двух numpy массивов (воспользуйтесь готовой функцией)."
   ]
  },
  {
   "cell_type": "code",
   "execution_count": 60,
   "id": "26516d1c-7760-4bc3-bc58-82b763a6dfbd",
   "metadata": {
    "id": "J7azboiPeTt4"
   },
   "outputs": [],
   "source": [
    "arr1 = np.random.randint(0, 10, 10)\n",
    "arr2 = np.random.randint(0, 10, 10)"
   ]
  },
  {
   "cell_type": "code",
   "execution_count": 62,
   "id": "061de1e1-6e62-4216-a5c3-6b249aacb493",
   "metadata": {
    "id": "zmFtUrav8MwE"
   },
   "outputs": [
    {
     "name": "stdout",
     "output_type": "stream",
     "text": [
      "[2 0 4 4 4 3 0 1 5 1]\n",
      "[7 5 4 7 4 8 1 1 4 8]\n",
      "[1 4 5]\n"
     ]
    }
   ],
   "source": [
    "print(arr1)\n",
    "print(arr2)\n",
    "arr3 = np.intersect1d(arr1, arr2)\n",
    "print(arr3)"
   ]
  },
  {
   "cell_type": "markdown",
   "id": "c40ef255-16a2-4cc7-bdec-ec0579a147ea",
   "metadata": {
    "id": "UeJ5Ogg_eOVZ"
   },
   "source": [
    "### Задача 25"
   ]
  },
  {
   "cell_type": "markdown",
   "id": "d7726bf4-f20f-415c-b242-a7d8f5ffb8c0",
   "metadata": {
    "id": "1gpYauqG7_8O"
   },
   "source": [
    "Пусть мы имеем 2 массива (заданы ниже в коде). Требуется создать массив, который содержит в себе `True` на соответствующей позиции, если элемент с четным индексом 1-го массива больше соответствующего элемента 2-го и `True`, если нечетный (по индексу) элемент 2-го больше элемента 1-го. В противном случае `False`.\n",
    "\n",
    "Реализовать задачу с помощью numpy.\n",
    "\n",
    "Пример массивов и результата:\n",
    "\n",
    "```\n",
    "a = [7, 3, 5, 9, 2, 5, 4, 8, 9, 0]\n",
    "b = [2, 8, 6, 7, 1, 3, 2, 9, 5, 1]\n",
    "res = [ True, True, False, False, True, False, True, True, True, True]\n",
    "```\n",
    "\n",
    "Вы можете сделать задачу с помощью слайсинга или комбинации функций `np.arange` и `np.where`."
   ]
  },
  {
   "cell_type": "code",
   "execution_count": 63,
   "id": "f7d15056-4816-4a29-95f5-2de0dcccf5e7",
   "metadata": {
    "id": "sTb3Ht9aeN6U"
   },
   "outputs": [
    {
     "name": "stdout",
     "output_type": "stream",
     "text": [
      "[1 5 6 7 8 4 7 8 1 5]\n",
      "[3 4 1 8 4 4 0 9 5 0]\n"
     ]
    }
   ],
   "source": [
    "a = np.random.randint(0, 10, 10)\n",
    "b = np.random.randint(0, 10, 10)\n",
    "print(a)\n",
    "print(b)"
   ]
  },
  {
   "cell_type": "code",
   "execution_count": 65,
   "id": "4051b5b9-6ee6-454d-a295-fd0f056ae8e9",
   "metadata": {
    "id": "y3KF6ELw6IRj"
   },
   "outputs": [
    {
     "data": {
      "text/plain": [
       "array([ True, False,  True,  True,  True, False, False, False,  True,\n",
       "       False])"
      ]
     },
     "execution_count": 65,
     "metadata": {},
     "output_type": "execute_result"
    }
   ],
   "source": [
    "condition_even = (a % 2 == 0) & (a > b)\n",
    "condition_odd = (a % 2 != 0) & (b > a)\n",
    "res = np.where(condition_even | condition_odd, True, False)\n",
    "\n",
    "res"
   ]
  },
  {
   "cell_type": "markdown",
   "id": "57d5fa41-6b5d-40a4-a619-834d35287b61",
   "metadata": {
    "id": "iy8oPUa7ebvV"
   },
   "source": [
    "### Задача 26"
   ]
  },
  {
   "cell_type": "markdown",
   "id": "64807933-aa85-4252-939c-2a4fce12c827",
   "metadata": {
    "id": "CP639-l58QFH"
   },
   "source": [
    "Создайте массив размера 10 со значениями от 0 до 1 (интервал между значениями равномерный), не включая концы.\n",
    "\n",
    "*Примечание:* см. `np.linspace` + слайсинг"
   ]
  },
  {
   "cell_type": "code",
   "execution_count": 66,
   "id": "58f26e7d-4c78-44dd-a91e-522f28fa2c54",
   "metadata": {
    "id": "MCEXaem0fZym"
   },
   "outputs": [
    {
     "name": "stdout",
     "output_type": "stream",
     "text": [
      "[0.09090909 0.18181818 0.27272727 0.36363636 0.45454545 0.54545455\n",
      " 0.63636364 0.72727273 0.81818182 0.90909091]\n"
     ]
    }
   ],
   "source": [
    "full_array = np.linspace(0, 1, 12)\n",
    "\n",
    "result_array = full_array[1:-1]\n",
    "\n",
    "print(result_array)"
   ]
  },
  {
   "cell_type": "markdown",
   "id": "421b5cdc-0405-4d73-a7fa-2514ef1b867f",
   "metadata": {
    "id": "gnrh4ss9elZc"
   },
   "source": [
    "### Задача 27"
   ]
  },
  {
   "cell_type": "markdown",
   "id": "00f15021-cce2-4ecc-943f-5cc379a0d3a0",
   "metadata": {
    "id": "stz-TvN67yPZ"
   },
   "source": [
    "**Реализуйте задачу с и без помощи numpy, сравните время выполнения.**\n",
    "\n",
    "Написать две функции `py_mean(n)` и `np_mean(n)`, каждая из которых принимает на вход целое число `n` - длину последовательности, генерирует ее (использовать `range` и `np.arange`), а затем находит и возвращает среднее арифметическое ее членов (вам помогут `sum` и `np.mean`).\n",
    "\n",
    "Важно, что в одном случае вы должны использоваться только чистый Python, а в случае с numpy работать нужно **только** с его абстракциями (от создания массива и заканчивая вычислением).\n",
    "\n",
    "Произведите измерения для различных размеров выборки: `1e3, 1e4, 1e5, 1e6, 1e7`."
   ]
  },
  {
   "cell_type": "code",
   "execution_count": 68,
   "id": "59098409-0c5c-4036-9676-62284ff6a362",
   "metadata": {
    "id": "hvmLROE2d84h"
   },
   "outputs": [
    {
     "name": "stdout",
     "output_type": "stream",
     "text": [
      "Указывайте %%time в начале клетки, чтобы посмотреть время её выполнения\n",
      "CPU times: total: 0 ns\n",
      "Wall time: 0 ns\n"
     ]
    }
   ],
   "source": [
    "%%time\n",
    "print('Указывайте %%time в начале клетки, чтобы посмотреть время её выполнения')"
   ]
  },
  {
   "cell_type": "code",
   "execution_count": 69,
   "id": "b0f17a73-6312-487c-a33b-df4f57bbd9ba",
   "metadata": {
    "id": "O1k2LTh9fJq5"
   },
   "outputs": [],
   "source": [
    "def py_mean(n):\n",
    "    seq = range(n)\n",
    "    return sum(seq) / n"
   ]
  },
  {
   "cell_type": "code",
   "execution_count": 70,
   "id": "4c28cca7-0fe4-4e1d-acf8-cb10180c32c7",
   "metadata": {
    "id": "0y0FEG9UP20G"
   },
   "outputs": [],
   "source": [
    "def np_mean(n):\n",
    "    seq = np.arange(n)\n",
    "    return np.mean(seq)"
   ]
  },
  {
   "cell_type": "code",
   "execution_count": 71,
   "id": "d2a78109-cc61-4a94-8125-04042021393e",
   "metadata": {},
   "outputs": [
    {
     "name": "stdout",
     "output_type": "stream",
     "text": [
      "Размер выборки: 1000\n",
      "Python:\n",
      "499.5\n",
      "CPU times: total: 0 ns\n",
      "Wall time: 0 ns\n",
      "NumPy:\n",
      "499.5\n",
      "CPU times: total: 0 ns\n",
      "Wall time: 0 ns\n",
      "\n",
      "Размер выборки: 10000\n",
      "Python:\n",
      "4999.5\n",
      "CPU times: total: 0 ns\n",
      "Wall time: 480 µs\n",
      "NumPy:\n",
      "4999.5\n",
      "CPU times: total: 0 ns\n",
      "Wall time: 520 µs\n",
      "\n",
      "Размер выборки: 100000\n",
      "Python:\n",
      "49999.5\n",
      "CPU times: total: 0 ns\n",
      "Wall time: 2.01 ms\n",
      "NumPy:\n",
      "49999.5\n",
      "CPU times: total: 0 ns\n",
      "Wall time: 0 ns\n",
      "\n",
      "Размер выборки: 1000000\n",
      "Python:\n",
      "499999.5\n",
      "CPU times: total: 46.9 ms\n",
      "Wall time: 43 ms\n",
      "NumPy:\n",
      "499999.5\n",
      "CPU times: total: 0 ns\n",
      "Wall time: 3 ms\n",
      "\n",
      "Размер выборки: 10000000\n",
      "Python:\n",
      "4999999.5\n",
      "CPU times: total: 344 ms\n",
      "Wall time: 348 ms\n",
      "NumPy:\n",
      "4999999.5\n",
      "CPU times: total: 15.6 ms\n",
      "Wall time: 17 ms\n",
      "\n"
     ]
    }
   ],
   "source": [
    "sizes = [1e3, 1e4, 1e5, 1e6, 1e7]\n",
    "\n",
    "for size in sizes:\n",
    "    size = int(size)\n",
    "    print(f\"Размер выборки: {size}\")\n",
    "    print(\"Python:\")\n",
    "    %time print(py_mean(size))\n",
    "    print(\"NumPy:\")\n",
    "    %time print(np_mean(size))\n",
    "    print()"
   ]
  },
  {
   "cell_type": "markdown",
   "id": "27f9766b-9b4c-4248-a1fb-b914d307ccb5",
   "metadata": {},
   "source": [
    "# Часть 3. Файлы (2.5 балла)"
   ]
  },
  {
   "cell_type": "markdown",
   "id": "ca196acd-78b4-45b8-9e07-311268d9db69",
   "metadata": {},
   "source": [
    "Дальнейшие задачи лучше выполнить локально (и не удалять вывод ячеек)"
   ]
  },
  {
   "cell_type": "markdown",
   "id": "84211409-4254-480c-a9a6-e8025fce44a9",
   "metadata": {},
   "source": [
    "Скачайте архив по ссылке и положите в директорию с ноутбуком.\n",
    "\n",
    "- https://drive.google.com/file/d/1-OaQektHIr8v2AYC5ac9J8zXULBngPa9/view?usp=sharing"
   ]
  },
  {
   "cell_type": "markdown",
   "id": "9c5abf04-b9e2-40e6-ae25-b374bf31b29c",
   "metadata": {},
   "source": [
    "## Задача 28 (0.2)"
   ]
  },
  {
   "cell_type": "markdown",
   "id": "cb0374e9-d9b6-4ec8-8a4b-22c94dd5706a",
   "metadata": {},
   "source": [
    "С помощью `pathlib` убедитесь, что архив есть."
   ]
  },
  {
   "cell_type": "code",
   "execution_count": 1,
   "id": "dc401087-4126-47f9-975d-041d3096d6a9",
   "metadata": {},
   "outputs": [
    {
     "name": "stdout",
     "output_type": "stream",
     "text": [
      "File exists.\n"
     ]
    }
   ],
   "source": [
    "from pathlib import Path\n",
    "\n",
    "file_path = Path(\"roll.zip\")\n",
    "if file_path.exists():\n",
    "    print(\"File exists.\")\n",
    "else:\n",
    "    print(\"File does not exist.\")"
   ]
  },
  {
   "cell_type": "markdown",
   "id": "1e73af8d-fa1f-4b23-8f69-32f6e46353ac",
   "metadata": {},
   "source": [
    "## Задача 29 (0.8)"
   ]
  },
  {
   "cell_type": "markdown",
   "id": "a27f6cca-a274-4481-a271-6a8c5bab718e",
   "metadata": {},
   "source": [
    "Найдите способ разархивировать его с помощью кода (Python или команды в терминале). Процесс разархивации может занять время."
   ]
  },
  {
   "cell_type": "code",
   "execution_count": 7,
   "id": "0fc2e99c-5570-4121-b387-a2d476b2a02a",
   "metadata": {},
   "outputs": [],
   "source": [
    "import os"
   ]
  },
  {
   "cell_type": "code",
   "execution_count": 80,
   "id": "32ffcd22-2a39-4dce-b913-ad8c9496ee64",
   "metadata": {},
   "outputs": [
    {
     "data": {
      "text/plain": [
       "'C:\\\\Users\\\\A'"
      ]
     },
     "execution_count": 80,
     "metadata": {},
     "output_type": "execute_result"
    }
   ],
   "source": [
    "os.getcwd()"
   ]
  },
  {
   "cell_type": "code",
   "execution_count": 108,
   "id": "0a4927e5-b9c4-45a1-b89c-3c3f8a2858f2",
   "metadata": {},
   "outputs": [
    {
     "data": {
      "text/plain": [
       "'C:\\\\Users\\\\A\\\\oleg_mongol\\\\dir2\\\\dir2'"
      ]
     },
     "execution_count": 108,
     "metadata": {},
     "output_type": "execute_result"
    }
   ],
   "source": [
    "os.chdir('dir2')\n",
    "os.getcwd()"
   ]
  },
  {
   "cell_type": "code",
   "execution_count": 111,
   "id": "bc48a827-6092-4395-909a-6bda870b2029",
   "metadata": {},
   "outputs": [],
   "source": [
    "f = open('file1.txt','r')"
   ]
  },
  {
   "cell_type": "code",
   "execution_count": 112,
   "id": "13f5d3aa-853d-431c-85b5-c99b86b3132e",
   "metadata": {},
   "outputs": [
    {
     "data": {
      "text/plain": [
       "'0'"
      ]
     },
     "execution_count": 112,
     "metadata": {},
     "output_type": "execute_result"
    }
   ],
   "source": [
    "f.read()"
   ]
  },
  {
   "cell_type": "code",
   "execution_count": 98,
   "id": "deedb9d5-ed93-4f74-8739-8feccd3888f4",
   "metadata": {},
   "outputs": [
    {
     "data": {
      "text/plain": [
       "['file0.txt', 'file1.txt', 'file2.txt']"
      ]
     },
     "execution_count": 98,
     "metadata": {},
     "output_type": "execute_result"
    }
   ],
   "source": [
    "os.listdir()"
   ]
  },
  {
   "cell_type": "code",
   "execution_count": 81,
   "id": "d15a0942-6151-4c3e-b998-f1cd494d39a5",
   "metadata": {},
   "outputs": [
    {
     "name": "stderr",
     "output_type": "stream",
     "text": [
      "Разархивирование: 100%|██████████████████████████████████████████████████| 3687128/3687128 [25:59<00:00, 2364.70file/s]"
     ]
    },
    {
     "name": "stdout",
     "output_type": "stream",
     "text": [
      "Разархивирование завершено за 1605.94 секунд\n"
     ]
    },
    {
     "name": "stderr",
     "output_type": "stream",
     "text": [
      "\n"
     ]
    }
   ],
   "source": [
    "import zipfile\n",
    "import os\n",
    "from tqdm import tqdm\n",
    "import time\n",
    "\n",
    "zip_path = r'C:\\Users\\A\\roll.zip'\n",
    "extract_path = r'C:\\Users\\A\\oleg_mongol'\n",
    "\n",
    "start_time = time.time()\n",
    "\n",
    "with zipfile.ZipFile(zip_path, 'r') as zip_ref:\n",
    "    file_list = zip_ref.infolist()\n",
    "    \n",
    "    for file in tqdm(file_list, desc=\"Разархивирование\", unit=\"file\"):\n",
    "        zip_ref.extract(file, extract_path)\n",
    "\n",
    "end_time = time.time()\n",
    "print(f\"Разархивирование завершено за {end_time - start_time:.2f} секунд\")"
   ]
  },
  {
   "cell_type": "markdown",
   "id": "dc5e0734-39a5-4037-878d-3c1af68e1c62",
   "metadata": {},
   "source": [
    "## Задача 30* (2)"
   ]
  },
  {
   "cell_type": "markdown",
   "id": "ebc3b4fe-7198-42df-8fc9-b66c459da647",
   "metadata": {},
   "source": [
    "Изучите структуру распакованного архива и полученных файлов (конечно же с помощью кода). После изучения соберите массив `arrgb`."
   ]
  },
  {
   "cell_type": "code",
   "execution_count": 1,
   "id": "ccdc174d-a485-458f-9d28-b786ca60fbfa",
   "metadata": {
    "tags": []
   },
   "outputs": [],
   "source": [
    "import os\n",
    "import numpy as np\n",
    "\n",
    "data_path = r'C:\\Users\\A\\oleg_mongol'\n",
    "\n",
    "def numeric_sort_key(folder_name):\n",
    "    return int(folder_name.replace('dir', ''))\n",
    "\n",
    "folders_level1 = sorted([f for f in os.listdir(data_path) if os.path.isdir(os.path.join(data_path, f))], key=numeric_sort_key)\n",
    "num_folders_level1 = len(folders_level1)\n",
    "\n",
    "example_folder1_path = os.path.join(data_path, folders_level1[0])\n",
    "folders_level2 = sorted([f for f in os.listdir(example_folder1_path) if os.path.isdir(os.path.join(example_folder1_path, f))], key=numeric_sort_key)\n",
    "num_folders_level2 = len(folders_level2)\n",
    "\n",
    "arrgb = np.zeros((num_folders_level1, num_folders_level2, 3), dtype=int)\n",
    "\n",
    "for i, folder1 in enumerate(folders_level1):\n",
    "    folder1_path = os.path.join(data_path, folder1)\n",
    "    \n",
    "    if os.path.isdir(folder1_path):\n",
    "        folders_level2 = sorted([f for f in os.listdir(folder1_path) if os.path.isdir(os.path.join(folder1_path, f))], key=numeric_sort_key)\n",
    "        \n",
    "        for j, folder2 in enumerate(folders_level2):\n",
    "            folder2_path = os.path.join(folder1_path, folder2)\n",
    "            \n",
    "            if os.path.isdir(folder2_path):\n",
    "                rgb_values = [0, 0, 0]\n",
    "                \n",
    "                for k, color_file in enumerate(['file0.txt', 'file1.txt', 'file2.txt']):\n",
    "                    file_path = os.path.join(folder2_path, color_file)\n",
    "                    if os.path.isfile(file_path):\n",
    "                        with open(file_path, 'r') as file:\n",
    "                            try:\n",
    "                                rgb_values[k] = int(file.readline().strip())\n",
    "                            except ValueError:\n",
    "                                rgb_values[k] = 0\n",
    "                \n",
    "                arrgb[i, j] = rgb_values"
   ]
  },
  {
   "cell_type": "markdown",
   "id": "afc7b3e7-82fb-473a-b44c-ce3182444e64",
   "metadata": {},
   "source": [
    "__Это я код неправильно написал, что у меня постоянно выбрасывало нехватку памяти или с браузером проблема? Можете, пожалуйста, сказать?__"
   ]
  },
  {
   "cell_type": "code",
   "execution_count": 2,
   "id": "6cf63718-abe2-48bc-a671-588443c6efc9",
   "metadata": {},
   "outputs": [
    {
     "data": {
      "image/png": "[encoded data removed]",
      "text/plain": [
       "<Figure size 640x480 with 1 Axes>"
      ]
     },
     "metadata": {},
     "output_type": "display_data"
    }
   ],
   "source": [
    "import matplotlib.pyplot as plt\n",
    "\n",
    "plt.imshow(arrgb);"
   ]
  },
  {
   "cell_type": "markdown",
   "id": "a4196915-5796-4147-89d7-d3d0f7be8c5d",
   "metadata": {},
   "source": [
    "Если вы все сделали правильно, то после запуска следующей ячейки вас ждет приз:"
   ]
  },
  {
   "cell_type": "code",
   "execution_count": null,
   "id": "7da258ac-c31e-4086-a6cd-72b4c655a785",
   "metadata": {},
   "outputs": [],
   "source": []
  }
 ],
 "metadata": {
  "kernelspec": {
   "display_name": "Python 3 (ipykernel)",
   "language": "python",
   "name": "python3"
  },
  "language_info": {
   "codemirror_mode": {
    "name": "ipython",
    "version": 3
   },
   "file_extension": ".py",
   "mimetype": "text/x-python",
   "name": "python",
   "nbconvert_exporter": "python",
   "pygments_lexer": "ipython3",
   "version": "3.11.7"
  }
 },
 "nbformat": 4,
 "nbformat_minor": 5
}
